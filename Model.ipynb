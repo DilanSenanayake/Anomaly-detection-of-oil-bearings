{
  "cells": [
    {
      "cell_type": "code",
      "execution_count": null,
      "metadata": {
        "id": "J98o_-FLlKU6"
      },
      "outputs": [],
      "source": [
        "import numpy as np\n",
        "import pandas as pd\n",
        "import torch\n",
        "import torch.nn as nn\n",
        "from torch.utils.data import DataLoader\n",
        "from torch.optim import Adam\n",
        "import torch.nn.functional as F\n",
        "from sklearn.preprocessing import StandardScaler\n",
        "from sklearn.preprocessing import MinMaxScaler"
      ]
    },
    {
      "cell_type": "code",
      "execution_count": null,
      "metadata": {
        "colab": {
          "base_uri": "https://localhost:8080/"
        },
        "id": "U8OYclpAos4C",
        "outputId": "c56ee870-575f-4753-d857-052e42e1a534"
      },
      "outputs": [
        {
          "output_type": "stream",
          "name": "stdout",
          "text": [
            "Mounted at /content/drive\n"
          ]
        }
      ],
      "source": [
        "from google.colab import drive\n",
        "drive.mount('/content/drive')"
      ]
    },
    {
      "cell_type": "code",
      "execution_count": null,
      "metadata": {
        "id": "d7qneXvTxl-0"
      },
      "outputs": [],
      "source": [
        "dataset = pd.read_excel(\"/content/drive/MyDrive/KCCP/Good.xlsx\")\n",
        "type01 = pd.read_excel(\"/content/drive/MyDrive/KCCP/Anomaly/Type 01.xlsx\")\n",
        "type02 = pd.read_excel(\"/content/drive/MyDrive/KCCP/Anomaly/Type 02.xlsx\")\n",
        "type03 = pd.read_excel(\"/content/drive/MyDrive/KCCP/Anomaly/Type 03.xlsx\")\n"
      ]
    },
    {
      "cell_type": "code",
      "execution_count": null,
      "metadata": {
        "id": "g3woAjOYPkhH"
      },
      "outputs": [],
      "source": [
        "type1 = type01[:100000] #923400\n",
        "type2 = type02[:100000] #963200\n",
        "type3 = type03[:100000] #261400\n"
      ]
    },
    {
      "cell_type": "code",
      "execution_count": null,
      "metadata": {
        "id": "uv4OADNZNF-6"
      },
      "outputs": [],
      "source": [
        "# type 01\n",
        "type1A = np.array(type1.loc[:, 'bb10'])\n",
        "type1B = np.array(type1.loc[:, 'TNH'])\n",
        "type1C = np.array(type1.loc[:, 'DWATT'])\n",
        "type1D = np.array(type1.loc[:, 'btgj1'])\n",
        "\n",
        "# type 02\n",
        "type2A = np.array(type2.loc[:, 'bb10'])\n",
        "type2B = np.array(type2.loc[:, 'TNH'])\n",
        "type2C = np.array(type2.loc[:, 'DWATT'])\n",
        "type2D = np.array(type2.loc[:, 'btgj1'])\n",
        "\n",
        "# type 03\n",
        "type3A = np.array(type3.loc[:, 'bb10'])\n",
        "type3B = np.array(type3.loc[:, 'TNH'])\n",
        "type3C = np.array(type3.loc[:, 'DWATT'])\n",
        "type3D = np.array(type3.loc[:, 'btgj1'])\n"
      ]
    },
    {
      "cell_type": "code",
      "execution_count": null,
      "metadata": {
        "colab": {
          "base_uri": "https://localhost:8080/"
        },
        "id": "5EKWzloGXE1Q",
        "outputId": "15b8a1c7-0386-4a53-e6d0-21c9c6cfbb15"
      },
      "outputs": [
        {
          "output_type": "execute_result",
          "data": {
            "text/plain": [
              "(100000,)"
            ]
          },
          "metadata": {},
          "execution_count": 281
        }
      ],
      "source": [
        "type2A.shape"
      ]
    },
    {
      "cell_type": "code",
      "source": [
        "#apped stages\n",
        "datasetA1 = np.append(type1A,type2A, axis=0)\n",
        "datasetA1 = np.append(datasetA1, type3A, axis=0)\n",
        "\n",
        "datasetB1 = np.append(type1B, type2B, axis=0)\n",
        "datasetB1 = np.append(datasetB1, type3B, axis=0)\n",
        "\n",
        "datasetC1 = np.append(type1C,type2C, axis=0)\n",
        "datasetC1 = np.append(datasetC1, type3C, axis=0)\n",
        "\n",
        "datasetD1 = np.append(type1D,type2D, axis=0)\n",
        "datasetD1 = np.append(datasetD1, type3D, axis=0)\n",
        "\n",
        "datasetA1"
      ],
      "metadata": {
        "colab": {
          "base_uri": "https://localhost:8080/"
        },
        "id": "NqahN0E6cd-Y",
        "outputId": "dc2b9601-0766-4b2c-b05c-e381e83b993f"
      },
      "execution_count": null,
      "outputs": [
        {
          "output_type": "execute_result",
          "data": {
            "text/plain": [
              "array([0.40951368, 0.40831387, 0.40872183, ..., 0.35251439, 0.35250777,\n",
              "       0.35316712])"
            ]
          },
          "metadata": {},
          "execution_count": 310
        }
      ]
    },
    {
      "cell_type": "code",
      "execution_count": null,
      "metadata": {
        "colab": {
          "base_uri": "https://localhost:8080/"
        },
        "id": "jT4i8coJHWRR",
        "outputId": "9df23eaa-8067-47f3-da94-b1ac4f7e9d45"
      },
      "outputs": [
        {
          "output_type": "execute_result",
          "data": {
            "text/plain": [
              "(300000,)"
            ]
          },
          "metadata": {},
          "execution_count": 283
        }
      ],
      "source": [
        "datasetA1.shape"
      ]
    },
    {
      "cell_type": "code",
      "source": [
        "# Good data\n",
        "dataset = dataset[:100000]"
      ],
      "metadata": {
        "id": "BdSIKOZRZlBG"
      },
      "execution_count": null,
      "outputs": []
    },
    {
      "cell_type": "code",
      "execution_count": null,
      "metadata": {
        "id": "imfeeGcuzD--"
      },
      "outputs": [],
      "source": [
        "# Good data\n",
        "datasetA = dataset.loc[:, 'bb10']\n",
        "datasetB = dataset.loc[:, 'TNH']\n",
        "datasetC = dataset.loc[:, 'DWATT']\n",
        "datasetD = dataset.loc[:, 'btgj1']"
      ]
    },
    {
      "cell_type": "code",
      "execution_count": null,
      "metadata": {
        "colab": {
          "base_uri": "https://localhost:8080/"
        },
        "id": "ayUv8Qt50oz2",
        "outputId": "be2777b8-6404-415d-e8bb-0d281866b165"
      },
      "outputs": [
        {
          "output_type": "execute_result",
          "data": {
            "text/plain": [
              "(100000,)"
            ]
          },
          "metadata": {},
          "execution_count": 313
        }
      ],
      "source": [
        "GoodDataA = np.array(datasetA)\n",
        "GoodDataB = np.array(datasetB)\n",
        "GoodDataC = np.array(datasetC)\n",
        "GoodDataD = np.array(datasetD)\n",
        "GoodDataA.shape"
      ]
    },
    {
      "cell_type": "code",
      "execution_count": null,
      "metadata": {
        "id": "D_DgkqcuETHX"
      },
      "outputs": [],
      "source": [
        "AnomalyDataA = datasetA1\n",
        "AnomalyDataB = datasetB1\n",
        "AnomalyDataC = datasetC1\n",
        "AnomalyDataD = datasetD1"
      ]
    },
    {
      "cell_type": "code",
      "execution_count": null,
      "metadata": {
        "id": "k1BhafVkbQgu"
      },
      "outputs": [],
      "source": [
        "# without scalar\n",
        "\n",
        "GoodDataA_scaled = GoodDataA\n",
        "GoodDataB_scaled = GoodDataB\n",
        "GoodDataC_scaled = GoodDataC\n",
        "GoodDataD_scaled = GoodDataD\n",
        "\n",
        "AnomalyDataA_scaled = AnomalyDataA\n",
        "AnomalyDataB_scaled = AnomalyDataB\n",
        "AnomalyDataC_scaled = AnomalyDataC\n",
        "AnomalyDataD_scaled = AnomalyDataD"
      ]
    },
    {
      "cell_type": "code",
      "source": [
        "GoodDataA"
      ],
      "metadata": {
        "id": "xtQ51sxo5-id",
        "colab": {
          "base_uri": "https://localhost:8080/"
        },
        "outputId": "49e576bb-e2b2-4040-eddd-451394624b9e"
      },
      "execution_count": null,
      "outputs": [
        {
          "output_type": "execute_result",
          "data": {
            "text/plain": [
              "array([0.06551117, 0.06551506, 0.06633957, ..., 0.16205481, 0.16042608,\n",
              "       0.16083635])"
            ]
          },
          "metadata": {},
          "execution_count": 289
        }
      ]
    },
    {
      "cell_type": "code",
      "execution_count": null,
      "metadata": {
        "colab": {
          "base_uri": "https://localhost:8080/"
        },
        "id": "gEl1JmlBCVB-",
        "outputId": "3c6ad894-90cf-4075-9edb-f0f4527805d8"
      },
      "outputs": [
        {
          "output_type": "execute_result",
          "data": {
            "text/plain": [
              "(4000,)"
            ]
          },
          "metadata": {},
          "execution_count": 316
        }
      ],
      "source": [
        "# Labels\n",
        "labels1 = []\n",
        "for k in range(1000): # 1140\n",
        "  labels1.append(0)\n",
        "for l in range(1000): # 9234\n",
        "  labels1.append(1)\n",
        "for o in range(1000): # 9632\n",
        "  labels1.append(2)\n",
        "for p in range(1000): # 2614\n",
        "  labels1.append(3)\n",
        "labels1 = np.array(labels1)\n",
        "labels1.shape"
      ]
    },
    {
      "cell_type": "code",
      "execution_count": null,
      "metadata": {
        "colab": {
          "base_uri": "https://localhost:8080/"
        },
        "id": "13ATmwZ03CTm",
        "outputId": "290fd64c-1a99-46ac-c881-4eb76d5159e8"
      },
      "outputs": [
        {
          "output_type": "execute_result",
          "data": {
            "text/plain": [
              "array([[0.05846722, 0.05850233, 0.06594525, ..., 0.05123111, 0.05124517,\n",
              "        0.05515179],\n",
              "       [0.0514768 , 0.05516746, 0.05518266, ..., 0.04769763, 0.04229791,\n",
              "        0.04362287],\n",
              "       [0.04398801, 0.03663978, 0.03661442, ..., 0.04742807, 0.05139535,\n",
              "        0.05139798],\n",
              "       ...,\n",
              "       [0.92246442, 0.92611553, 0.92242891, ..., 0.95551987, 0.94815887,\n",
              "        0.94081158],\n",
              "       [0.94446242, 0.93339704, 0.94073921, ..., 0.92243819, 0.92245594,\n",
              "        0.9188273 ],\n",
              "       [0.92253369, 0.92621144, 0.93355092, ..., 0.92997406, 0.91527142,\n",
              "        0.91897499]])"
            ]
          },
          "metadata": {},
          "execution_count": 317
        }
      ],
      "source": [
        "# A - bb10\n",
        "\n",
        "a = min(GoodDataA_scaled)\n",
        "l = max(GoodDataA_scaled)-min(GoodDataA_scaled)\n",
        "\n",
        "r = 0\n",
        "for i in range(1000):\n",
        "  p = []\n",
        "  for j in range(100):\n",
        "    p.append((GoodDataA_scaled[r]-a)/l)\n",
        "    r = r + 1\n",
        "  if i == 0:\n",
        "    dataA = np.array([p])\n",
        "  else:\n",
        "    dataA = np.append(dataA, [p], axis = 0)\n",
        "dataA"
      ]
    },
    {
      "cell_type": "code",
      "source": [
        "dataA.shape"
      ],
      "metadata": {
        "colab": {
          "base_uri": "https://localhost:8080/"
        },
        "id": "7x_sDvGkbml5",
        "outputId": "0d01c4f4-8ed8-49e2-f801-2d28724bf5ab"
      },
      "execution_count": null,
      "outputs": [
        {
          "output_type": "execute_result",
          "data": {
            "text/plain": [
              "(1000, 100)"
            ]
          },
          "metadata": {},
          "execution_count": 318
        }
      ]
    },
    {
      "cell_type": "code",
      "execution_count": null,
      "metadata": {
        "id": "qxoe8-ZPJ2I2",
        "colab": {
          "base_uri": "https://localhost:8080/"
        },
        "outputId": "548c0333-42f6-41b3-cabb-0bf205a11846"
      },
      "outputs": [
        {
          "output_type": "execute_result",
          "data": {
            "text/plain": [
              "array([[0.        , 0.00405525, 0.00773692, ..., 0.35692588, 0.36076976,\n",
              "        0.36350275],\n",
              "       [0.36703205, 0.37025167, 0.37309772, ..., 0.66938163, 0.67132323,\n",
              "        0.67487218],\n",
              "       [0.67789519, 0.68099688, 0.68351356, ..., 0.8395547 , 0.83918108,\n",
              "        0.83838972],\n",
              "       ...,\n",
              "       [0.8311296 , 0.83145399, 0.83139008, ..., 0.83190621, 0.83202914,\n",
              "        0.83255017],\n",
              "       [0.83228962, 0.83300729, 0.83300729, ..., 0.84305449, 0.84402773,\n",
              "        0.84493707],\n",
              "       [0.84472574, 0.84523202, 0.84617086, ..., 0.85271828, 0.85252164,\n",
              "        0.85213333]])"
            ]
          },
          "metadata": {},
          "execution_count": 319
        }
      ],
      "source": [
        "# B - TNH\n",
        "\n",
        "a = min(GoodDataB_scaled)\n",
        "l = max(GoodDataB_scaled)-min(GoodDataB_scaled)\n",
        "\n",
        "r = 0\n",
        "for i in range(1000):\n",
        "  p = []\n",
        "  for j in range(100):\n",
        "    p.append((GoodDataB_scaled[r]-a)/l)\n",
        "    r = r + 1\n",
        "  if i == 0:\n",
        "    dataB = np.array([p])\n",
        "  else:\n",
        "    dataB = np.append(dataB, [p], axis = 0)\n",
        "dataB"
      ]
    },
    {
      "cell_type": "code",
      "execution_count": null,
      "metadata": {
        "id": "Q5_PT4wBJ_Et",
        "colab": {
          "base_uri": "https://localhost:8080/"
        },
        "outputId": "c5399d13-20c5-459e-e938-fca59eadd222"
      },
      "outputs": [
        {
          "output_type": "execute_result",
          "data": {
            "text/plain": [
              "array([[3.07077663e-04, 2.45151305e-04, 3.25539066e-04, ...,\n",
              "        3.68331882e-04, 2.45016877e-04, 2.44927259e-04],\n",
              "       [4.30168621e-04, 1.82821664e-04, 4.30079003e-04, ...,\n",
              "        3.68645547e-04, 2.61372246e-04, 3.68242264e-04],\n",
              "       [1.82642427e-04, 4.46389563e-04, 1.82418381e-04, ...,\n",
              "        3.07570564e-04, 2.59266213e-04, 4.31199233e-04],\n",
              "       ...,\n",
              "       [9.89042328e-01, 9.88486776e-01, 9.88486984e-01, ...,\n",
              "        9.90163998e-01, 9.90472330e-01, 9.90781634e-01],\n",
              "       [9.90905801e-01, 9.90411429e-01, 9.90350388e-01, ...,\n",
              "        9.87018398e-01, 9.86462846e-01, 9.86399928e-01],\n",
              "       [9.85843750e-01, 9.85906320e-01, 9.85596947e-01, ...,\n",
              "        9.88383396e-01, 9.88938322e-01, 9.89556583e-01]])"
            ]
          },
          "metadata": {},
          "execution_count": 320
        }
      ],
      "source": [
        "# C - DWATT\n",
        "\n",
        "a = min(GoodDataC_scaled)\n",
        "l = max(GoodDataC_scaled)-min(GoodDataC_scaled)\n",
        "\n",
        "r = 0\n",
        "for i in range(1000):\n",
        "  p = []\n",
        "  for j in range(100):\n",
        "    p.append((GoodDataC_scaled[r]-a)/l)\n",
        "    r = r + 1\n",
        "  if i == 0:\n",
        "    dataC = np.array([p])\n",
        "  else:\n",
        "    dataC = np.append(dataC, [p], axis = 0)\n",
        "dataC"
      ]
    },
    {
      "cell_type": "code",
      "execution_count": null,
      "metadata": {
        "colab": {
          "base_uri": "https://localhost:8080/"
        },
        "id": "O8mWRbj3T1cL",
        "outputId": "24ad1025-16a3-4bd3-cca3-a2fc83f086b7"
      },
      "outputs": [
        {
          "output_type": "execute_result",
          "data": {
            "text/plain": [
              "(1000, 100)"
            ]
          },
          "metadata": {},
          "execution_count": 321
        }
      ],
      "source": [
        "# D - btgj1\n",
        "\n",
        "a = min(GoodDataD_scaled)\n",
        "l = max(GoodDataD_scaled)-min(GoodDataD_scaled)\n",
        "\n",
        "r = 0\n",
        "for i in range(1000):\n",
        "  p = []\n",
        "  for j in range(100):\n",
        "    p.append((GoodDataD_scaled[r]-a)/l)\n",
        "    r = r + 1\n",
        "  if i == 0:\n",
        "    dataD = np.array([p])\n",
        "  else:\n",
        "    dataD = np.append(dataD, [p], axis = 0)\n",
        "dataD.shape"
      ]
    },
    {
      "cell_type": "code",
      "execution_count": null,
      "metadata": {
        "id": "XG2Gv0G0KKoD",
        "colab": {
          "base_uri": "https://localhost:8080/"
        },
        "outputId": "df65c214-4d2c-45b8-bff1-8e8481f04b51"
      },
      "outputs": [
        {
          "output_type": "execute_result",
          "data": {
            "text/plain": [
              "array([[0.05846722, 0.05850233, 0.06594525, ..., 0.05123111, 0.05124517,\n",
              "        0.05515179],\n",
              "       [0.0514768 , 0.05516746, 0.05518266, ..., 0.04769763, 0.04229791,\n",
              "        0.04362287],\n",
              "       [0.04398801, 0.03663978, 0.03661442, ..., 0.04742807, 0.05139535,\n",
              "        0.05139798],\n",
              "       ...,\n",
              "       [2.65554707, 2.66026367, 2.66298838, ..., 2.6564962 , 2.66306802,\n",
              "        2.65569073],\n",
              "       [2.65565576, 2.65642922, 2.65929087, ..., 2.67129785, 2.66767162,\n",
              "        2.66764095],\n",
              "       [2.66028492, 2.66264645, 2.66287835, ..., 2.64926742, 2.6492077 ,\n",
              "        2.65515967]])"
            ]
          },
          "metadata": {},
          "execution_count": 322
        }
      ],
      "source": [
        "# A - bb10\n",
        "\n",
        "a = min(GoodDataA_scaled)\n",
        "l = max(GoodDataA_scaled)-min(GoodDataA_scaled)\n",
        "\n",
        "r = 0\n",
        "for i in range(3000):\n",
        "  p = []\n",
        "  for j in range(100):\n",
        "    p.append((AnomalyDataA_scaled[r]-a)/l)\n",
        "    r = r + 1\n",
        "  dataA = np.append(dataA, [p], axis = 0)\n",
        "dataA"
      ]
    },
    {
      "cell_type": "code",
      "execution_count": null,
      "metadata": {
        "colab": {
          "base_uri": "https://localhost:8080/"
        },
        "id": "X9q-3xfPKUgt",
        "outputId": "2d5706bf-a0e8-4676-d26c-ff2ad9b33ad6"
      },
      "outputs": [
        {
          "output_type": "execute_result",
          "data": {
            "text/plain": [
              "(4000, 100)"
            ]
          },
          "metadata": {},
          "execution_count": 323
        }
      ],
      "source": [
        "# B - TNH\n",
        "\n",
        "a = min(GoodDataB_scaled)\n",
        "l = max(GoodDataB_scaled)-min(GoodDataB_scaled)\n",
        "\n",
        "r = 0\n",
        "for i in range(3000):\n",
        "  p = []\n",
        "  for j in range(100):\n",
        "    p.append((AnomalyDataB_scaled[r]-a)/l)\n",
        "    r = r + 1\n",
        "  dataB = np.append(dataB, [p], axis = 0)\n",
        "dataB.shape"
      ]
    },
    {
      "cell_type": "code",
      "execution_count": null,
      "metadata": {
        "id": "zoCYTDhkKbYt",
        "colab": {
          "base_uri": "https://localhost:8080/"
        },
        "outputId": "4911a308-9244-4f95-a18f-e0a82b255c9d"
      },
      "outputs": [
        {
          "output_type": "execute_result",
          "data": {
            "text/plain": [
              "array([[3.07077663e-04, 2.45151305e-04, 3.25539066e-04, ...,\n",
              "        3.68331882e-04, 2.45016877e-04, 2.44927259e-04],\n",
              "       [4.30168621e-04, 1.82821664e-04, 4.30079003e-04, ...,\n",
              "        3.68645547e-04, 2.61372246e-04, 3.68242264e-04],\n",
              "       [1.82642427e-04, 4.46389563e-04, 1.82418381e-04, ...,\n",
              "        3.07570564e-04, 2.59266213e-04, 4.31199233e-04],\n",
              "       ...,\n",
              "       [9.58628589e-01, 9.58504979e-01, 9.58381646e-01, ...,\n",
              "        9.61224617e-01, 9.60235108e-01, 9.59123240e-01],\n",
              "       [9.58318242e-01, 9.57700259e-01, 9.58008382e-01, ...,\n",
              "        9.62276906e-01, 9.62091142e-01, 9.62091629e-01],\n",
              "       [9.62276975e-01, 9.61905518e-01, 9.61781699e-01, ...,\n",
              "        9.54613056e-01, 9.53993822e-01, 9.54179864e-01]])"
            ]
          },
          "metadata": {},
          "execution_count": 324
        }
      ],
      "source": [
        "# C - DWATT\n",
        "\n",
        "a = min(GoodDataC_scaled)\n",
        "l = max(GoodDataC_scaled)-min(GoodDataC_scaled)\n",
        "\n",
        "r = 0\n",
        "for i in range(3000):\n",
        "  p = []\n",
        "  for j in range(100):\n",
        "    p.append((AnomalyDataC_scaled[r]-a)/l)\n",
        "    r = r + 1\n",
        "  dataC = np.append(dataC, [p], axis = 0)\n",
        "dataC"
      ]
    },
    {
      "cell_type": "code",
      "execution_count": null,
      "metadata": {
        "colab": {
          "base_uri": "https://localhost:8080/"
        },
        "id": "zeA-G3PiUBiL",
        "outputId": "f53dd2ed-e386-41d0-ad86-f6c615561680"
      },
      "outputs": [
        {
          "output_type": "execute_result",
          "data": {
            "text/plain": [
              "array([[0.        , 0.00125823, 0.00125823, ..., 0.02659653, 0.02659653,\n",
              "        0.02659653],\n",
              "       [0.02659653, 0.03015763, 0.03015763, ..., 0.04878901, 0.04878901,\n",
              "        0.04878901],\n",
              "       [0.04878901, 0.0536192 , 0.0536192 , ..., 0.07093185, 0.07093185,\n",
              "        0.07093185],\n",
              "       ...,\n",
              "       [1.03280699, 1.03280699, 1.03280699, ..., 1.03147688, 1.03147688,\n",
              "        1.03147688],\n",
              "       [1.03147688, 1.03147688, 1.03147688, ..., 1.02789303, 1.02430659,\n",
              "        1.02430659],\n",
              "       [1.02430659, 1.02430659, 1.02430659, ..., 1.02430659, 1.02789303,\n",
              "        1.02789303]])"
            ]
          },
          "metadata": {},
          "execution_count": 325
        }
      ],
      "source": [
        "# D - btgj1\n",
        "\n",
        "a = min(GoodDataD_scaled)\n",
        "l = max(GoodDataD_scaled)-min(GoodDataD_scaled)\n",
        "\n",
        "r = 0\n",
        "for i in range(3000):\n",
        "  p = []\n",
        "  for j in range(100):\n",
        "    p.append((AnomalyDataD_scaled[r]-a)/l)\n",
        "    r = r + 1\n",
        "  dataD = np.append(dataD, [p], axis = 0)\n",
        "dataD"
      ]
    },
    {
      "cell_type": "code",
      "execution_count": null,
      "metadata": {
        "colab": {
          "base_uri": "https://localhost:8080/"
        },
        "id": "T3XrBGL9OT7P",
        "outputId": "9aaffcc5-75bd-49b2-d20c-51b4009fcfc9"
      },
      "outputs": [
        {
          "output_type": "execute_result",
          "data": {
            "text/plain": [
              "(4000, 100)"
            ]
          },
          "metadata": {},
          "execution_count": 326
        }
      ],
      "source": [
        "dataD.shape"
      ]
    },
    {
      "cell_type": "code",
      "execution_count": null,
      "metadata": {
        "id": "ParxTjFS8hsv",
        "colab": {
          "base_uri": "https://localhost:8080/",
          "height": 487
        },
        "outputId": "be779fa3-cd02-4d94-d991-027b36364090"
      },
      "outputs": [
        {
          "output_type": "execute_result",
          "data": {
            "text/plain": [
              "            0         1         2         3         4         5         6   \\\n",
              "0     0.000307  0.000245  0.000326  0.000246  0.000202  0.000493  0.000141   \n",
              "1     0.000430  0.000183  0.000430  0.000245  0.000367  0.000183  0.000325   \n",
              "2     0.000183  0.000446  0.000182  0.000307  0.000554  0.000198  0.000245   \n",
              "3     0.000246  0.000370  0.000122  0.000246  0.000073  0.000307  0.000307   \n",
              "4     0.000260  0.000368  0.000321  0.000492  0.000136  0.000430  0.000136   \n",
              "...        ...       ...       ...       ...       ...       ...       ...   \n",
              "3995  0.964377  0.964191  0.964500  0.964624  0.965118  0.965490  0.965737   \n",
              "3996  0.959989  0.960050  0.959988  0.960235  0.960297  0.960175  0.960422   \n",
              "3997  0.958629  0.958505  0.958382  0.958382  0.958320  0.958505  0.958442   \n",
              "3998  0.958318  0.957700  0.958008  0.958997  0.960420  0.961657  0.962275   \n",
              "3999  0.962277  0.961906  0.961782  0.961410  0.960730  0.959927  0.959310   \n",
              "\n",
              "            7         8         9   ...        90        91        92  \\\n",
              "0     0.000493  0.000184  0.000369  ...  0.000324  0.000368  0.000200   \n",
              "1     0.000244  0.000201  0.000492  ...  0.000245  0.000121  0.000261   \n",
              "2     0.000259  0.000183  0.000197  ...  0.000432  0.000198  0.000370   \n",
              "3     0.000320  0.000430  0.000197  ...  0.000121  0.000197  0.000183   \n",
              "4     0.000307  0.000122  0.000260  ...  0.000199  0.000367  0.000243   \n",
              "...        ...       ...       ...  ...       ...       ...       ...   \n",
              "3995  0.965922  0.966415  0.966786  ...  0.964933  0.964192  0.963759   \n",
              "3996  0.960669  0.961164  0.961472  ...  0.962400  0.962708  0.963079   \n",
              "3997  0.958505  0.958135  0.958135  ...  0.964686  0.964561  0.964068   \n",
              "3998  0.962954  0.962955  0.963141  ...  0.957890  0.958385  0.959127   \n",
              "3999  0.958507  0.958136  0.957581  ...  0.961410  0.960608  0.960113   \n",
              "\n",
              "            93        94        95        96        97        98        99  \n",
              "0     0.000491  0.000182  0.000367  0.000183  0.000368  0.000245  0.000245  \n",
              "1     0.000182  0.000306  0.000492  0.000368  0.000369  0.000261  0.000368  \n",
              "2     0.000199  0.000247  0.000322  0.000321  0.000308  0.000259  0.000431  \n",
              "3     0.000444  0.000491  0.000183  0.000430  0.000183  0.000306  0.000198  \n",
              "4     0.000429  0.000306  0.000200  0.000244  0.000324  0.000429  0.000245  \n",
              "...        ...       ...       ...       ...       ...       ...       ...  \n",
              "3995  0.962832  0.962151  0.961285  0.960853  0.960358  0.959927  0.959866  \n",
              "3996  0.963140  0.962831  0.961966  0.961100  0.959988  0.959308  0.958814  \n",
              "3997  0.963696  0.963079  0.962583  0.961965  0.961225  0.960235  0.959123  \n",
              "3998  0.960053  0.960795  0.961660  0.962031  0.962277  0.962091  0.962092  \n",
              "3999  0.959247  0.958321  0.957208  0.955601  0.954613  0.953994  0.954180  \n",
              "\n",
              "[4000 rows x 100 columns]"
            ],
            "text/html": [
              "\n",
              "  <div id=\"df-863fb9fe-36aa-4452-9817-d6fb74c78a0f\">\n",
              "    <div class=\"colab-df-container\">\n",
              "      <div>\n",
              "<style scoped>\n",
              "    .dataframe tbody tr th:only-of-type {\n",
              "        vertical-align: middle;\n",
              "    }\n",
              "\n",
              "    .dataframe tbody tr th {\n",
              "        vertical-align: top;\n",
              "    }\n",
              "\n",
              "    .dataframe thead th {\n",
              "        text-align: right;\n",
              "    }\n",
              "</style>\n",
              "<table border=\"1\" class=\"dataframe\">\n",
              "  <thead>\n",
              "    <tr style=\"text-align: right;\">\n",
              "      <th></th>\n",
              "      <th>0</th>\n",
              "      <th>1</th>\n",
              "      <th>2</th>\n",
              "      <th>3</th>\n",
              "      <th>4</th>\n",
              "      <th>5</th>\n",
              "      <th>6</th>\n",
              "      <th>7</th>\n",
              "      <th>8</th>\n",
              "      <th>9</th>\n",
              "      <th>...</th>\n",
              "      <th>90</th>\n",
              "      <th>91</th>\n",
              "      <th>92</th>\n",
              "      <th>93</th>\n",
              "      <th>94</th>\n",
              "      <th>95</th>\n",
              "      <th>96</th>\n",
              "      <th>97</th>\n",
              "      <th>98</th>\n",
              "      <th>99</th>\n",
              "    </tr>\n",
              "  </thead>\n",
              "  <tbody>\n",
              "    <tr>\n",
              "      <th>0</th>\n",
              "      <td>0.000307</td>\n",
              "      <td>0.000245</td>\n",
              "      <td>0.000326</td>\n",
              "      <td>0.000246</td>\n",
              "      <td>0.000202</td>\n",
              "      <td>0.000493</td>\n",
              "      <td>0.000141</td>\n",
              "      <td>0.000493</td>\n",
              "      <td>0.000184</td>\n",
              "      <td>0.000369</td>\n",
              "      <td>...</td>\n",
              "      <td>0.000324</td>\n",
              "      <td>0.000368</td>\n",
              "      <td>0.000200</td>\n",
              "      <td>0.000491</td>\n",
              "      <td>0.000182</td>\n",
              "      <td>0.000367</td>\n",
              "      <td>0.000183</td>\n",
              "      <td>0.000368</td>\n",
              "      <td>0.000245</td>\n",
              "      <td>0.000245</td>\n",
              "    </tr>\n",
              "    <tr>\n",
              "      <th>1</th>\n",
              "      <td>0.000430</td>\n",
              "      <td>0.000183</td>\n",
              "      <td>0.000430</td>\n",
              "      <td>0.000245</td>\n",
              "      <td>0.000367</td>\n",
              "      <td>0.000183</td>\n",
              "      <td>0.000325</td>\n",
              "      <td>0.000244</td>\n",
              "      <td>0.000201</td>\n",
              "      <td>0.000492</td>\n",
              "      <td>...</td>\n",
              "      <td>0.000245</td>\n",
              "      <td>0.000121</td>\n",
              "      <td>0.000261</td>\n",
              "      <td>0.000182</td>\n",
              "      <td>0.000306</td>\n",
              "      <td>0.000492</td>\n",
              "      <td>0.000368</td>\n",
              "      <td>0.000369</td>\n",
              "      <td>0.000261</td>\n",
              "      <td>0.000368</td>\n",
              "    </tr>\n",
              "    <tr>\n",
              "      <th>2</th>\n",
              "      <td>0.000183</td>\n",
              "      <td>0.000446</td>\n",
              "      <td>0.000182</td>\n",
              "      <td>0.000307</td>\n",
              "      <td>0.000554</td>\n",
              "      <td>0.000198</td>\n",
              "      <td>0.000245</td>\n",
              "      <td>0.000259</td>\n",
              "      <td>0.000183</td>\n",
              "      <td>0.000197</td>\n",
              "      <td>...</td>\n",
              "      <td>0.000432</td>\n",
              "      <td>0.000198</td>\n",
              "      <td>0.000370</td>\n",
              "      <td>0.000199</td>\n",
              "      <td>0.000247</td>\n",
              "      <td>0.000322</td>\n",
              "      <td>0.000321</td>\n",
              "      <td>0.000308</td>\n",
              "      <td>0.000259</td>\n",
              "      <td>0.000431</td>\n",
              "    </tr>\n",
              "    <tr>\n",
              "      <th>3</th>\n",
              "      <td>0.000246</td>\n",
              "      <td>0.000370</td>\n",
              "      <td>0.000122</td>\n",
              "      <td>0.000246</td>\n",
              "      <td>0.000073</td>\n",
              "      <td>0.000307</td>\n",
              "      <td>0.000307</td>\n",
              "      <td>0.000320</td>\n",
              "      <td>0.000430</td>\n",
              "      <td>0.000197</td>\n",
              "      <td>...</td>\n",
              "      <td>0.000121</td>\n",
              "      <td>0.000197</td>\n",
              "      <td>0.000183</td>\n",
              "      <td>0.000444</td>\n",
              "      <td>0.000491</td>\n",
              "      <td>0.000183</td>\n",
              "      <td>0.000430</td>\n",
              "      <td>0.000183</td>\n",
              "      <td>0.000306</td>\n",
              "      <td>0.000198</td>\n",
              "    </tr>\n",
              "    <tr>\n",
              "      <th>4</th>\n",
              "      <td>0.000260</td>\n",
              "      <td>0.000368</td>\n",
              "      <td>0.000321</td>\n",
              "      <td>0.000492</td>\n",
              "      <td>0.000136</td>\n",
              "      <td>0.000430</td>\n",
              "      <td>0.000136</td>\n",
              "      <td>0.000307</td>\n",
              "      <td>0.000122</td>\n",
              "      <td>0.000260</td>\n",
              "      <td>...</td>\n",
              "      <td>0.000199</td>\n",
              "      <td>0.000367</td>\n",
              "      <td>0.000243</td>\n",
              "      <td>0.000429</td>\n",
              "      <td>0.000306</td>\n",
              "      <td>0.000200</td>\n",
              "      <td>0.000244</td>\n",
              "      <td>0.000324</td>\n",
              "      <td>0.000429</td>\n",
              "      <td>0.000245</td>\n",
              "    </tr>\n",
              "    <tr>\n",
              "      <th>...</th>\n",
              "      <td>...</td>\n",
              "      <td>...</td>\n",
              "      <td>...</td>\n",
              "      <td>...</td>\n",
              "      <td>...</td>\n",
              "      <td>...</td>\n",
              "      <td>...</td>\n",
              "      <td>...</td>\n",
              "      <td>...</td>\n",
              "      <td>...</td>\n",
              "      <td>...</td>\n",
              "      <td>...</td>\n",
              "      <td>...</td>\n",
              "      <td>...</td>\n",
              "      <td>...</td>\n",
              "      <td>...</td>\n",
              "      <td>...</td>\n",
              "      <td>...</td>\n",
              "      <td>...</td>\n",
              "      <td>...</td>\n",
              "      <td>...</td>\n",
              "    </tr>\n",
              "    <tr>\n",
              "      <th>3995</th>\n",
              "      <td>0.964377</td>\n",
              "      <td>0.964191</td>\n",
              "      <td>0.964500</td>\n",
              "      <td>0.964624</td>\n",
              "      <td>0.965118</td>\n",
              "      <td>0.965490</td>\n",
              "      <td>0.965737</td>\n",
              "      <td>0.965922</td>\n",
              "      <td>0.966415</td>\n",
              "      <td>0.966786</td>\n",
              "      <td>...</td>\n",
              "      <td>0.964933</td>\n",
              "      <td>0.964192</td>\n",
              "      <td>0.963759</td>\n",
              "      <td>0.962832</td>\n",
              "      <td>0.962151</td>\n",
              "      <td>0.961285</td>\n",
              "      <td>0.960853</td>\n",
              "      <td>0.960358</td>\n",
              "      <td>0.959927</td>\n",
              "      <td>0.959866</td>\n",
              "    </tr>\n",
              "    <tr>\n",
              "      <th>3996</th>\n",
              "      <td>0.959989</td>\n",
              "      <td>0.960050</td>\n",
              "      <td>0.959988</td>\n",
              "      <td>0.960235</td>\n",
              "      <td>0.960297</td>\n",
              "      <td>0.960175</td>\n",
              "      <td>0.960422</td>\n",
              "      <td>0.960669</td>\n",
              "      <td>0.961164</td>\n",
              "      <td>0.961472</td>\n",
              "      <td>...</td>\n",
              "      <td>0.962400</td>\n",
              "      <td>0.962708</td>\n",
              "      <td>0.963079</td>\n",
              "      <td>0.963140</td>\n",
              "      <td>0.962831</td>\n",
              "      <td>0.961966</td>\n",
              "      <td>0.961100</td>\n",
              "      <td>0.959988</td>\n",
              "      <td>0.959308</td>\n",
              "      <td>0.958814</td>\n",
              "    </tr>\n",
              "    <tr>\n",
              "      <th>3997</th>\n",
              "      <td>0.958629</td>\n",
              "      <td>0.958505</td>\n",
              "      <td>0.958382</td>\n",
              "      <td>0.958382</td>\n",
              "      <td>0.958320</td>\n",
              "      <td>0.958505</td>\n",
              "      <td>0.958442</td>\n",
              "      <td>0.958505</td>\n",
              "      <td>0.958135</td>\n",
              "      <td>0.958135</td>\n",
              "      <td>...</td>\n",
              "      <td>0.964686</td>\n",
              "      <td>0.964561</td>\n",
              "      <td>0.964068</td>\n",
              "      <td>0.963696</td>\n",
              "      <td>0.963079</td>\n",
              "      <td>0.962583</td>\n",
              "      <td>0.961965</td>\n",
              "      <td>0.961225</td>\n",
              "      <td>0.960235</td>\n",
              "      <td>0.959123</td>\n",
              "    </tr>\n",
              "    <tr>\n",
              "      <th>3998</th>\n",
              "      <td>0.958318</td>\n",
              "      <td>0.957700</td>\n",
              "      <td>0.958008</td>\n",
              "      <td>0.958997</td>\n",
              "      <td>0.960420</td>\n",
              "      <td>0.961657</td>\n",
              "      <td>0.962275</td>\n",
              "      <td>0.962954</td>\n",
              "      <td>0.962955</td>\n",
              "      <td>0.963141</td>\n",
              "      <td>...</td>\n",
              "      <td>0.957890</td>\n",
              "      <td>0.958385</td>\n",
              "      <td>0.959127</td>\n",
              "      <td>0.960053</td>\n",
              "      <td>0.960795</td>\n",
              "      <td>0.961660</td>\n",
              "      <td>0.962031</td>\n",
              "      <td>0.962277</td>\n",
              "      <td>0.962091</td>\n",
              "      <td>0.962092</td>\n",
              "    </tr>\n",
              "    <tr>\n",
              "      <th>3999</th>\n",
              "      <td>0.962277</td>\n",
              "      <td>0.961906</td>\n",
              "      <td>0.961782</td>\n",
              "      <td>0.961410</td>\n",
              "      <td>0.960730</td>\n",
              "      <td>0.959927</td>\n",
              "      <td>0.959310</td>\n",
              "      <td>0.958507</td>\n",
              "      <td>0.958136</td>\n",
              "      <td>0.957581</td>\n",
              "      <td>...</td>\n",
              "      <td>0.961410</td>\n",
              "      <td>0.960608</td>\n",
              "      <td>0.960113</td>\n",
              "      <td>0.959247</td>\n",
              "      <td>0.958321</td>\n",
              "      <td>0.957208</td>\n",
              "      <td>0.955601</td>\n",
              "      <td>0.954613</td>\n",
              "      <td>0.953994</td>\n",
              "      <td>0.954180</td>\n",
              "    </tr>\n",
              "  </tbody>\n",
              "</table>\n",
              "<p>4000 rows × 100 columns</p>\n",
              "</div>\n",
              "      <button class=\"colab-df-convert\" onclick=\"convertToInteractive('df-863fb9fe-36aa-4452-9817-d6fb74c78a0f')\"\n",
              "              title=\"Convert this dataframe to an interactive table.\"\n",
              "              style=\"display:none;\">\n",
              "        \n",
              "  <svg xmlns=\"http://www.w3.org/2000/svg\" height=\"24px\"viewBox=\"0 0 24 24\"\n",
              "       width=\"24px\">\n",
              "    <path d=\"M0 0h24v24H0V0z\" fill=\"none\"/>\n",
              "    <path d=\"M18.56 5.44l.94 2.06.94-2.06 2.06-.94-2.06-.94-.94-2.06-.94 2.06-2.06.94zm-11 1L8.5 8.5l.94-2.06 2.06-.94-2.06-.94L8.5 2.5l-.94 2.06-2.06.94zm10 10l.94 2.06.94-2.06 2.06-.94-2.06-.94-.94-2.06-.94 2.06-2.06.94z\"/><path d=\"M17.41 7.96l-1.37-1.37c-.4-.4-.92-.59-1.43-.59-.52 0-1.04.2-1.43.59L10.3 9.45l-7.72 7.72c-.78.78-.78 2.05 0 2.83L4 21.41c.39.39.9.59 1.41.59.51 0 1.02-.2 1.41-.59l7.78-7.78 2.81-2.81c.8-.78.8-2.07 0-2.86zM5.41 20L4 18.59l7.72-7.72 1.47 1.35L5.41 20z\"/>\n",
              "  </svg>\n",
              "      </button>\n",
              "      \n",
              "  <style>\n",
              "    .colab-df-container {\n",
              "      display:flex;\n",
              "      flex-wrap:wrap;\n",
              "      gap: 12px;\n",
              "    }\n",
              "\n",
              "    .colab-df-convert {\n",
              "      background-color: #E8F0FE;\n",
              "      border: none;\n",
              "      border-radius: 50%;\n",
              "      cursor: pointer;\n",
              "      display: none;\n",
              "      fill: #1967D2;\n",
              "      height: 32px;\n",
              "      padding: 0 0 0 0;\n",
              "      width: 32px;\n",
              "    }\n",
              "\n",
              "    .colab-df-convert:hover {\n",
              "      background-color: #E2EBFA;\n",
              "      box-shadow: 0px 1px 2px rgba(60, 64, 67, 0.3), 0px 1px 3px 1px rgba(60, 64, 67, 0.15);\n",
              "      fill: #174EA6;\n",
              "    }\n",
              "\n",
              "    [theme=dark] .colab-df-convert {\n",
              "      background-color: #3B4455;\n",
              "      fill: #D2E3FC;\n",
              "    }\n",
              "\n",
              "    [theme=dark] .colab-df-convert:hover {\n",
              "      background-color: #434B5C;\n",
              "      box-shadow: 0px 1px 3px 1px rgba(0, 0, 0, 0.15);\n",
              "      filter: drop-shadow(0px 1px 2px rgba(0, 0, 0, 0.3));\n",
              "      fill: #FFFFFF;\n",
              "    }\n",
              "  </style>\n",
              "\n",
              "      <script>\n",
              "        const buttonEl =\n",
              "          document.querySelector('#df-863fb9fe-36aa-4452-9817-d6fb74c78a0f button.colab-df-convert');\n",
              "        buttonEl.style.display =\n",
              "          google.colab.kernel.accessAllowed ? 'block' : 'none';\n",
              "\n",
              "        async function convertToInteractive(key) {\n",
              "          const element = document.querySelector('#df-863fb9fe-36aa-4452-9817-d6fb74c78a0f');\n",
              "          const dataTable =\n",
              "            await google.colab.kernel.invokeFunction('convertToInteractive',\n",
              "                                                     [key], {});\n",
              "          if (!dataTable) return;\n",
              "\n",
              "          const docLinkHtml = 'Like what you see? Visit the ' +\n",
              "            '<a target=\"_blank\" href=https://colab.research.google.com/notebooks/data_table.ipynb>data table notebook</a>'\n",
              "            + ' to learn more about interactive tables.';\n",
              "          element.innerHTML = '';\n",
              "          dataTable['output_type'] = 'display_data';\n",
              "          await google.colab.output.renderOutput(dataTable, element);\n",
              "          const docLink = document.createElement('div');\n",
              "          docLink.innerHTML = docLinkHtml;\n",
              "          element.appendChild(docLink);\n",
              "        }\n",
              "      </script>\n",
              "    </div>\n",
              "  </div>\n",
              "  "
            ]
          },
          "metadata": {},
          "execution_count": 327
        }
      ],
      "source": [
        "y = pd.DataFrame(dataC)\n",
        "y"
      ]
    },
    {
      "cell_type": "code",
      "execution_count": null,
      "metadata": {
        "colab": {
          "base_uri": "https://localhost:8080/"
        },
        "id": "4IfJeR8zV0Pu",
        "outputId": "9684110b-8089-4985-b8cd-8bdade4b86ee"
      },
      "outputs": [
        {
          "output_type": "execute_result",
          "data": {
            "text/plain": [
              "(4000,)"
            ]
          },
          "metadata": {},
          "execution_count": 328
        }
      ],
      "source": [
        "labels1.shape"
      ]
    },
    {
      "cell_type": "code",
      "execution_count": null,
      "metadata": {
        "id": "Q8eV3eLJlKVA"
      },
      "outputs": [],
      "source": [
        "def sig_image(data,size):\n",
        "    X=np.zeros((data.shape[0],size,size))\n",
        "    for i in range(data.shape[0]):\n",
        "        X[i]=(data[i,:].reshape(size,size))\n",
        "    return X.astype(np.float16)"
      ]
    },
    {
      "cell_type": "code",
      "execution_count": null,
      "metadata": {
        "id": "nbW_UAPcEIVM"
      },
      "outputs": [],
      "source": [
        "# bb10\n",
        "x_A = sig_image(dataA,10)\n",
        "\n",
        "# TNH\n",
        "x_B = sig_image(dataB,10)\n",
        "\n",
        "# DWATT\n",
        "x_C = sig_image(dataC,10)\n",
        "\n",
        "# btgj1\n",
        "x_D = sig_image(dataD,10)"
      ]
    },
    {
      "cell_type": "code",
      "execution_count": null,
      "metadata": {
        "colab": {
          "base_uri": "https://localhost:8080/"
        },
        "id": "bH2aZb9LlKVE",
        "outputId": "bec044db-81d0-4094-dfc2-f67affad672d"
      },
      "outputs": [
        {
          "output_type": "execute_result",
          "data": {
            "text/plain": [
              "(4000, 10, 10)"
            ]
          },
          "metadata": {},
          "execution_count": 331
        }
      ],
      "source": [
        "x_C.shape"
      ]
    },
    {
      "cell_type": "code",
      "execution_count": null,
      "metadata": {
        "id": "Jk5rjjq5lKVF"
      },
      "outputs": [],
      "source": [
        "X=np.stack((x_A,x_B,x_C,x_D),axis=1).astype(np.float16)\n",
        "X"
      ]
    },
    {
      "cell_type": "code",
      "execution_count": null,
      "metadata": {
        "colab": {
          "base_uri": "https://localhost:8080/"
        },
        "id": "LVTz7IlxlKVF",
        "outputId": "69be777d-357b-42a7-de32-8c0e1ed401eb"
      },
      "outputs": [
        {
          "output_type": "execute_result",
          "data": {
            "text/plain": [
              "(4000, 4, 10, 10)"
            ]
          },
          "metadata": {},
          "execution_count": 333
        }
      ],
      "source": [
        "X.shape"
      ]
    },
    {
      "cell_type": "code",
      "execution_count": null,
      "metadata": {
        "id": "kQBe4GaJlKVG"
      },
      "outputs": [],
      "source": [
        "from sklearn.model_selection import train_test_split\n",
        "trainx, testx, trainlabel, testlabel = train_test_split(X, labels1, test_size=0.2, random_state=20)"
      ]
    },
    {
      "cell_type": "code",
      "execution_count": null,
      "metadata": {
        "colab": {
          "base_uri": "https://localhost:8080/"
        },
        "id": "RNXXMG3ilKVH",
        "outputId": "35153304-e26d-40af-83a9-1dbd455368cf"
      },
      "outputs": [
        {
          "output_type": "execute_result",
          "data": {
            "text/plain": [
              "((3200, 4, 10, 10), (800, 4, 10, 10))"
            ]
          },
          "metadata": {},
          "execution_count": 441
        }
      ],
      "source": [
        "sig_train1, sig_test1 = trainx,testx\n",
        "lab_train1, lab_test1 = trainlabel,testlabel\n",
        "sig_train1.shape, sig_test1.shape"
      ]
    },
    {
      "cell_type": "code",
      "execution_count": null,
      "metadata": {
        "id": "G1xm5vsWlKVH"
      },
      "outputs": [],
      "source": [
        "sig_train = torch.from_numpy(sig_train1)\n",
        "sig_test = torch.from_numpy(sig_test1)\n",
        "lab_train= torch.from_numpy(lab_train1)\n",
        "lab_test = torch.from_numpy(lab_test1)"
      ]
    },
    {
      "cell_type": "code",
      "execution_count": null,
      "metadata": {
        "id": "0T1B7eqhJAtL"
      },
      "outputs": [],
      "source": [
        "sig_train"
      ]
    },
    {
      "cell_type": "code",
      "execution_count": null,
      "metadata": {
        "id": "ynhqaEvYlKVI"
      },
      "outputs": [],
      "source": [
        "import torch.utils.data as data_utils\n",
        "batch_size = 128\n",
        "train_tensor = data_utils.TensorDataset(sig_train, lab_train) \n",
        "train_loader = data_utils.DataLoader(dataset = train_tensor, batch_size = batch_size, shuffle = True)"
      ]
    },
    {
      "cell_type": "code",
      "execution_count": null,
      "metadata": {
        "id": "uTM_I97SlKVJ"
      },
      "outputs": [],
      "source": [
        "batch_size = 512\n",
        "test_tensor = data_utils.TensorDataset(sig_test, lab_test) \n",
        "test_loader = data_utils.DataLoader(dataset = test_tensor, batch_size = batch_size, shuffle = False)"
      ]
    },
    {
      "cell_type": "code",
      "execution_count": null,
      "metadata": {
        "colab": {
          "base_uri": "https://localhost:8080/"
        },
        "id": "45ptlQbEPO_u",
        "outputId": "f3e392be-f289-4433-e9b8-bd0a67b6f8c0"
      },
      "outputs": [
        {
          "data": {
            "text/plain": [
              "<torch.utils.data.dataset.TensorDataset at 0x7f8410ec0c70>"
            ]
          },
          "execution_count": 32,
          "metadata": {},
          "output_type": "execute_result"
        }
      ],
      "source": [
        "train_tensor"
      ]
    },
    {
      "cell_type": "code",
      "execution_count": null,
      "metadata": {
        "colab": {
          "base_uri": "https://localhost:8080/"
        },
        "id": "SWcnRGGjlKVJ",
        "outputId": "9723ea4a-8880-47a5-b16a-7fd581436c82"
      },
      "outputs": [
        {
          "data": {
            "text/plain": [
              "torch.Size([5120, 4, 10, 10])"
            ]
          },
          "execution_count": 34,
          "metadata": {},
          "output_type": "execute_result"
        }
      ],
      "source": [
        "sig_train.size()"
      ]
    },
    {
      "cell_type": "code",
      "execution_count": null,
      "metadata": {
        "id": "PeNxrWKqlKVL"
      },
      "outputs": [],
      "source": [
        "class CNN(nn.Module):\n",
        "    def __init__(self):\n",
        "        super(CNN, self).__init__()\n",
        "        self.conv1 = nn.Conv2d(4, 32, kernel_size=4,stride=1,padding = 1)\n",
        "        self.mp1 = nn.MaxPool2d(kernel_size=2,stride=1)\n",
        "        self.conv2 = nn.Conv2d(32,64, kernel_size=4,stride =1,padding = 1)\n",
        "        self.mp2 = nn.MaxPool2d(kernel_size=2,stride=1)\n",
        "        self.fc1= nn.Linear(2304,256)\n",
        "        self.dp1 = nn.Dropout(p=0.4)\n",
        "        self.fc2 = nn.Linear(256,4)\n",
        "\n",
        "    def forward(self, x):\n",
        "        in_size = x.size(0)\n",
        "        x = F.relu(self.mp1(self.conv1(x)))    \n",
        "        x = F.relu(self.mp2(self.conv2(x)))\n",
        "        x = x.view(in_size,-1)\n",
        "        x = F.relu(self.fc1(x))\n",
        "        x = self.dp1(x)\n",
        "        x = self.fc2(x)\n",
        "        \n",
        "        return F.log_softmax(x, dim=1)"
      ]
    },
    {
      "cell_type": "code",
      "execution_count": null,
      "metadata": {
        "id": "YfT4Y8XglKVM"
      },
      "outputs": [],
      "source": [
        "cnn = CNN().double()"
      ]
    },
    {
      "cell_type": "code",
      "execution_count": null,
      "metadata": {
        "id": "fRC4yjoXlKVM"
      },
      "outputs": [],
      "source": [
        "criterion = nn.CrossEntropyLoss()\n",
        "optimizer = torch.optim.Adam(cnn.parameters(), lr=0.001)"
      ]
    },
    {
      "cell_type": "code",
      "execution_count": null,
      "metadata": {
        "id": "MlnklyejlKVN"
      },
      "outputs": [],
      "source": [
        "num_epochs = 2"
      ]
    },
    {
      "cell_type": "code",
      "execution_count": null,
      "metadata": {
        "colab": {
          "base_uri": "https://localhost:8080/"
        },
        "id": "wUSL5fqllKVN",
        "outputId": "7f95549b-6fbc-481a-f21e-97d4fad08d39"
      },
      "outputs": [
        {
          "output_type": "stream",
          "name": "stdout",
          "text": [
            "Epoch [1/2], Step [1/25], Loss: 1.3936, Train Accuracy: 20.31%\n",
            "Epoch [1/2], Step [2/25], Loss: 1.2885, Train Accuracy: 26.56%\n",
            "Epoch [1/2], Step [3/25], Loss: 1.1703, Train Accuracy: 37.50%\n",
            "Epoch [1/2], Step [4/25], Loss: 1.1342, Train Accuracy: 46.09%\n",
            "Epoch [1/2], Step [5/25], Loss: 0.9167, Train Accuracy: 73.44%\n",
            "Epoch [1/2], Step [6/25], Loss: 0.8318, Train Accuracy: 67.19%\n",
            "Epoch [1/2], Step [7/25], Loss: 0.6377, Train Accuracy: 78.91%\n",
            "Epoch [1/2], Step [8/25], Loss: 0.5696, Train Accuracy: 72.66%\n",
            "Epoch [1/2], Step [9/25], Loss: 0.4351, Train Accuracy: 76.56%\n",
            "Epoch [1/2], Step [10/25], Loss: 0.4007, Train Accuracy: 81.25%\n",
            "Epoch [1/2], Step [11/25], Loss: 0.3395, Train Accuracy: 83.59%\n",
            "Epoch [1/2], Step [12/25], Loss: 0.4511, Train Accuracy: 83.59%\n",
            "Epoch [1/2], Step [13/25], Loss: 0.2225, Train Accuracy: 90.62%\n",
            "Epoch [1/2], Step [14/25], Loss: 0.2398, Train Accuracy: 93.75%\n",
            "Epoch [1/2], Step [15/25], Loss: 0.2410, Train Accuracy: 93.75%\n",
            "Epoch [1/2], Step [16/25], Loss: 0.2082, Train Accuracy: 94.53%\n",
            "Epoch [1/2], Step [17/25], Loss: 0.1705, Train Accuracy: 94.53%\n",
            "Epoch [1/2], Step [18/25], Loss: 0.0955, Train Accuracy: 98.44%\n",
            "Epoch [1/2], Step [19/25], Loss: 0.1229, Train Accuracy: 96.09%\n",
            "Epoch [1/2], Step [20/25], Loss: 0.0630, Train Accuracy: 99.22%\n",
            "Epoch [1/2], Step [21/25], Loss: 0.0431, Train Accuracy: 99.22%\n",
            "Epoch [1/2], Step [22/25], Loss: 0.0270, Train Accuracy: 100.00%\n",
            "Epoch [1/2], Step [23/25], Loss: 0.0201, Train Accuracy: 100.00%\n",
            "Epoch [1/2], Step [24/25], Loss: 0.0456, Train Accuracy: 98.44%\n",
            "Epoch [1/2], Step [25/25], Loss: 0.0584, Train Accuracy: 98.44%\n",
            "Epoch [2/2], Step [1/25], Loss: 0.0366, Train Accuracy: 98.44%\n",
            "Epoch [2/2], Step [2/25], Loss: 0.0091, Train Accuracy: 100.00%\n",
            "Epoch [2/2], Step [3/25], Loss: 0.0143, Train Accuracy: 100.00%\n",
            "Epoch [2/2], Step [4/25], Loss: 0.0178, Train Accuracy: 100.00%\n",
            "Epoch [2/2], Step [5/25], Loss: 0.0329, Train Accuracy: 98.44%\n",
            "Epoch [2/2], Step [6/25], Loss: 0.0179, Train Accuracy: 99.22%\n",
            "Epoch [2/2], Step [7/25], Loss: 0.0045, Train Accuracy: 100.00%\n",
            "Epoch [2/2], Step [8/25], Loss: 0.0577, Train Accuracy: 97.66%\n",
            "Epoch [2/2], Step [9/25], Loss: 0.0082, Train Accuracy: 100.00%\n",
            "Epoch [2/2], Step [10/25], Loss: 0.0137, Train Accuracy: 99.22%\n",
            "Epoch [2/2], Step [11/25], Loss: 0.0105, Train Accuracy: 100.00%\n",
            "Epoch [2/2], Step [12/25], Loss: 0.0032, Train Accuracy: 100.00%\n",
            "Epoch [2/2], Step [13/25], Loss: 0.0024, Train Accuracy: 100.00%\n",
            "Epoch [2/2], Step [14/25], Loss: 0.0016, Train Accuracy: 100.00%\n",
            "Epoch [2/2], Step [15/25], Loss: 0.0567, Train Accuracy: 98.44%\n",
            "Epoch [2/2], Step [16/25], Loss: 0.0040, Train Accuracy: 100.00%\n",
            "Epoch [2/2], Step [17/25], Loss: 0.0035, Train Accuracy: 100.00%\n",
            "Epoch [2/2], Step [18/25], Loss: 0.0014, Train Accuracy: 100.00%\n",
            "Epoch [2/2], Step [19/25], Loss: 0.0097, Train Accuracy: 99.22%\n",
            "Epoch [2/2], Step [20/25], Loss: 0.0025, Train Accuracy: 100.00%\n",
            "Epoch [2/2], Step [21/25], Loss: 0.0019, Train Accuracy: 100.00%\n",
            "Epoch [2/2], Step [22/25], Loss: 0.0045, Train Accuracy: 100.00%\n",
            "Epoch [2/2], Step [23/25], Loss: 0.0033, Train Accuracy: 100.00%\n",
            "Epoch [2/2], Step [24/25], Loss: 0.0031, Train Accuracy: 100.00%\n",
            "Epoch [2/2], Step [25/25], Loss: 0.0010, Train Accuracy: 100.00%\n"
          ]
        }
      ],
      "source": [
        "total_step = len(train_loader)\n",
        "loss_list = []\n",
        "acc_list = []\n",
        "for epoch in range(num_epochs):\n",
        "    for i, (signals, labels) in enumerate(train_loader):\n",
        "        optimizer.zero_grad()\n",
        "        # Run the forward pass\n",
        "        signals=signals\n",
        "        labels=labels\n",
        "        outputs = cnn(signals.double())\n",
        "        loss = criterion(outputs, labels.long())\n",
        "        \n",
        "        loss_list.append(loss.item())\n",
        "\n",
        "        # Backprop and perform Adam optimisation\n",
        "        \n",
        "        loss.backward()\n",
        "        optimizer.step()\n",
        "        # Track the accuracy\n",
        "        total = labels.size(0)\n",
        "        _, predicted = torch.max(outputs.data, 1)\n",
        "        correct = (predicted == labels.long()).sum().item()\n",
        "        acc_list.append(correct / total)\n",
        "\n",
        "        if (epoch+1) % 1 == 0 or epoch==0:\n",
        "            print('Epoch [{}/{}], Step [{}/{}], Loss: {:.4f}, Train Accuracy: {:.2f}%'\n",
        "                  .format(epoch + 1, num_epochs, i + 1, total_step, loss.item(),\n",
        "                          (correct / total) * 100))\n",
        "        "
      ]
    },
    {
      "cell_type": "code",
      "execution_count": null,
      "metadata": {
        "colab": {
          "base_uri": "https://localhost:8080/"
        },
        "id": "ZpW5VadVtQyy",
        "outputId": "a318178a-12cb-441a-c848-dcef9f558686"
      },
      "outputs": [
        {
          "output_type": "execute_result",
          "data": {
            "text/plain": [
              "array([ 1,  2,  3,  4,  5,  6,  7,  8,  9, 10, 11, 12, 13, 14, 15, 16, 17,\n",
              "       18, 19, 20])"
            ]
          },
          "metadata": {},
          "execution_count": 358
        }
      ],
      "source": [
        "a =[]\n",
        "for i in range(len(loss_list)):\n",
        "  a.append(i+1)\n",
        "a = np.array(a)\n",
        "a"
      ]
    },
    {
      "cell_type": "code",
      "execution_count": null,
      "metadata": {
        "colab": {
          "base_uri": "https://localhost:8080/"
        },
        "id": "T1KwijDhrl1M",
        "outputId": "fcae3e6c-da86-4ca0-980b-258d409515a4"
      },
      "outputs": [
        {
          "output_type": "execute_result",
          "data": {
            "text/plain": [
              "(20,)"
            ]
          },
          "metadata": {},
          "execution_count": 359
        }
      ],
      "source": [
        "loss_list = np.array(loss_list)\n",
        "loss_list.shape"
      ]
    },
    {
      "cell_type": "code",
      "execution_count": null,
      "metadata": {
        "colab": {
          "base_uri": "https://localhost:8080/"
        },
        "id": "uUVGqLFjr6mN",
        "outputId": "371f7dd0-0e79-4bb5-d188-3a02df38e429"
      },
      "outputs": [
        {
          "output_type": "execute_result",
          "data": {
            "text/plain": [
              "(20,)"
            ]
          },
          "metadata": {},
          "execution_count": 360
        }
      ],
      "source": [
        "acc_list = np.array(acc_list)\n",
        "acc_list.shape"
      ]
    },
    {
      "cell_type": "code",
      "execution_count": null,
      "metadata": {
        "id": "5y0ttPmpuMgi",
        "colab": {
          "base_uri": "https://localhost:8080/",
          "height": 449
        },
        "outputId": "a7a080dc-38a9-44f9-b9c5-fb43144da948"
      },
      "outputs": [
        {
          "output_type": "display_data",
          "data": {
            "text/plain": [
              "<Figure size 640x480 with 1 Axes>"
            ],
            "image/png": "[encoded data removed]"
          },
          "metadata": {}
        }
      ],
      "source": [
        "import matplotlib.pyplot as plt\n",
        "plt.plot(a, loss_list, 'r')\n",
        "plt.plot(a, acc_list, 'b')\n",
        "plt.xlabel('Steps')\n",
        "plt.ylabel('Loss & Accuracy')\n",
        "plt.show()"
      ]
    },
    {
      "cell_type": "code",
      "source": [
        "from torchsummary import summary\n",
        "\n",
        "cnn = CNN()\n",
        "summary(cnn, (4, 10, 10))"
      ],
      "metadata": {
        "colab": {
          "base_uri": "https://localhost:8080/"
        },
        "id": "Tz2hc1NcCKIM",
        "outputId": "a6ec2000-d860-43c0-d1b0-63e8cf792025"
      },
      "execution_count": null,
      "outputs": [
        {
          "output_type": "stream",
          "name": "stdout",
          "text": [
            "----------------------------------------------------------------\n",
            "        Layer (type)               Output Shape         Param #\n",
            "================================================================\n",
            "            Conv2d-1             [-1, 32, 9, 9]           2,080\n",
            "         MaxPool2d-2             [-1, 32, 8, 8]               0\n",
            "            Conv2d-3             [-1, 64, 7, 7]          32,832\n",
            "         MaxPool2d-4             [-1, 64, 6, 6]               0\n",
            "            Linear-5                  [-1, 256]         590,080\n",
            "           Dropout-6                  [-1, 256]               0\n",
            "            Linear-7                    [-1, 4]           1,028\n",
            "================================================================\n",
            "Total params: 626,020\n",
            "Trainable params: 626,020\n",
            "Non-trainable params: 0\n",
            "----------------------------------------------------------------\n",
            "Input size (MB): 0.00\n",
            "Forward/backward pass size (MB): 0.08\n",
            "Params size (MB): 2.39\n",
            "Estimated Total Size (MB): 2.47\n",
            "----------------------------------------------------------------\n"
          ]
        }
      ]
    },
    {
      "cell_type": "code",
      "source": [
        "arr1 = pd.DataFrame(loss_list)\n",
        "arr1.to_excel('/content/drive/MyDrive/KCCP/loss_list.xlsx', index=False, header=False)\n",
        "arr2 = pd.DataFrame(acc_list)\n",
        "arr2.to_excel('/content/drive/MyDrive/KCCP/acc_list.xlsx', index=False, header=False)"
      ],
      "metadata": {
        "id": "PEnAQRcijSoS"
      },
      "execution_count": null,
      "outputs": []
    },
    {
      "cell_type": "code",
      "execution_count": null,
      "metadata": {
        "id": "NPsJCSNMxa_7"
      },
      "outputs": [],
      "source": [
        "test_loader"
      ]
    },
    {
      "cell_type": "code",
      "execution_count": null,
      "metadata": {
        "colab": {
          "base_uri": "https://localhost:8080/"
        },
        "id": "66k0ZKtnlKVO",
        "outputId": "99db0216-7b63-4fee-98a3-0a351ef3e75d"
      },
      "outputs": [
        {
          "output_type": "stream",
          "name": "stdout",
          "text": [
            "2\n",
            "Epoch [5/5], Step [1/2], Loss: 0.0114, Accuracy: 100.00%\n",
            "Epoch [5/5], Step [2/2], Loss: 0.0125, Accuracy: 99.65%\n"
          ]
        }
      ],
      "source": [
        "total_step = len(test_loader)\n",
        "print(total_step)\n",
        "loss_list_test = []\n",
        "acc_list_test = []\n",
        "with torch.no_grad():\n",
        "    for i, (signals, labels) in enumerate(test_loader):\n",
        "        # Run the forward pass\n",
        "        #print(labels)\n",
        "        signals=signals\n",
        "        labels=labels\n",
        "        outputs = cnn(signals.double())\n",
        "        loss = criterion(outputs, labels.long())\n",
        "        loss_list_test.append(loss.item())\n",
        "        if epoch%10 ==0:\n",
        "            print(loss)\n",
        "        total = labels.size(0)\n",
        "        _, predicted = torch.max(outputs.data, 1)\n",
        "        correct = (predicted == labels.long()).sum().item()\n",
        "        acc_list_test.append(correct / total)\n",
        "        #print(outputs.shape)\n",
        "        #print(outputs)\n",
        "        #print(predicted)\n",
        "        #print(labels.shape)\n",
        "        if (epoch) % 1 == 0:\n",
        "            print('Epoch [{}/{}], Step [{}/{}], Loss: {:.4f}, Accuracy: {:.2f}%'\n",
        "                  .format(epoch + 1, num_epochs, i + 1, total_step, loss.item(),\n",
        "                          (correct / total) * 100))"
      ]
    },
    {
      "cell_type": "code",
      "source": [
        "labels"
      ],
      "metadata": {
        "colab": {
          "base_uri": "https://localhost:8080/"
        },
        "id": "sQWtCwu6OjFI",
        "outputId": "72bda859-28b9-44ff-ce25-3487c580bc1f"
      },
      "execution_count": null,
      "outputs": [
        {
          "output_type": "execute_result",
          "data": {
            "text/plain": [
              "tensor([1, 2, 2, 2, 2, 1, 2, 1, 0, 1, 1, 0, 3, 1, 1, 1, 3, 3, 2, 1, 1, 1, 2, 1,\n",
              "        2, 2, 2, 2, 2, 2, 1, 1, 2, 1, 1, 0, 1, 1, 2, 2, 1, 0, 3, 3])"
            ]
          },
          "metadata": {},
          "execution_count": 181
        }
      ]
    },
    {
      "cell_type": "code",
      "source": [
        "b =[]\n",
        "for i in range(len(loss_list_test)):\n",
        "  b.append(i+1)\n",
        "b = np.array(b)\n",
        "\n",
        "plt.plot(b, loss_list_test, 'r')\n",
        "plt.plot(b, acc_list_test, 'b')\n",
        "plt.xlabel('Steps')\n",
        "plt.ylabel('Loss & Accuracy')\n",
        "plt.show()"
      ],
      "metadata": {
        "id": "1a3merTl0iLP",
        "colab": {
          "base_uri": "https://localhost:8080/",
          "height": 449
        },
        "outputId": "4af71083-722f-49f2-cbd1-1302f9100f61"
      },
      "execution_count": null,
      "outputs": [
        {
          "output_type": "display_data",
          "data": {
            "text/plain": [
              "<Figure size 640x480 with 1 Axes>"
            ],
            "image/png": "[encoded data removed]"
          },
          "metadata": {}
        }
      ]
    },
    {
      "cell_type": "code",
      "source": [
        "loss_list_test"
      ],
      "metadata": {
        "id": "4-jqI1wCromv"
      },
      "execution_count": null,
      "outputs": []
    },
    {
      "cell_type": "code",
      "source": [
        "predicted\n"
      ],
      "metadata": {
        "colab": {
          "base_uri": "https://localhost:8080/"
        },
        "id": "cFWPmHvcTpz-",
        "outputId": "f72f2f1b-c3a6-4748-cfb5-6715ebfb9453"
      },
      "execution_count": null,
      "outputs": [
        {
          "output_type": "execute_result",
          "data": {
            "text/plain": [
              "tensor([1, 2, 2, 2])"
            ]
          },
          "metadata": {},
          "execution_count": 113
        }
      ]
    },
    {
      "cell_type": "code",
      "source": [
        "arr1 = pd.DataFrame(loss_list_test)\n",
        "arr1.to_excel('/content/drive/MyDrive/KCCP/loss_list_test.xlsx', index=False, header=False)\n",
        "arr2 = pd.DataFrame(acc_list_test)\n",
        "arr2.to_excel('/content/drive/MyDrive/KCCP/acc_list_test.xlsx', index=False, header=False)"
      ],
      "metadata": {
        "id": "cqC8Z9rwlKZr"
      },
      "execution_count": null,
      "outputs": []
    },
    {
      "cell_type": "code",
      "source": [
        "from sklearn.metrics import confusion_matrix\n",
        "from sklearn.metrics import ConfusionMatrixDisplay\n",
        "\n",
        "cm = confusion_matrix(labels, predicted)\n",
        "\n",
        "cm_display = ConfusionMatrixDisplay(cm).plot()\n"
      ],
      "metadata": {
        "colab": {
          "base_uri": "https://localhost:8080/",
          "height": 449
        },
        "id": "-ZcEq-iHBiHM",
        "outputId": "f9fc5e7c-1ddd-449c-b422-2cdafd4ce50d"
      },
      "execution_count": null,
      "outputs": [
        {
          "output_type": "display_data",
          "data": {
            "text/plain": [
              "<Figure size 640x480 with 2 Axes>"
            ],
            "image/png": "[encoded data removed]"
          },
          "metadata": {}
        }
      ]
    },
    {
      "cell_type": "code",
      "source": [
        "from sklearn.metrics import confusion_matrix, ConfusionMatrixDisplay\n",
        "\n",
        "cnn.eval()\n",
        "train_preds = []\n",
        "train_labels = []\n",
        "with torch.no_grad():\n",
        "    for data, target in train_loader:\n",
        "        output = cnn(data.double())\n",
        "        _, preds = torch.max(output, 1)\n",
        "        train_preds.extend(preds.tolist())\n",
        "        train_labels.extend(target.tolist())\n",
        "\n",
        "cm = confusion_matrix(train_labels, train_preds)\n",
        "cm_display = ConfusionMatrixDisplay(cm).plot()\n"
      ],
      "metadata": {
        "colab": {
          "base_uri": "https://localhost:8080/",
          "height": 452
        },
        "id": "JaiEFMVNfoev",
        "outputId": "ae36bc9f-a9d6-4144-87b9-3b92ab99850a"
      },
      "execution_count": null,
      "outputs": [
        {
          "output_type": "display_data",
          "data": {
            "text/plain": [
              "<Figure size 640x480 with 2 Axes>"
            ],
            "image/png": "[encoded data removed]"
          },
          "metadata": {}
        }
      ]
    },
    {
      "cell_type": "code",
      "source": [
        "arr1 = pd.DataFrame(labels)\n",
        "arr1.to_excel('/content/drive/MyDrive/KCCP/labels.xlsx', index=False, header=False)\n",
        "arr2 = pd.DataFrame(predicted)\n",
        "arr2.to_excel('/content/drive/MyDrive/KCCP/predicted.xlsx', index=False, header=False)"
      ],
      "metadata": {
        "id": "_vxwyPTAlgjG"
      },
      "execution_count": null,
      "outputs": []
    },
    {
      "cell_type": "code",
      "source": [
        "from operator import truediv\n",
        "\n",
        "tp = np.diag(cm)\n",
        "prec = list(map(truediv, tp, np.sum(cm, axis=0)))\n",
        "rec = list(map(truediv, tp, np.sum(cm, axis=1)))\n",
        "print ('Precision: {}\\nRecall: {}'.format(prec, rec))"
      ],
      "metadata": {
        "colab": {
          "base_uri": "https://localhost:8080/"
        },
        "id": "exZqi-aDBjDx",
        "outputId": "0bd811be-1a04-465d-abcf-7e292c243aa5"
      },
      "execution_count": null,
      "outputs": [
        {
          "output_type": "stream",
          "name": "stdout",
          "text": [
            "Precision: [1.0, 1.0, 0.9859154929577465, 1.0]\n",
            "Recall: [0.987012987012987, 1.0, 1.0, 1.0]\n"
          ]
        }
      ]
    },
    {
      "cell_type": "code",
      "source": [
        "from sklearn.metrics import f1_score\n",
        "\n",
        "f1 = f1_score(labels, predicted, average='macro')\n",
        "print('F1 score:', f1)"
      ],
      "metadata": {
        "colab": {
          "base_uri": "https://localhost:8080/"
        },
        "id": "CcdWA7A7Q5l3",
        "outputId": "04083a1e-7a53-4a59-b1f8-562867df04bf"
      },
      "execution_count": null,
      "outputs": [
        {
          "output_type": "stream",
          "name": "stdout",
          "text": [
            "F1 score: 0.9965929634265054\n"
          ]
        }
      ]
    },
    {
      "cell_type": "code",
      "execution_count": null,
      "metadata": {
        "id": "P6N-VlPSlKVQ"
      },
      "outputs": [],
      "source": [
        "# if you need to save\n",
        "torch.save(cnn,'cnnTC3_fold3_45.pth')"
      ]
    },
    {
      "cell_type": "code",
      "source": [
        "!git clone https://github.com/WongKinYiu/yolov7.git"
      ],
      "metadata": {
        "colab": {
          "base_uri": "https://localhost:8080/"
        },
        "id": "2jqGtDNzVOJK",
        "outputId": "fc64d3db-b8eb-4c3b-c16c-37a46b85c36c"
      },
      "execution_count": null,
      "outputs": [
        {
          "output_type": "stream",
          "name": "stdout",
          "text": [
            "Cloning into 'yolov7'...\n",
            "remote: Enumerating objects: 1139, done.\u001b[K\n",
            "remote: Total 1139 (delta 0), reused 0 (delta 0), pack-reused 1139\u001b[K\n",
            "Receiving objects: 100% (1139/1139), 70.41 MiB | 33.14 MiB/s, done.\n",
            "Resolving deltas: 100% (488/488), done.\n"
          ]
        }
      ]
    }
  ],
  "metadata": {
    "colab": {
      "provenance": []
    },
    "gpuClass": "standard",
    "kernelspec": {
      "display_name": "Python 3 (ipykernel)",
      "language": "python",
      "name": "python3"
    },
    "language_info": {
      "codemirror_mode": {
        "name": "ipython",
        "version": 3
      },
      "file_extension": ".py",
      "mimetype": "text/x-python",
      "name": "python",
      "nbconvert_exporter": "python",
      "pygments_lexer": "ipython3",
      "version": "3.9.13"
    }
  },
  "nbformat": 4,
  "nbformat_minor": 0
}