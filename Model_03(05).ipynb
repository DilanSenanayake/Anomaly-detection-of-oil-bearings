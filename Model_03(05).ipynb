{
  "cells": [
    {
      "cell_type": "code",
      "execution_count": null,
      "metadata": {
        "id": "J98o_-FLlKU6"
      },
      "outputs": [],
      "source": [
        "import numpy as np\n",
        "import pandas as pd\n",
        "import torch\n",
        "import torch.nn as nn\n",
        "from torch.utils.data import DataLoader\n",
        "from torch.optim import Adam\n",
        "import torch.nn.functional as F\n",
        "from sklearn.preprocessing import StandardScaler\n",
        "from sklearn.preprocessing import MinMaxScaler"
      ]
    },
    {
      "cell_type": "code",
      "execution_count": null,
      "metadata": {
        "colab": {
          "base_uri": "https://localhost:8080/"
        },
        "id": "U8OYclpAos4C",
        "outputId": "b4351785-9c82-490c-e9ad-ff1d0c899b88"
      },
      "outputs": [
        {
          "output_type": "stream",
          "name": "stdout",
          "text": [
            "Mounted at /content/drive\n"
          ]
        }
      ],
      "source": [
        "from google.colab import drive\n",
        "drive.mount('/content/drive')"
      ]
    },
    {
      "cell_type": "code",
      "execution_count": null,
      "metadata": {
        "id": "d7qneXvTxl-0"
      },
      "outputs": [],
      "source": [
        "dataset = pd.read_excel(\"/content/drive/MyDrive/KCCP/Good.xlsx\")\n",
        "type01 = pd.read_excel(\"/content/drive/MyDrive/KCCP/Anomaly/Type 01.xlsx\")\n",
        "type02 = pd.read_excel(\"/content/drive/MyDrive/KCCP/Anomaly/Type 02.xlsx\")\n",
        "type03 = pd.read_excel(\"/content/drive/MyDrive/KCCP/Anomaly/Type 03.xlsx\")"
      ]
    },
    {
      "cell_type": "code",
      "source": [
        "val_dataset = pd.read_csv(\"/content/drive/MyDrive/KCCP/Trend 2023-03-29/Trend 2023-03-29.csv\", delimiter='\\t', header=0)"
      ],
      "metadata": {
        "id": "cwnynAXacdXb"
      },
      "execution_count": null,
      "outputs": []
    },
    {
      "cell_type": "code",
      "execution_count": null,
      "metadata": {
        "id": "g3woAjOYPkhH"
      },
      "outputs": [],
      "source": [
        "type1 = type01[:100000] #923400\n",
        "type2 = type02[:100000] #963200\n",
        "type3 = type03[:100000] #261400"
      ]
    },
    {
      "cell_type": "code",
      "execution_count": null,
      "metadata": {
        "id": "uv4OADNZNF-6"
      },
      "outputs": [],
      "source": [
        "# type 01\n",
        "type1A = np.array(type1.loc[:, 'bb10'])\n",
        "type1B = np.array(type1.loc[:, 'TNH'])\n",
        "type1C = np.array(type1.loc[:, 'DWATT'])\n",
        "type1D = np.array(type1.loc[:, 'btgj1'])\n",
        "\n",
        "# type 02\n",
        "type2A = np.array(type2.loc[:, 'bb10'])\n",
        "type2B = np.array(type2.loc[:, 'TNH'])\n",
        "type2C = np.array(type2.loc[:, 'DWATT'])\n",
        "type2D = np.array(type2.loc[:, 'btgj1'])\n",
        "\n",
        "# type 03\n",
        "type3A = np.array(type3.loc[:, 'bb10'])\n",
        "type3B = np.array(type3.loc[:, 'TNH'])\n",
        "type3C = np.array(type3.loc[:, 'DWATT'])\n",
        "type3D = np.array(type3.loc[:, 'btgj1'])"
      ]
    },
    {
      "cell_type": "code",
      "execution_count": null,
      "metadata": {
        "colab": {
          "base_uri": "https://localhost:8080/"
        },
        "id": "5EKWzloGXE1Q",
        "outputId": "8082a0ee-6cd5-48e0-cf4c-8f28b4457a1d"
      },
      "outputs": [
        {
          "output_type": "execute_result",
          "data": {
            "text/plain": [
              "(100000,)"
            ]
          },
          "metadata": {},
          "execution_count": 6
        }
      ],
      "source": [
        "type2A.shape"
      ]
    },
    {
      "cell_type": "code",
      "source": [
        "#apped stages\n",
        "datasetA1 = np.append(type1A,type2A, axis=0)\n",
        "datasetA1 = np.append(datasetA1, type3A, axis=0)\n",
        "\n",
        "datasetB1 = np.append(type1B, type2B, axis=0)\n",
        "datasetB1 = np.append(datasetB1, type3B, axis=0)\n",
        "\n",
        "datasetC1 = np.append(type1C,type2C, axis=0)\n",
        "datasetC1 = np.append(datasetC1, type3C, axis=0)\n",
        "\n",
        "datasetD1 = np.append(type1D,type2D, axis=0)\n",
        "datasetD1 = np.append(datasetD1, type3D, axis=0)\n",
        "\n",
        "datasetA1"
      ],
      "metadata": {
        "id": "NqahN0E6cd-Y",
        "colab": {
          "base_uri": "https://localhost:8080/"
        },
        "outputId": "dcb773cc-0012-406d-cb7b-6d9db8bc3048"
      },
      "execution_count": null,
      "outputs": [
        {
          "output_type": "execute_result",
          "data": {
            "text/plain": [
              "array([0.40951368, 0.40831387, 0.40872183, ..., 0.35251439, 0.35250777,\n",
              "       0.35316712])"
            ]
          },
          "metadata": {},
          "execution_count": 7
        }
      ]
    },
    {
      "cell_type": "code",
      "execution_count": null,
      "metadata": {
        "colab": {
          "base_uri": "https://localhost:8080/"
        },
        "id": "jT4i8coJHWRR",
        "outputId": "8450a1fd-76da-44cf-b552-9719c41ed9fa"
      },
      "outputs": [
        {
          "output_type": "execute_result",
          "data": {
            "text/plain": [
              "(300000,)"
            ]
          },
          "metadata": {},
          "execution_count": 44
        }
      ],
      "source": [
        "datasetA1.shape"
      ]
    },
    {
      "cell_type": "code",
      "source": [
        "dataset.shape"
      ],
      "metadata": {
        "colab": {
          "base_uri": "https://localhost:8080/"
        },
        "id": "nlIqCZtgVWpt",
        "outputId": "896cc1f7-aacc-47fa-92d0-a1236ea9f06d"
      },
      "execution_count": null,
      "outputs": [
        {
          "output_type": "execute_result",
          "data": {
            "text/plain": [
              "(100000, 13)"
            ]
          },
          "metadata": {},
          "execution_count": 45
        }
      ]
    },
    {
      "cell_type": "code",
      "source": [
        "# Good data\n",
        "dataset = dataset[:100000]"
      ],
      "metadata": {
        "id": "BdSIKOZRZlBG"
      },
      "execution_count": null,
      "outputs": []
    },
    {
      "cell_type": "code",
      "source": [
        "dataset.loc[:, 'bb10']"
      ],
      "metadata": {
        "colab": {
          "base_uri": "https://localhost:8080/"
        },
        "id": "W68wRk-XYUJd",
        "outputId": "3d399dc8-9857-4392-a12b-739178a8217a"
      },
      "execution_count": null,
      "outputs": [
        {
          "output_type": "execute_result",
          "data": {
            "text/plain": [
              "0        0.065511\n",
              "1        0.065515\n",
              "2        0.066340\n",
              "3        0.065526\n",
              "4        0.066339\n",
              "           ...   \n",
              "99995    0.161245\n",
              "99996    0.162465\n",
              "99997    0.162055\n",
              "99998    0.160426\n",
              "99999    0.160836\n",
              "Name: bb10, Length: 100000, dtype: float64"
            ]
          },
          "metadata": {},
          "execution_count": 9
        }
      ]
    },
    {
      "cell_type": "code",
      "execution_count": null,
      "metadata": {
        "id": "imfeeGcuzD--"
      },
      "outputs": [],
      "source": [
        "# Good data\n",
        "datasetA_1 = np.array(dataset.loc[:, 'bb10'])       \n",
        "datasetB_1 = np.array(dataset.loc[:, 'TNH'])       \n",
        "datasetC_1 = np.array(dataset.loc[:, 'DWATT'])     \n",
        "datasetD_1 = np.array(dataset.loc[:, 'btgj1'])     \n",
        "\n",
        "# datasetA_2 = np.array(val_dataset.loc[:200000,'bb10'])      \n",
        "# datasetB_2 = np.array(val_dataset.loc[:200000,'TNH'])      \n",
        "# datasetC_2 = np.array(val_dataset.loc[:200000,'DWATT'])      \n",
        "# datasetD_2 = np.array(val_dataset.loc[:200000,'btgj1'])    "
      ]
    },
    {
      "cell_type": "code",
      "execution_count": null,
      "metadata": {
        "id": "ayUv8Qt50oz2",
        "colab": {
          "base_uri": "https://localhost:8080/"
        },
        "outputId": "5c687c65-e04b-4adc-fda6-63737f6fce26"
      },
      "outputs": [
        {
          "output_type": "execute_result",
          "data": {
            "text/plain": [
              "(100000,)"
            ]
          },
          "metadata": {},
          "execution_count": 11
        }
      ],
      "source": [
        "# # This is used to add val_dataset to good data\n",
        "# GoodDataA = np.concatenate((datasetA_2, datasetB_1))\n",
        "# GoodDataB = np.concatenate((datasetB_2, datasetB_1))\n",
        "# GoodDataC = np.concatenate((datasetC_2, datasetC_1))\n",
        "# GoodDataD = np.concatenate((datasetD_2, datasetD_1))\n",
        "\n",
        "GoodDataA = datasetA_1\n",
        "GoodDataB = datasetB_1\n",
        "GoodDataC = datasetC_1\n",
        "GoodDataD = datasetD_1\n",
        "GoodDataA.shape"
      ]
    },
    {
      "cell_type": "code",
      "execution_count": null,
      "metadata": {
        "id": "D_DgkqcuETHX"
      },
      "outputs": [],
      "source": [
        "AnomalyDataA = datasetA1\n",
        "AnomalyDataB = datasetB1\n",
        "AnomalyDataC = datasetC1\n",
        "AnomalyDataD = datasetD1"
      ]
    },
    {
      "cell_type": "code",
      "execution_count": null,
      "metadata": {
        "id": "k1BhafVkbQgu"
      },
      "outputs": [],
      "source": [
        "# without scalar\n",
        "\n",
        "GoodDataA_scaled = GoodDataA\n",
        "GoodDataB_scaled = GoodDataB\n",
        "GoodDataC_scaled = GoodDataC\n",
        "GoodDataD_scaled = GoodDataD\n",
        "\n",
        "AnomalyDataA_scaled = AnomalyDataA\n",
        "AnomalyDataB_scaled = AnomalyDataB\n",
        "AnomalyDataC_scaled = AnomalyDataC\n",
        "AnomalyDataD_scaled = AnomalyDataD"
      ]
    },
    {
      "cell_type": "code",
      "source": [
        "GoodDataA"
      ],
      "metadata": {
        "id": "xtQ51sxo5-id",
        "colab": {
          "base_uri": "https://localhost:8080/"
        },
        "outputId": "446df130-e07b-4840-c2a3-c536a0d57f99"
      },
      "execution_count": null,
      "outputs": [
        {
          "output_type": "execute_result",
          "data": {
            "text/plain": [
              "array([0.06551117, 0.06551506, 0.06633957, ..., 0.16205481, 0.16042608,\n",
              "       0.16083635])"
            ]
          },
          "metadata": {},
          "execution_count": 12
        }
      ]
    },
    {
      "cell_type": "code",
      "execution_count": null,
      "metadata": {
        "colab": {
          "base_uri": "https://localhost:8080/"
        },
        "id": "gEl1JmlBCVB-",
        "outputId": "78f70755-0819-4ea7-bb6c-c2402efee986"
      },
      "outputs": [
        {
          "output_type": "execute_result",
          "data": {
            "text/plain": [
              "(4000,)"
            ]
          },
          "metadata": {},
          "execution_count": 14
        }
      ],
      "source": [
        "# Labels\n",
        "labels1 = []\n",
        "for k in range(1000): # 1140\n",
        "  labels1.append(0)\n",
        "for l in range(1000): # 9234\n",
        "  labels1.append(1)\n",
        "for o in range(1000): # 9632\n",
        "  labels1.append(2)\n",
        "for p in range(1000): # 2614\n",
        "  labels1.append(3)\n",
        "labels1 = np.array(labels1)\n",
        "labels1.shape"
      ]
    },
    {
      "cell_type": "code",
      "execution_count": null,
      "metadata": {
        "colab": {
          "base_uri": "https://localhost:8080/"
        },
        "id": "13ATmwZ03CTm",
        "outputId": "09c534eb-dc82-463b-ea43-977644d919f2"
      },
      "outputs": [
        {
          "output_type": "execute_result",
          "data": {
            "text/plain": [
              "array([[0.05846722, 0.05850233, 0.06594525, ..., 0.05123111, 0.05124517,\n",
              "        0.05515179],\n",
              "       [0.0514768 , 0.05516746, 0.05518266, ..., 0.04769763, 0.04229791,\n",
              "        0.04362287],\n",
              "       [0.04398801, 0.03663978, 0.03661442, ..., 0.04742807, 0.05139535,\n",
              "        0.05139798],\n",
              "       ...,\n",
              "       [0.92246442, 0.92611553, 0.92242891, ..., 0.95551987, 0.94815887,\n",
              "        0.94081158],\n",
              "       [0.94446242, 0.93339704, 0.94073921, ..., 0.92243819, 0.92245594,\n",
              "        0.9188273 ],\n",
              "       [0.92253369, 0.92621144, 0.93355092, ..., 0.92997406, 0.91527142,\n",
              "        0.91897499]])"
            ]
          },
          "metadata": {},
          "execution_count": 15
        }
      ],
      "source": [
        "# A - bb10\n",
        "\n",
        "a = min(GoodDataA_scaled)\n",
        "l = max(GoodDataA_scaled)-min(GoodDataA_scaled)\n",
        "\n",
        "r = 0\n",
        "for i in range(1000):\n",
        "  p = []\n",
        "  for j in range(100):\n",
        "    p.append((GoodDataA_scaled[r]-a)/l)\n",
        "    r = r + 1\n",
        "  if i == 0:\n",
        "    dataA = np.array([p])\n",
        "  else:\n",
        "    dataA = np.append(dataA, [p], axis = 0)\n",
        "dataA"
      ]
    },
    {
      "cell_type": "code",
      "source": [
        "dataA.shape"
      ],
      "metadata": {
        "colab": {
          "base_uri": "https://localhost:8080/"
        },
        "id": "7x_sDvGkbml5",
        "outputId": "44dc733c-7b59-4a1a-b2a7-7d64de262117"
      },
      "execution_count": null,
      "outputs": [
        {
          "output_type": "execute_result",
          "data": {
            "text/plain": [
              "(2000, 100)"
            ]
          },
          "metadata": {},
          "execution_count": 131
        }
      ]
    },
    {
      "cell_type": "code",
      "execution_count": null,
      "metadata": {
        "id": "qxoe8-ZPJ2I2",
        "colab": {
          "base_uri": "https://localhost:8080/"
        },
        "outputId": "cedf4d24-95fc-4947-c133-a8738737bebe"
      },
      "outputs": [
        {
          "output_type": "execute_result",
          "data": {
            "text/plain": [
              "array([[0.        , 0.00405525, 0.00773692, ..., 0.35692588, 0.36076976,\n",
              "        0.36350275],\n",
              "       [0.36703205, 0.37025167, 0.37309772, ..., 0.66938163, 0.67132323,\n",
              "        0.67487218],\n",
              "       [0.67789519, 0.68099688, 0.68351356, ..., 0.8395547 , 0.83918108,\n",
              "        0.83838972],\n",
              "       ...,\n",
              "       [0.8311296 , 0.83145399, 0.83139008, ..., 0.83190621, 0.83202914,\n",
              "        0.83255017],\n",
              "       [0.83228962, 0.83300729, 0.83300729, ..., 0.84305449, 0.84402773,\n",
              "        0.84493707],\n",
              "       [0.84472574, 0.84523202, 0.84617086, ..., 0.85271828, 0.85252164,\n",
              "        0.85213333]])"
            ]
          },
          "metadata": {},
          "execution_count": 16
        }
      ],
      "source": [
        "# B - TNH\n",
        "\n",
        "a = min(GoodDataB_scaled)\n",
        "l = max(GoodDataB_scaled)-min(GoodDataB_scaled)\n",
        "\n",
        "r = 0\n",
        "for i in range(1000):\n",
        "  p = []\n",
        "  for j in range(100):\n",
        "    p.append((GoodDataB_scaled[r]-a)/l)\n",
        "    r = r + 1\n",
        "  if i == 0:\n",
        "    dataB = np.array([p])\n",
        "  else:\n",
        "    dataB = np.append(dataB, [p], axis = 0)\n",
        "dataB"
      ]
    },
    {
      "cell_type": "code",
      "execution_count": null,
      "metadata": {
        "id": "Q5_PT4wBJ_Et",
        "colab": {
          "base_uri": "https://localhost:8080/"
        },
        "outputId": "92be555a-0c4b-47a4-fa54-4031acbf4eff"
      },
      "outputs": [
        {
          "output_type": "execute_result",
          "data": {
            "text/plain": [
              "array([[3.07077663e-04, 2.45151305e-04, 3.25539066e-04, ...,\n",
              "        3.68331882e-04, 2.45016877e-04, 2.44927259e-04],\n",
              "       [4.30168621e-04, 1.82821664e-04, 4.30079003e-04, ...,\n",
              "        3.68645547e-04, 2.61372246e-04, 3.68242264e-04],\n",
              "       [1.82642427e-04, 4.46389563e-04, 1.82418381e-04, ...,\n",
              "        3.07570564e-04, 2.59266213e-04, 4.31199233e-04],\n",
              "       ...,\n",
              "       [9.89042328e-01, 9.88486776e-01, 9.88486984e-01, ...,\n",
              "        9.90163998e-01, 9.90472330e-01, 9.90781634e-01],\n",
              "       [9.90905801e-01, 9.90411429e-01, 9.90350388e-01, ...,\n",
              "        9.87018398e-01, 9.86462846e-01, 9.86399928e-01],\n",
              "       [9.85843750e-01, 9.85906320e-01, 9.85596947e-01, ...,\n",
              "        9.88383396e-01, 9.88938322e-01, 9.89556583e-01]])"
            ]
          },
          "metadata": {},
          "execution_count": 17
        }
      ],
      "source": [
        "# C - DWATT\n",
        "\n",
        "a = min(GoodDataC_scaled)\n",
        "l = max(GoodDataC_scaled)-min(GoodDataC_scaled)\n",
        "\n",
        "r = 0\n",
        "for i in range(1000):\n",
        "  p = []\n",
        "  for j in range(100):\n",
        "    p.append((GoodDataC_scaled[r]-a)/l)\n",
        "    r = r + 1\n",
        "  if i == 0:\n",
        "    dataC = np.array([p])\n",
        "  else:\n",
        "    dataC = np.append(dataC, [p], axis = 0)\n",
        "dataC"
      ]
    },
    {
      "cell_type": "code",
      "execution_count": null,
      "metadata": {
        "colab": {
          "base_uri": "https://localhost:8080/"
        },
        "id": "O8mWRbj3T1cL",
        "outputId": "f0a82f81-103c-4280-aeea-de3b9ca7c33b"
      },
      "outputs": [
        {
          "output_type": "execute_result",
          "data": {
            "text/plain": [
              "(1000, 100)"
            ]
          },
          "metadata": {},
          "execution_count": 18
        }
      ],
      "source": [
        "# D - btgj1\n",
        "\n",
        "a = min(GoodDataD_scaled)\n",
        "l = max(GoodDataD_scaled)-min(GoodDataD_scaled)\n",
        "\n",
        "r = 0\n",
        "for i in range(1000):\n",
        "  p = []\n",
        "  for j in range(100):\n",
        "    p.append((GoodDataD_scaled[r]-a)/l)\n",
        "    r = r + 1\n",
        "  if i == 0:\n",
        "    dataD = np.array([p])\n",
        "  else:\n",
        "    dataD = np.append(dataD, [p], axis = 0)\n",
        "dataD.shape"
      ]
    },
    {
      "cell_type": "code",
      "execution_count": null,
      "metadata": {
        "id": "XG2Gv0G0KKoD",
        "colab": {
          "base_uri": "https://localhost:8080/"
        },
        "outputId": "5da29505-b804-4765-b6ee-84bcfd187d7f"
      },
      "outputs": [
        {
          "output_type": "execute_result",
          "data": {
            "text/plain": [
              "array([[0.05846722, 0.05850233, 0.06594525, ..., 0.05123111, 0.05124517,\n",
              "        0.05515179],\n",
              "       [0.0514768 , 0.05516746, 0.05518266, ..., 0.04769763, 0.04229791,\n",
              "        0.04362287],\n",
              "       [0.04398801, 0.03663978, 0.03661442, ..., 0.04742807, 0.05139535,\n",
              "        0.05139798],\n",
              "       ...,\n",
              "       [2.65554707, 2.66026367, 2.66298838, ..., 2.6564962 , 2.66306802,\n",
              "        2.65569073],\n",
              "       [2.65565576, 2.65642922, 2.65929087, ..., 2.67129785, 2.66767162,\n",
              "        2.66764095],\n",
              "       [2.66028492, 2.66264645, 2.66287835, ..., 2.64926742, 2.6492077 ,\n",
              "        2.65515967]])"
            ]
          },
          "metadata": {},
          "execution_count": 19
        }
      ],
      "source": [
        "# A - bb10\n",
        "\n",
        "a = min(GoodDataA_scaled)\n",
        "l = max(GoodDataA_scaled)-min(GoodDataA_scaled)\n",
        "\n",
        "r = 0\n",
        "for i in range(3000):\n",
        "  p = []\n",
        "  for j in range(100):\n",
        "    p.append((AnomalyDataA_scaled[r]-a)/l)\n",
        "    r = r + 1\n",
        "  dataA = np.append(dataA, [p], axis = 0)\n",
        "dataA"
      ]
    },
    {
      "cell_type": "code",
      "execution_count": null,
      "metadata": {
        "colab": {
          "base_uri": "https://localhost:8080/"
        },
        "id": "X9q-3xfPKUgt",
        "outputId": "420d5649-2c6e-40af-fa7e-117eed886ae9"
      },
      "outputs": [
        {
          "output_type": "execute_result",
          "data": {
            "text/plain": [
              "(4000, 100)"
            ]
          },
          "metadata": {},
          "execution_count": 20
        }
      ],
      "source": [
        "# B - TNH\n",
        "\n",
        "a = min(GoodDataB_scaled)\n",
        "l = max(GoodDataB_scaled)-min(GoodDataB_scaled)\n",
        "\n",
        "r = 0\n",
        "for i in range(3000):\n",
        "  p = []\n",
        "  for j in range(100):\n",
        "    p.append((AnomalyDataB_scaled[r]-a)/l)\n",
        "    r = r + 1\n",
        "  dataB = np.append(dataB, [p], axis = 0)\n",
        "dataB.shape"
      ]
    },
    {
      "cell_type": "code",
      "execution_count": null,
      "metadata": {
        "id": "zoCYTDhkKbYt",
        "colab": {
          "base_uri": "https://localhost:8080/"
        },
        "outputId": "819113c3-fccf-4daa-fdb7-ae3bae1c8e07"
      },
      "outputs": [
        {
          "output_type": "execute_result",
          "data": {
            "text/plain": [
              "array([[3.07077663e-04, 2.45151305e-04, 3.25539066e-04, ...,\n",
              "        3.68331882e-04, 2.45016877e-04, 2.44927259e-04],\n",
              "       [4.30168621e-04, 1.82821664e-04, 4.30079003e-04, ...,\n",
              "        3.68645547e-04, 2.61372246e-04, 3.68242264e-04],\n",
              "       [1.82642427e-04, 4.46389563e-04, 1.82418381e-04, ...,\n",
              "        3.07570564e-04, 2.59266213e-04, 4.31199233e-04],\n",
              "       ...,\n",
              "       [9.58628589e-01, 9.58504979e-01, 9.58381646e-01, ...,\n",
              "        9.61224617e-01, 9.60235108e-01, 9.59123240e-01],\n",
              "       [9.58318242e-01, 9.57700259e-01, 9.58008382e-01, ...,\n",
              "        9.62276906e-01, 9.62091142e-01, 9.62091629e-01],\n",
              "       [9.62276975e-01, 9.61905518e-01, 9.61781699e-01, ...,\n",
              "        9.54613056e-01, 9.53993822e-01, 9.54179864e-01]])"
            ]
          },
          "metadata": {},
          "execution_count": 21
        }
      ],
      "source": [
        "# C - DWATT\n",
        "\n",
        "a = min(GoodDataC_scaled)\n",
        "l = max(GoodDataC_scaled)-min(GoodDataC_scaled)\n",
        "\n",
        "r = 0\n",
        "for i in range(3000):\n",
        "  p = []\n",
        "  for j in range(100):\n",
        "    p.append((AnomalyDataC_scaled[r]-a)/l)\n",
        "    r = r + 1\n",
        "  dataC = np.append(dataC, [p], axis = 0)\n",
        "dataC"
      ]
    },
    {
      "cell_type": "code",
      "execution_count": null,
      "metadata": {
        "colab": {
          "base_uri": "https://localhost:8080/"
        },
        "id": "zeA-G3PiUBiL",
        "outputId": "95ce54d2-2e03-4bbf-80f7-c8ad00616aac"
      },
      "outputs": [
        {
          "output_type": "execute_result",
          "data": {
            "text/plain": [
              "array([[0.        , 0.00125823, 0.00125823, ..., 0.02659653, 0.02659653,\n",
              "        0.02659653],\n",
              "       [0.02659653, 0.03015763, 0.03015763, ..., 0.04878901, 0.04878901,\n",
              "        0.04878901],\n",
              "       [0.04878901, 0.0536192 , 0.0536192 , ..., 0.07093185, 0.07093185,\n",
              "        0.07093185],\n",
              "       ...,\n",
              "       [1.03280699, 1.03280699, 1.03280699, ..., 1.03147688, 1.03147688,\n",
              "        1.03147688],\n",
              "       [1.03147688, 1.03147688, 1.03147688, ..., 1.02789303, 1.02430659,\n",
              "        1.02430659],\n",
              "       [1.02430659, 1.02430659, 1.02430659, ..., 1.02430659, 1.02789303,\n",
              "        1.02789303]])"
            ]
          },
          "metadata": {},
          "execution_count": 22
        }
      ],
      "source": [
        "# D - btgj1\n",
        "\n",
        "a = min(GoodDataD_scaled)\n",
        "l = max(GoodDataD_scaled)-min(GoodDataD_scaled)\n",
        "\n",
        "r = 0\n",
        "for i in range(3000):\n",
        "  p = []\n",
        "  for j in range(100):\n",
        "    p.append((AnomalyDataD_scaled[r]-a)/l)\n",
        "    r = r + 1\n",
        "  dataD = np.append(dataD, [p], axis = 0)\n",
        "dataD"
      ]
    },
    {
      "cell_type": "code",
      "execution_count": null,
      "metadata": {
        "colab": {
          "base_uri": "https://localhost:8080/"
        },
        "id": "T3XrBGL9OT7P",
        "outputId": "cb33b48b-821a-4b58-8d56-825cf828d101"
      },
      "outputs": [
        {
          "output_type": "execute_result",
          "data": {
            "text/plain": [
              "(4000, 100)"
            ]
          },
          "metadata": {},
          "execution_count": 61
        }
      ],
      "source": [
        "dataD.shape"
      ]
    },
    {
      "cell_type": "code",
      "execution_count": null,
      "metadata": {
        "id": "ParxTjFS8hsv",
        "colab": {
          "base_uri": "https://localhost:8080/",
          "height": 487
        },
        "outputId": "7a0e9999-dd33-4793-fcee-284d321a131c"
      },
      "outputs": [
        {
          "output_type": "execute_result",
          "data": {
            "text/plain": [
              "            0         1         2         3         4         5         6   \\\n",
              "0     0.000307  0.000245  0.000326  0.000246  0.000202  0.000493  0.000141   \n",
              "1     0.000430  0.000183  0.000430  0.000245  0.000367  0.000183  0.000325   \n",
              "2     0.000183  0.000446  0.000182  0.000307  0.000554  0.000198  0.000245   \n",
              "3     0.000246  0.000370  0.000122  0.000246  0.000073  0.000307  0.000307   \n",
              "4     0.000260  0.000368  0.000321  0.000492  0.000136  0.000430  0.000136   \n",
              "...        ...       ...       ...       ...       ...       ...       ...   \n",
              "3995  0.964377  0.964191  0.964500  0.964624  0.965118  0.965490  0.965737   \n",
              "3996  0.959989  0.960050  0.959988  0.960235  0.960297  0.960175  0.960422   \n",
              "3997  0.958629  0.958505  0.958382  0.958382  0.958320  0.958505  0.958442   \n",
              "3998  0.958318  0.957700  0.958008  0.958997  0.960420  0.961657  0.962275   \n",
              "3999  0.962277  0.961906  0.961782  0.961410  0.960730  0.959927  0.959310   \n",
              "\n",
              "            7         8         9   ...        90        91        92  \\\n",
              "0     0.000493  0.000184  0.000369  ...  0.000324  0.000368  0.000200   \n",
              "1     0.000244  0.000201  0.000492  ...  0.000245  0.000121  0.000261   \n",
              "2     0.000259  0.000183  0.000197  ...  0.000432  0.000198  0.000370   \n",
              "3     0.000320  0.000430  0.000197  ...  0.000121  0.000197  0.000183   \n",
              "4     0.000307  0.000122  0.000260  ...  0.000199  0.000367  0.000243   \n",
              "...        ...       ...       ...  ...       ...       ...       ...   \n",
              "3995  0.965922  0.966415  0.966786  ...  0.964933  0.964192  0.963759   \n",
              "3996  0.960669  0.961164  0.961472  ...  0.962400  0.962708  0.963079   \n",
              "3997  0.958505  0.958135  0.958135  ...  0.964686  0.964561  0.964068   \n",
              "3998  0.962954  0.962955  0.963141  ...  0.957890  0.958385  0.959127   \n",
              "3999  0.958507  0.958136  0.957581  ...  0.961410  0.960608  0.960113   \n",
              "\n",
              "            93        94        95        96        97        98        99  \n",
              "0     0.000491  0.000182  0.000367  0.000183  0.000368  0.000245  0.000245  \n",
              "1     0.000182  0.000306  0.000492  0.000368  0.000369  0.000261  0.000368  \n",
              "2     0.000199  0.000247  0.000322  0.000321  0.000308  0.000259  0.000431  \n",
              "3     0.000444  0.000491  0.000183  0.000430  0.000183  0.000306  0.000198  \n",
              "4     0.000429  0.000306  0.000200  0.000244  0.000324  0.000429  0.000245  \n",
              "...        ...       ...       ...       ...       ...       ...       ...  \n",
              "3995  0.962832  0.962151  0.961285  0.960853  0.960358  0.959927  0.959866  \n",
              "3996  0.963140  0.962831  0.961966  0.961100  0.959988  0.959308  0.958814  \n",
              "3997  0.963696  0.963079  0.962583  0.961965  0.961225  0.960235  0.959123  \n",
              "3998  0.960053  0.960795  0.961660  0.962031  0.962277  0.962091  0.962092  \n",
              "3999  0.959247  0.958321  0.957208  0.955601  0.954613  0.953994  0.954180  \n",
              "\n",
              "[4000 rows x 100 columns]"
            ],
            "text/html": [
              "\n",
              "  <div id=\"df-18c939e5-233c-4b1b-b59a-0bf2eb8ee1a1\">\n",
              "    <div class=\"colab-df-container\">\n",
              "      <div>\n",
              "<style scoped>\n",
              "    .dataframe tbody tr th:only-of-type {\n",
              "        vertical-align: middle;\n",
              "    }\n",
              "\n",
              "    .dataframe tbody tr th {\n",
              "        vertical-align: top;\n",
              "    }\n",
              "\n",
              "    .dataframe thead th {\n",
              "        text-align: right;\n",
              "    }\n",
              "</style>\n",
              "<table border=\"1\" class=\"dataframe\">\n",
              "  <thead>\n",
              "    <tr style=\"text-align: right;\">\n",
              "      <th></th>\n",
              "      <th>0</th>\n",
              "      <th>1</th>\n",
              "      <th>2</th>\n",
              "      <th>3</th>\n",
              "      <th>4</th>\n",
              "      <th>5</th>\n",
              "      <th>6</th>\n",
              "      <th>7</th>\n",
              "      <th>8</th>\n",
              "      <th>9</th>\n",
              "      <th>...</th>\n",
              "      <th>90</th>\n",
              "      <th>91</th>\n",
              "      <th>92</th>\n",
              "      <th>93</th>\n",
              "      <th>94</th>\n",
              "      <th>95</th>\n",
              "      <th>96</th>\n",
              "      <th>97</th>\n",
              "      <th>98</th>\n",
              "      <th>99</th>\n",
              "    </tr>\n",
              "  </thead>\n",
              "  <tbody>\n",
              "    <tr>\n",
              "      <th>0</th>\n",
              "      <td>0.000307</td>\n",
              "      <td>0.000245</td>\n",
              "      <td>0.000326</td>\n",
              "      <td>0.000246</td>\n",
              "      <td>0.000202</td>\n",
              "      <td>0.000493</td>\n",
              "      <td>0.000141</td>\n",
              "      <td>0.000493</td>\n",
              "      <td>0.000184</td>\n",
              "      <td>0.000369</td>\n",
              "      <td>...</td>\n",
              "      <td>0.000324</td>\n",
              "      <td>0.000368</td>\n",
              "      <td>0.000200</td>\n",
              "      <td>0.000491</td>\n",
              "      <td>0.000182</td>\n",
              "      <td>0.000367</td>\n",
              "      <td>0.000183</td>\n",
              "      <td>0.000368</td>\n",
              "      <td>0.000245</td>\n",
              "      <td>0.000245</td>\n",
              "    </tr>\n",
              "    <tr>\n",
              "      <th>1</th>\n",
              "      <td>0.000430</td>\n",
              "      <td>0.000183</td>\n",
              "      <td>0.000430</td>\n",
              "      <td>0.000245</td>\n",
              "      <td>0.000367</td>\n",
              "      <td>0.000183</td>\n",
              "      <td>0.000325</td>\n",
              "      <td>0.000244</td>\n",
              "      <td>0.000201</td>\n",
              "      <td>0.000492</td>\n",
              "      <td>...</td>\n",
              "      <td>0.000245</td>\n",
              "      <td>0.000121</td>\n",
              "      <td>0.000261</td>\n",
              "      <td>0.000182</td>\n",
              "      <td>0.000306</td>\n",
              "      <td>0.000492</td>\n",
              "      <td>0.000368</td>\n",
              "      <td>0.000369</td>\n",
              "      <td>0.000261</td>\n",
              "      <td>0.000368</td>\n",
              "    </tr>\n",
              "    <tr>\n",
              "      <th>2</th>\n",
              "      <td>0.000183</td>\n",
              "      <td>0.000446</td>\n",
              "      <td>0.000182</td>\n",
              "      <td>0.000307</td>\n",
              "      <td>0.000554</td>\n",
              "      <td>0.000198</td>\n",
              "      <td>0.000245</td>\n",
              "      <td>0.000259</td>\n",
              "      <td>0.000183</td>\n",
              "      <td>0.000197</td>\n",
              "      <td>...</td>\n",
              "      <td>0.000432</td>\n",
              "      <td>0.000198</td>\n",
              "      <td>0.000370</td>\n",
              "      <td>0.000199</td>\n",
              "      <td>0.000247</td>\n",
              "      <td>0.000322</td>\n",
              "      <td>0.000321</td>\n",
              "      <td>0.000308</td>\n",
              "      <td>0.000259</td>\n",
              "      <td>0.000431</td>\n",
              "    </tr>\n",
              "    <tr>\n",
              "      <th>3</th>\n",
              "      <td>0.000246</td>\n",
              "      <td>0.000370</td>\n",
              "      <td>0.000122</td>\n",
              "      <td>0.000246</td>\n",
              "      <td>0.000073</td>\n",
              "      <td>0.000307</td>\n",
              "      <td>0.000307</td>\n",
              "      <td>0.000320</td>\n",
              "      <td>0.000430</td>\n",
              "      <td>0.000197</td>\n",
              "      <td>...</td>\n",
              "      <td>0.000121</td>\n",
              "      <td>0.000197</td>\n",
              "      <td>0.000183</td>\n",
              "      <td>0.000444</td>\n",
              "      <td>0.000491</td>\n",
              "      <td>0.000183</td>\n",
              "      <td>0.000430</td>\n",
              "      <td>0.000183</td>\n",
              "      <td>0.000306</td>\n",
              "      <td>0.000198</td>\n",
              "    </tr>\n",
              "    <tr>\n",
              "      <th>4</th>\n",
              "      <td>0.000260</td>\n",
              "      <td>0.000368</td>\n",
              "      <td>0.000321</td>\n",
              "      <td>0.000492</td>\n",
              "      <td>0.000136</td>\n",
              "      <td>0.000430</td>\n",
              "      <td>0.000136</td>\n",
              "      <td>0.000307</td>\n",
              "      <td>0.000122</td>\n",
              "      <td>0.000260</td>\n",
              "      <td>...</td>\n",
              "      <td>0.000199</td>\n",
              "      <td>0.000367</td>\n",
              "      <td>0.000243</td>\n",
              "      <td>0.000429</td>\n",
              "      <td>0.000306</td>\n",
              "      <td>0.000200</td>\n",
              "      <td>0.000244</td>\n",
              "      <td>0.000324</td>\n",
              "      <td>0.000429</td>\n",
              "      <td>0.000245</td>\n",
              "    </tr>\n",
              "    <tr>\n",
              "      <th>...</th>\n",
              "      <td>...</td>\n",
              "      <td>...</td>\n",
              "      <td>...</td>\n",
              "      <td>...</td>\n",
              "      <td>...</td>\n",
              "      <td>...</td>\n",
              "      <td>...</td>\n",
              "      <td>...</td>\n",
              "      <td>...</td>\n",
              "      <td>...</td>\n",
              "      <td>...</td>\n",
              "      <td>...</td>\n",
              "      <td>...</td>\n",
              "      <td>...</td>\n",
              "      <td>...</td>\n",
              "      <td>...</td>\n",
              "      <td>...</td>\n",
              "      <td>...</td>\n",
              "      <td>...</td>\n",
              "      <td>...</td>\n",
              "      <td>...</td>\n",
              "    </tr>\n",
              "    <tr>\n",
              "      <th>3995</th>\n",
              "      <td>0.964377</td>\n",
              "      <td>0.964191</td>\n",
              "      <td>0.964500</td>\n",
              "      <td>0.964624</td>\n",
              "      <td>0.965118</td>\n",
              "      <td>0.965490</td>\n",
              "      <td>0.965737</td>\n",
              "      <td>0.965922</td>\n",
              "      <td>0.966415</td>\n",
              "      <td>0.966786</td>\n",
              "      <td>...</td>\n",
              "      <td>0.964933</td>\n",
              "      <td>0.964192</td>\n",
              "      <td>0.963759</td>\n",
              "      <td>0.962832</td>\n",
              "      <td>0.962151</td>\n",
              "      <td>0.961285</td>\n",
              "      <td>0.960853</td>\n",
              "      <td>0.960358</td>\n",
              "      <td>0.959927</td>\n",
              "      <td>0.959866</td>\n",
              "    </tr>\n",
              "    <tr>\n",
              "      <th>3996</th>\n",
              "      <td>0.959989</td>\n",
              "      <td>0.960050</td>\n",
              "      <td>0.959988</td>\n",
              "      <td>0.960235</td>\n",
              "      <td>0.960297</td>\n",
              "      <td>0.960175</td>\n",
              "      <td>0.960422</td>\n",
              "      <td>0.960669</td>\n",
              "      <td>0.961164</td>\n",
              "      <td>0.961472</td>\n",
              "      <td>...</td>\n",
              "      <td>0.962400</td>\n",
              "      <td>0.962708</td>\n",
              "      <td>0.963079</td>\n",
              "      <td>0.963140</td>\n",
              "      <td>0.962831</td>\n",
              "      <td>0.961966</td>\n",
              "      <td>0.961100</td>\n",
              "      <td>0.959988</td>\n",
              "      <td>0.959308</td>\n",
              "      <td>0.958814</td>\n",
              "    </tr>\n",
              "    <tr>\n",
              "      <th>3997</th>\n",
              "      <td>0.958629</td>\n",
              "      <td>0.958505</td>\n",
              "      <td>0.958382</td>\n",
              "      <td>0.958382</td>\n",
              "      <td>0.958320</td>\n",
              "      <td>0.958505</td>\n",
              "      <td>0.958442</td>\n",
              "      <td>0.958505</td>\n",
              "      <td>0.958135</td>\n",
              "      <td>0.958135</td>\n",
              "      <td>...</td>\n",
              "      <td>0.964686</td>\n",
              "      <td>0.964561</td>\n",
              "      <td>0.964068</td>\n",
              "      <td>0.963696</td>\n",
              "      <td>0.963079</td>\n",
              "      <td>0.962583</td>\n",
              "      <td>0.961965</td>\n",
              "      <td>0.961225</td>\n",
              "      <td>0.960235</td>\n",
              "      <td>0.959123</td>\n",
              "    </tr>\n",
              "    <tr>\n",
              "      <th>3998</th>\n",
              "      <td>0.958318</td>\n",
              "      <td>0.957700</td>\n",
              "      <td>0.958008</td>\n",
              "      <td>0.958997</td>\n",
              "      <td>0.960420</td>\n",
              "      <td>0.961657</td>\n",
              "      <td>0.962275</td>\n",
              "      <td>0.962954</td>\n",
              "      <td>0.962955</td>\n",
              "      <td>0.963141</td>\n",
              "      <td>...</td>\n",
              "      <td>0.957890</td>\n",
              "      <td>0.958385</td>\n",
              "      <td>0.959127</td>\n",
              "      <td>0.960053</td>\n",
              "      <td>0.960795</td>\n",
              "      <td>0.961660</td>\n",
              "      <td>0.962031</td>\n",
              "      <td>0.962277</td>\n",
              "      <td>0.962091</td>\n",
              "      <td>0.962092</td>\n",
              "    </tr>\n",
              "    <tr>\n",
              "      <th>3999</th>\n",
              "      <td>0.962277</td>\n",
              "      <td>0.961906</td>\n",
              "      <td>0.961782</td>\n",
              "      <td>0.961410</td>\n",
              "      <td>0.960730</td>\n",
              "      <td>0.959927</td>\n",
              "      <td>0.959310</td>\n",
              "      <td>0.958507</td>\n",
              "      <td>0.958136</td>\n",
              "      <td>0.957581</td>\n",
              "      <td>...</td>\n",
              "      <td>0.961410</td>\n",
              "      <td>0.960608</td>\n",
              "      <td>0.960113</td>\n",
              "      <td>0.959247</td>\n",
              "      <td>0.958321</td>\n",
              "      <td>0.957208</td>\n",
              "      <td>0.955601</td>\n",
              "      <td>0.954613</td>\n",
              "      <td>0.953994</td>\n",
              "      <td>0.954180</td>\n",
              "    </tr>\n",
              "  </tbody>\n",
              "</table>\n",
              "<p>4000 rows × 100 columns</p>\n",
              "</div>\n",
              "      <button class=\"colab-df-convert\" onclick=\"convertToInteractive('df-18c939e5-233c-4b1b-b59a-0bf2eb8ee1a1')\"\n",
              "              title=\"Convert this dataframe to an interactive table.\"\n",
              "              style=\"display:none;\">\n",
              "        \n",
              "  <svg xmlns=\"http://www.w3.org/2000/svg\" height=\"24px\"viewBox=\"0 0 24 24\"\n",
              "       width=\"24px\">\n",
              "    <path d=\"M0 0h24v24H0V0z\" fill=\"none\"/>\n",
              "    <path d=\"M18.56 5.44l.94 2.06.94-2.06 2.06-.94-2.06-.94-.94-2.06-.94 2.06-2.06.94zm-11 1L8.5 8.5l.94-2.06 2.06-.94-2.06-.94L8.5 2.5l-.94 2.06-2.06.94zm10 10l.94 2.06.94-2.06 2.06-.94-2.06-.94-.94-2.06-.94 2.06-2.06.94z\"/><path d=\"M17.41 7.96l-1.37-1.37c-.4-.4-.92-.59-1.43-.59-.52 0-1.04.2-1.43.59L10.3 9.45l-7.72 7.72c-.78.78-.78 2.05 0 2.83L4 21.41c.39.39.9.59 1.41.59.51 0 1.02-.2 1.41-.59l7.78-7.78 2.81-2.81c.8-.78.8-2.07 0-2.86zM5.41 20L4 18.59l7.72-7.72 1.47 1.35L5.41 20z\"/>\n",
              "  </svg>\n",
              "      </button>\n",
              "      \n",
              "  <style>\n",
              "    .colab-df-container {\n",
              "      display:flex;\n",
              "      flex-wrap:wrap;\n",
              "      gap: 12px;\n",
              "    }\n",
              "\n",
              "    .colab-df-convert {\n",
              "      background-color: #E8F0FE;\n",
              "      border: none;\n",
              "      border-radius: 50%;\n",
              "      cursor: pointer;\n",
              "      display: none;\n",
              "      fill: #1967D2;\n",
              "      height: 32px;\n",
              "      padding: 0 0 0 0;\n",
              "      width: 32px;\n",
              "    }\n",
              "\n",
              "    .colab-df-convert:hover {\n",
              "      background-color: #E2EBFA;\n",
              "      box-shadow: 0px 1px 2px rgba(60, 64, 67, 0.3), 0px 1px 3px 1px rgba(60, 64, 67, 0.15);\n",
              "      fill: #174EA6;\n",
              "    }\n",
              "\n",
              "    [theme=dark] .colab-df-convert {\n",
              "      background-color: #3B4455;\n",
              "      fill: #D2E3FC;\n",
              "    }\n",
              "\n",
              "    [theme=dark] .colab-df-convert:hover {\n",
              "      background-color: #434B5C;\n",
              "      box-shadow: 0px 1px 3px 1px rgba(0, 0, 0, 0.15);\n",
              "      filter: drop-shadow(0px 1px 2px rgba(0, 0, 0, 0.3));\n",
              "      fill: #FFFFFF;\n",
              "    }\n",
              "  </style>\n",
              "\n",
              "      <script>\n",
              "        const buttonEl =\n",
              "          document.querySelector('#df-18c939e5-233c-4b1b-b59a-0bf2eb8ee1a1 button.colab-df-convert');\n",
              "        buttonEl.style.display =\n",
              "          google.colab.kernel.accessAllowed ? 'block' : 'none';\n",
              "\n",
              "        async function convertToInteractive(key) {\n",
              "          const element = document.querySelector('#df-18c939e5-233c-4b1b-b59a-0bf2eb8ee1a1');\n",
              "          const dataTable =\n",
              "            await google.colab.kernel.invokeFunction('convertToInteractive',\n",
              "                                                     [key], {});\n",
              "          if (!dataTable) return;\n",
              "\n",
              "          const docLinkHtml = 'Like what you see? Visit the ' +\n",
              "            '<a target=\"_blank\" href=https://colab.research.google.com/notebooks/data_table.ipynb>data table notebook</a>'\n",
              "            + ' to learn more about interactive tables.';\n",
              "          element.innerHTML = '';\n",
              "          dataTable['output_type'] = 'display_data';\n",
              "          await google.colab.output.renderOutput(dataTable, element);\n",
              "          const docLink = document.createElement('div');\n",
              "          docLink.innerHTML = docLinkHtml;\n",
              "          element.appendChild(docLink);\n",
              "        }\n",
              "      </script>\n",
              "    </div>\n",
              "  </div>\n",
              "  "
            ]
          },
          "metadata": {},
          "execution_count": 23
        }
      ],
      "source": [
        "y = pd.DataFrame(dataC)\n",
        "y"
      ]
    },
    {
      "cell_type": "code",
      "execution_count": null,
      "metadata": {
        "colab": {
          "base_uri": "https://localhost:8080/"
        },
        "id": "4IfJeR8zV0Pu",
        "outputId": "71010ada-1d90-40ac-a7bb-2a7f09eab45f"
      },
      "outputs": [
        {
          "output_type": "execute_result",
          "data": {
            "text/plain": [
              "(8000,)"
            ]
          },
          "metadata": {},
          "execution_count": 159
        }
      ],
      "source": [
        "labels1.shape"
      ]
    },
    {
      "cell_type": "code",
      "execution_count": null,
      "metadata": {
        "id": "Q8eV3eLJlKVA"
      },
      "outputs": [],
      "source": [
        "def sig_image(data,size):\n",
        "    X=np.zeros((data.shape[0],size,size))\n",
        "    for i in range(data.shape[0]):\n",
        "        X[i]=(data[i,:].reshape(size,size))\n",
        "    return X.astype(np.float16)"
      ]
    },
    {
      "cell_type": "code",
      "execution_count": null,
      "metadata": {
        "id": "nbW_UAPcEIVM"
      },
      "outputs": [],
      "source": [
        "# bb10\n",
        "x_A = sig_image(dataA,10)\n",
        "\n",
        "# TNH\n",
        "x_B = sig_image(dataB,10)\n",
        "\n",
        "# DWATT\n",
        "x_C = sig_image(dataC,10)\n",
        "\n",
        "# btgj1\n",
        "x_D = sig_image(dataD,10)"
      ]
    },
    {
      "cell_type": "code",
      "execution_count": null,
      "metadata": {
        "colab": {
          "base_uri": "https://localhost:8080/"
        },
        "id": "bH2aZb9LlKVE",
        "outputId": "2781d308-a16d-47e7-e7dc-62f6f9b31cda"
      },
      "outputs": [
        {
          "output_type": "execute_result",
          "data": {
            "text/plain": [
              "(8000, 10, 10)"
            ]
          },
          "metadata": {},
          "execution_count": 26
        }
      ],
      "source": [
        "x_C.shape"
      ]
    },
    {
      "cell_type": "code",
      "execution_count": null,
      "metadata": {
        "id": "Jk5rjjq5lKVF",
        "colab": {
          "base_uri": "https://localhost:8080/"
        },
        "outputId": "262b447e-74a4-43c1-a9cf-4a26869d7584"
      },
      "outputs": [
        {
          "output_type": "execute_result",
          "data": {
            "text/plain": [
              "array([[[[5.8472e-02, 5.8502e-02, 6.5918e-02, ..., 6.2378e-02,\n",
              "          6.5918e-02, 6.9641e-02],\n",
              "         [6.9641e-02, 6.5979e-02, 6.5979e-02, ..., 6.9580e-02,\n",
              "          6.9580e-02, 6.9519e-02],\n",
              "         [6.9519e-02, 6.9580e-02, 6.5918e-02, ..., 6.5918e-02,\n",
              "          5.1208e-02, 5.4871e-02],\n",
              "         ...,\n",
              "         [5.1361e-02, 4.4006e-02, 4.4037e-02, ..., 3.6682e-02,\n",
              "          4.0375e-02, 3.3020e-02],\n",
              "         [3.6713e-02, 4.0070e-02, 4.7455e-02, ..., 2.7023e-02,\n",
              "          3.3081e-02, 2.9480e-02],\n",
              "         [3.2745e-02, 3.3142e-02, 2.9480e-02, ..., 5.1239e-02,\n",
              "          5.1239e-02, 5.5145e-02]],\n",
              "\n",
              "        [[0.0000e+00, 4.0550e-03, 7.7362e-03, ..., 2.8549e-02,\n",
              "          3.2532e-02, 3.6469e-02],\n",
              "         [4.0833e-02, 4.4586e-02, 4.9072e-02, ..., 6.8420e-02,\n",
              "          7.3303e-02, 7.7148e-02],\n",
              "         [8.0200e-02, 8.4290e-02, 8.8074e-02, ..., 1.0577e-01,\n",
              "          1.0956e-01, 1.1359e-01],\n",
              "         ...,\n",
              "         [2.6294e-01, 2.6709e-01, 2.7026e-01, ..., 2.8760e-01,\n",
              "          2.9053e-01, 2.9492e-01],\n",
              "         [2.9907e-01, 3.0151e-01, 3.0469e-01, ..., 3.2178e-01,\n",
              "          3.2544e-01, 3.2959e-01],\n",
              "         [3.3252e-01, 3.3594e-01, 3.3984e-01, ..., 3.5693e-01,\n",
              "          3.6084e-01, 3.6353e-01]],\n",
              "\n",
              "        [[3.0708e-04, 2.4509e-04, 3.2544e-04, ..., 4.9305e-04,\n",
              "          1.8442e-04, 3.6907e-04],\n",
              "         [1.8346e-04, 3.2568e-04, 2.0182e-04, ..., 1.8322e-04,\n",
              "          3.0661e-04, 1.8346e-04],\n",
              "         [3.2377e-04, 3.0708e-04, 2.6274e-04, ..., 2.4438e-04,\n",
              "          3.0637e-04, 3.2449e-04],\n",
              "         ...,\n",
              "         [3.0565e-04, 1.8179e-04, 5.6934e-04, ..., 3.0661e-04,\n",
              "          1.3757e-04, 2.4486e-04],\n",
              "         [1.2124e-04, 3.6836e-04, 3.6836e-04, ..., 2.0063e-04,\n",
              "          3.2425e-04, 2.4438e-04],\n",
              "         [3.2401e-04, 3.6764e-04, 2.0003e-04, ..., 3.6836e-04,\n",
              "          2.4509e-04, 2.4486e-04]],\n",
              "\n",
              "        [[0.0000e+00, 1.2579e-03, 1.2579e-03, ..., 1.2579e-03,\n",
              "          7.1259e-03, 7.1259e-03],\n",
              "         [7.1259e-03, 7.1259e-03, 7.1259e-03, ..., 3.5610e-03,\n",
              "          3.5610e-03, 3.5610e-03],\n",
              "         [6.7253e-03, 6.7253e-03, 6.7253e-03, ..., 1.0292e-02,\n",
              "          1.0292e-02, 1.0292e-02],\n",
              "         ...,\n",
              "         [1.9470e-02, 1.9470e-02, 1.9470e-02, ..., 2.1378e-02,\n",
              "          2.1378e-02, 2.1378e-02],\n",
              "         [2.1378e-02, 2.1378e-02, 2.1378e-02, ..., 2.5330e-02,\n",
              "          2.5330e-02, 2.6596e-02],\n",
              "         [2.6596e-02, 2.6596e-02, 2.6596e-02, ..., 2.6596e-02,\n",
              "          2.6596e-02, 2.6596e-02]]],\n",
              "\n",
              "\n",
              "       [[[5.1483e-02, 5.5176e-02, 5.5176e-02, ..., 4.0436e-02,\n",
              "          4.3945e-02, 4.0436e-02],\n",
              "         [4.0283e-02, 4.0405e-02, 4.4098e-02, ..., 4.0527e-02,\n",
              "          4.0466e-02, 3.6774e-02],\n",
              "         [4.0375e-02, 4.0344e-02, 3.6560e-02, ..., 4.3945e-02,\n",
              "          4.3854e-02, 3.6499e-02],\n",
              "         ...,\n",
              "         [5.4596e-02, 5.8899e-02, 6.1981e-02, ..., 5.8899e-02,\n",
              "          6.2561e-02, 5.1544e-02],\n",
              "         [5.5237e-02, 5.8899e-02, 6.2561e-02, ..., 5.8868e-02,\n",
              "          6.2561e-02, 5.1514e-02],\n",
              "         [5.5176e-02, 5.1453e-02, 5.1422e-02, ..., 4.7699e-02,\n",
              "          4.2297e-02, 4.3610e-02]],\n",
              "\n",
              "        [[3.6694e-01, 3.7036e-01, 3.7305e-01, ..., 3.9062e-01,\n",
              "          3.9355e-01, 3.9795e-01],\n",
              "         [4.0112e-01, 4.0356e-01, 4.0747e-01, ..., 4.2407e-01,\n",
              "          4.2798e-01, 4.3018e-01],\n",
              "         [4.3335e-01, 4.3726e-01, 4.3945e-01, ..., 4.5728e-01,\n",
              "          4.5947e-01, 4.6289e-01],\n",
              "         ...,\n",
              "         [5.8984e-01, 5.9326e-01, 5.9668e-01, ..., 6.1084e-01,\n",
              "          6.1279e-01, 6.1670e-01],\n",
              "         [6.1963e-01, 6.2256e-01, 6.2646e-01, ..., 6.3916e-01,\n",
              "          6.4355e-01, 6.4600e-01],\n",
              "         [6.4893e-01, 6.5234e-01, 6.5527e-01, ..., 6.6943e-01,\n",
              "          6.7139e-01, 6.7480e-01]],\n",
              "\n",
              "        [[4.3011e-04, 1.8287e-04, 4.3011e-04, ..., 2.4438e-04,\n",
              "          2.0111e-04, 4.9162e-04],\n",
              "         [2.4438e-04, 4.2963e-04, 1.8263e-04, ..., 2.6274e-04,\n",
              "          4.2963e-04, 2.4414e-04],\n",
              "         [3.6812e-04, 2.0218e-04, 2.4354e-04, ..., 4.2844e-04,\n",
              "          1.8144e-04, 3.0494e-04],\n",
              "         ...,\n",
              "         [4.9210e-04, 1.9896e-04, 3.6907e-04, ..., 3.0684e-04,\n",
              "          2.4509e-04, 4.3106e-04],\n",
              "         [1.8322e-04, 3.0661e-04, 2.4462e-04, ..., 2.4438e-04,\n",
              "          4.3011e-04, 2.4509e-04],\n",
              "         [2.4462e-04, 1.2141e-04, 2.6107e-04, ..., 3.6860e-04,\n",
              "          2.6131e-04, 3.6836e-04]],\n",
              "\n",
              "        [[2.6596e-02, 3.0151e-02, 3.0151e-02, ..., 3.0151e-02,\n",
              "          2.8900e-02, 2.8900e-02],\n",
              "         [2.8900e-02, 2.8900e-02, 2.8900e-02, ..., 3.0151e-02,\n",
              "          3.0151e-02, 3.0151e-02],\n",
              "         [3.2471e-02, 3.2471e-02, 3.2471e-02, ..., 3.2471e-02,\n",
              "          3.2471e-02, 3.2471e-02],\n",
              "         ...,\n",
              "         [4.1656e-02, 4.1656e-02, 4.1656e-02, ..., 4.5227e-02,\n",
              "          4.5227e-02, 4.5227e-02],\n",
              "         [4.5227e-02, 4.5227e-02, 4.5227e-02, ..., 5.0049e-02,\n",
              "          5.0049e-02, 4.8401e-02],\n",
              "         [4.8401e-02, 4.8401e-02, 4.8401e-02, ..., 4.8798e-02,\n",
              "          4.8798e-02, 4.8798e-02]]],\n",
              "\n",
              "\n",
              "       [[[4.3976e-02, 3.6652e-02, 3.6621e-02, ..., 5.5084e-02,\n",
              "          5.1422e-02, 4.7760e-02],\n",
              "         [4.4067e-02, 4.4098e-02, 4.7760e-02, ..., 3.6804e-02,\n",
              "          2.7710e-02, 3.6804e-02],\n",
              "         [3.6774e-02, 3.6835e-02, 4.7852e-02, ..., 3.6774e-02,\n",
              "          4.0466e-02, 4.4128e-02],\n",
              "         ...,\n",
              "         [4.7760e-02, 5.5115e-02, 4.4037e-02, ..., 3.8605e-02,\n",
              "          4.0344e-02, 3.6682e-02],\n",
              "         [5.1392e-02, 4.7699e-02, 5.1361e-02, ..., 5.1422e-02,\n",
              "          5.5115e-02, 5.8472e-02],\n",
              "         [5.8716e-02, 6.2347e-02, 5.8441e-02, ..., 4.7424e-02,\n",
              "          5.1392e-02, 5.1392e-02]],\n",
              "\n",
              "        [[6.7773e-01, 6.8115e-01, 6.8359e-01, ..., 6.9629e-01,\n",
              "          7.0020e-01, 7.0312e-01],\n",
              "         [7.0605e-01, 7.0947e-01, 7.1240e-01, ..., 7.2656e-01,\n",
              "          7.2949e-01, 7.3242e-01],\n",
              "         [7.3535e-01, 7.3877e-01, 7.4121e-01, ..., 7.5439e-01,\n",
              "          7.5732e-01, 7.6025e-01],\n",
              "         ...,\n",
              "         [8.4375e-01, 8.4375e-01, 8.4424e-01, ..., 8.4473e-01,\n",
              "          8.4424e-01, 8.4375e-01],\n",
              "         [8.4277e-01, 8.4277e-01, 8.4277e-01, ..., 8.4229e-01,\n",
              "          8.4326e-01, 8.4082e-01],\n",
              "         [8.4082e-01, 8.4033e-01, 8.4033e-01, ..., 8.3936e-01,\n",
              "          8.3936e-01, 8.3838e-01]],\n",
              "\n",
              "        [[1.8263e-04, 4.4632e-04, 1.8239e-04, ..., 2.5940e-04,\n",
              "          1.8299e-04, 1.9705e-04],\n",
              "         [3.2115e-04, 3.0589e-04, 3.0589e-04, ..., 3.0684e-04,\n",
              "          1.3638e-04, 3.8385e-04],\n",
              "         [3.0756e-04, 2.4581e-04, 4.3178e-04, ..., 1.9944e-04,\n",
              "          4.4680e-04, 4.3154e-04],\n",
              "         ...,\n",
              "         [1.2058e-04, 3.0565e-04, 3.6764e-04, ..., 1.9836e-04,\n",
              "          1.9860e-04, 2.4486e-04],\n",
              "         [3.8481e-04, 3.6883e-04, 1.8346e-04, ..., 3.0732e-04,\n",
              "          2.4605e-04, 3.2163e-04],\n",
              "         [4.3178e-04, 1.9801e-04, 3.7026e-04, ..., 3.0756e-04,\n",
              "          2.5916e-04, 4.3130e-04]],\n",
              "\n",
              "        [[4.8798e-02, 5.3619e-02, 5.3619e-02, ..., 5.3619e-02,\n",
              "          5.3619e-02, 5.3619e-02],\n",
              "         [5.3619e-02, 5.3619e-02, 5.3619e-02, ..., 5.3619e-02,\n",
              "          5.3619e-02, 5.3619e-02],\n",
              "         [5.2368e-02, 5.2368e-02, 5.2368e-02, ..., 5.5115e-02,\n",
              "          5.5115e-02, 5.5115e-02],\n",
              "         ...,\n",
              "         [6.6101e-02, 6.6101e-02, 6.6101e-02, ..., 6.7749e-02,\n",
              "          6.7749e-02, 6.7749e-02],\n",
              "         [6.7749e-02, 6.7749e-02, 6.7749e-02, ..., 7.1289e-02,\n",
              "          7.1289e-02, 6.9275e-02],\n",
              "         [6.9275e-02, 6.9275e-02, 6.9275e-02, ..., 7.0923e-02,\n",
              "          7.0923e-02, 7.0923e-02]]],\n",
              "\n",
              "\n",
              "       ...,\n",
              "\n",
              "\n",
              "       [[[2.6562e+00, 2.6602e+00, 2.6621e+00, ..., 2.6562e+00,\n",
              "          2.6562e+00, 2.6562e+00],\n",
              "         [2.6523e+00, 2.6426e+00, 2.6426e+00, ..., 2.6387e+00,\n",
              "          2.6523e+00, 2.6562e+00],\n",
              "         [2.6523e+00, 2.6504e+00, 2.6504e+00, ..., 2.6445e+00,\n",
              "          2.6562e+00, 2.6523e+00],\n",
              "         ...,\n",
              "         [2.6523e+00, 2.6562e+00, 2.6562e+00, ..., 2.6641e+00,\n",
              "          2.6562e+00, 2.6484e+00],\n",
              "         [2.6602e+00, 2.6523e+00, 2.6602e+00, ..., 2.6699e+00,\n",
              "          2.6699e+00, 2.6602e+00],\n",
              "         [2.6641e+00, 2.6562e+00, 2.6602e+00, ..., 2.6562e+00,\n",
              "          2.6621e+00, 2.6562e+00]],\n",
              "\n",
              "        [[8.6475e-01, 8.6523e-01, 8.6572e-01, ..., 8.6572e-01,\n",
              "          8.6572e-01, 8.6572e-01],\n",
              "         [8.6621e-01, 8.6768e-01, 8.6816e-01, ..., 8.6816e-01,\n",
              "          8.6768e-01, 8.6719e-01],\n",
              "         [8.6670e-01, 8.6475e-01, 8.6279e-01, ..., 8.6328e-01,\n",
              "          8.6377e-01, 8.6328e-01],\n",
              "         ...,\n",
              "         [8.5986e-01, 8.5986e-01, 8.5938e-01, ..., 8.6328e-01,\n",
              "          8.6230e-01, 8.6279e-01],\n",
              "         [8.6182e-01, 8.6182e-01, 8.6084e-01, ..., 8.6084e-01,\n",
              "          8.6084e-01, 8.5986e-01],\n",
              "         [8.5938e-01, 8.5889e-01, 8.5889e-01, ..., 8.6475e-01,\n",
              "          8.6426e-01, 8.6426e-01]],\n",
              "\n",
              "        [[9.5850e-01, 9.5850e-01, 9.5850e-01, ..., 9.5850e-01,\n",
              "          9.5801e-01, 9.5801e-01],\n",
              "         [9.5801e-01, 9.5850e-01, 9.5898e-01, ..., 9.5898e-01,\n",
              "          9.5947e-01, 9.6094e-01],\n",
              "         [9.6240e-01, 9.6387e-01, 9.6484e-01, ..., 9.6729e-01,\n",
              "          9.6680e-01, 9.6582e-01],\n",
              "         ...,\n",
              "         [9.6045e-01, 9.5996e-01, 9.5947e-01, ..., 9.5850e-01,\n",
              "          9.5850e-01, 9.5801e-01],\n",
              "         [9.5801e-01, 9.5850e-01, 9.5947e-01, ..., 9.6484e-01,\n",
              "          9.6484e-01, 9.6484e-01],\n",
              "         [9.6484e-01, 9.6436e-01, 9.6387e-01, ..., 9.6143e-01,\n",
              "          9.6045e-01, 9.5898e-01]],\n",
              "\n",
              "        [[1.0332e+00, 1.0332e+00, 1.0332e+00, ..., 1.0283e+00,\n",
              "          1.0283e+00, 1.0283e+00],\n",
              "         [1.0283e+00, 1.0312e+00, 1.0312e+00, ..., 1.0303e+00,\n",
              "          1.0303e+00, 1.0303e+00],\n",
              "         [1.0303e+00, 1.0303e+00, 1.0303e+00, ..., 1.0312e+00,\n",
              "          1.0312e+00, 1.0312e+00],\n",
              "         ...,\n",
              "         [1.0312e+00, 1.0312e+00, 1.0312e+00, ..., 1.0283e+00,\n",
              "          1.0283e+00, 1.0283e+00],\n",
              "         [1.0312e+00, 1.0312e+00, 1.0312e+00, ..., 1.0312e+00,\n",
              "          1.0312e+00, 1.0312e+00],\n",
              "         [1.0312e+00, 1.0312e+00, 1.0312e+00, ..., 1.0312e+00,\n",
              "          1.0312e+00, 1.0312e+00]]],\n",
              "\n",
              "\n",
              "       [[[2.6562e+00, 2.6562e+00, 2.6602e+00, ..., 2.6621e+00,\n",
              "          2.6602e+00, 2.6680e+00],\n",
              "         [2.6641e+00, 2.6621e+00, 2.6582e+00, ..., 2.6602e+00,\n",
              "          2.6621e+00, 2.6602e+00],\n",
              "         [2.6582e+00, 2.6523e+00, 2.6758e+00, ..., 2.6719e+00,\n",
              "          2.6758e+00, 2.6738e+00],\n",
              "         ...,\n",
              "         [2.6348e+00, 2.6426e+00, 2.6484e+00, ..., 2.6621e+00,\n",
              "          2.6582e+00, 2.6660e+00],\n",
              "         [2.6680e+00, 2.6641e+00, 2.6816e+00, ..., 2.6816e+00,\n",
              "          2.6816e+00, 2.6719e+00],\n",
              "         [2.6719e+00, 2.6719e+00, 2.6777e+00, ..., 2.6719e+00,\n",
              "          2.6680e+00, 2.6680e+00]],\n",
              "\n",
              "        [[8.6377e-01, 8.6328e-01, 8.6377e-01, ..., 8.6182e-01,\n",
              "          8.6182e-01, 8.6182e-01],\n",
              "         [8.6230e-01, 8.6230e-01, 8.6230e-01, ..., 8.6133e-01,\n",
              "          8.6328e-01, 8.6377e-01],\n",
              "         [8.6377e-01, 8.6426e-01, 8.6377e-01, ..., 8.6230e-01,\n",
              "          8.6230e-01, 8.6328e-01],\n",
              "         ...,\n",
              "         [8.7158e-01, 8.7109e-01, 8.7012e-01, ..., 8.7207e-01,\n",
              "          8.7305e-01, 8.7354e-01],\n",
              "         [8.7500e-01, 8.7549e-01, 8.7646e-01, ..., 8.7744e-01,\n",
              "          8.7842e-01, 8.7744e-01],\n",
              "         [8.7744e-01, 8.7744e-01, 8.7744e-01, ..., 8.7842e-01,\n",
              "          8.7842e-01, 8.7842e-01]],\n",
              "\n",
              "        [[9.5850e-01, 9.5752e-01, 9.5801e-01, ..., 9.6289e-01,\n",
              "          9.6289e-01, 9.6338e-01],\n",
              "         [9.6338e-01, 9.6338e-01, 9.6338e-01, ..., 9.6143e-01,\n",
              "          9.6094e-01, 9.6094e-01],\n",
              "         [9.6045e-01, 9.5996e-01, 9.5947e-01, ..., 9.5947e-01,\n",
              "          9.5947e-01, 9.5996e-01],\n",
              "         ...,\n",
              "         [9.5996e-01, 9.5996e-01, 9.6045e-01, ..., 9.6094e-01,\n",
              "          9.6045e-01, 9.5996e-01],\n",
              "         [9.5947e-01, 9.5850e-01, 9.5801e-01, ..., 9.5605e-01,\n",
              "          9.5654e-01, 9.5703e-01],\n",
              "         [9.5801e-01, 9.5850e-01, 9.5898e-01, ..., 9.6240e-01,\n",
              "          9.6191e-01, 9.6191e-01]],\n",
              "\n",
              "        [[1.0312e+00, 1.0312e+00, 1.0312e+00, ..., 1.0312e+00,\n",
              "          1.0312e+00, 1.0312e+00],\n",
              "         [1.0312e+00, 1.0312e+00, 1.0312e+00, ..., 1.0312e+00,\n",
              "          1.0312e+00, 1.0312e+00],\n",
              "         [1.0312e+00, 1.0312e+00, 1.0312e+00, ..., 1.0312e+00,\n",
              "          1.0312e+00, 1.0312e+00],\n",
              "         ...,\n",
              "         [1.0264e+00, 1.0264e+00, 1.0264e+00, ..., 1.0303e+00,\n",
              "          1.0303e+00, 1.0303e+00],\n",
              "         [1.0283e+00, 1.0283e+00, 1.0283e+00, ..., 1.0283e+00,\n",
              "          1.0283e+00, 1.0283e+00],\n",
              "         [1.0283e+00, 1.0283e+00, 1.0283e+00, ..., 1.0283e+00,\n",
              "          1.0244e+00, 1.0244e+00]]],\n",
              "\n",
              "\n",
              "       [[[2.6602e+00, 2.6621e+00, 2.6621e+00, ..., 2.6738e+00,\n",
              "          2.6738e+00, 2.6797e+00],\n",
              "         [2.6719e+00, 2.6602e+00, 2.6562e+00, ..., 2.6523e+00,\n",
              "          2.6484e+00, 2.6602e+00],\n",
              "         [2.6699e+00, 2.6777e+00, 2.6641e+00, ..., 2.6484e+00,\n",
              "          2.6562e+00, 2.6523e+00],\n",
              "         ...,\n",
              "         [2.6562e+00, 2.6582e+00, 2.6523e+00, ..., 2.6582e+00,\n",
              "          2.6484e+00, 2.6562e+00],\n",
              "         [2.6562e+00, 2.6621e+00, 2.6523e+00, ..., 2.6621e+00,\n",
              "          2.6621e+00, 2.6680e+00],\n",
              "         [2.6699e+00, 2.6621e+00, 2.6699e+00, ..., 2.6484e+00,\n",
              "          2.6484e+00, 2.6543e+00]],\n",
              "\n",
              "        [[8.7891e-01, 8.7939e-01, 8.7939e-01, ..., 8.8428e-01,\n",
              "          8.8428e-01, 8.8428e-01],\n",
              "         [8.8379e-01, 8.8428e-01, 8.8379e-01, ..., 8.8623e-01,\n",
              "          8.8477e-01, 8.8574e-01],\n",
              "         [8.8574e-01, 8.8672e-01, 8.8623e-01, ..., 8.8818e-01,\n",
              "          8.8867e-01, 8.8965e-01],\n",
              "         ...,\n",
              "         [9.0039e-01, 9.0088e-01, 9.0137e-01, ..., 9.0576e-01,\n",
              "          9.0674e-01, 9.0723e-01],\n",
              "         [9.0674e-01, 9.0723e-01, 9.0723e-01, ..., 9.0674e-01,\n",
              "          9.0723e-01, 9.0820e-01],\n",
              "         [9.0967e-01, 9.1113e-01, 9.1113e-01, ..., 9.1699e-01,\n",
              "          9.1846e-01, 9.1846e-01]],\n",
              "\n",
              "        [[9.6240e-01, 9.6191e-01, 9.6191e-01, ..., 9.5850e-01,\n",
              "          9.5801e-01, 9.5752e-01],\n",
              "         [9.5703e-01, 9.5703e-01, 9.5654e-01, ..., 9.5947e-01,\n",
              "          9.5996e-01, 9.5996e-01],\n",
              "         [9.5996e-01, 9.5996e-01, 9.5996e-01, ..., 9.5996e-01,\n",
              "          9.5996e-01, 9.5996e-01],\n",
              "         ...,\n",
              "         [9.6094e-01, 9.6045e-01, 9.6045e-01, ..., 9.5850e-01,\n",
              "          9.5801e-01, 9.5850e-01],\n",
              "         [9.5850e-01, 9.5850e-01, 9.5801e-01, ..., 9.6191e-01,\n",
              "          9.6191e-01, 9.6191e-01],\n",
              "         [9.6143e-01, 9.6045e-01, 9.5996e-01, ..., 9.5459e-01,\n",
              "          9.5410e-01, 9.5410e-01]],\n",
              "\n",
              "        [[1.0244e+00, 1.0244e+00, 1.0244e+00, ..., 1.0303e+00,\n",
              "          1.0303e+00, 1.0303e+00],\n",
              "         [1.0303e+00, 1.0303e+00, 1.0303e+00, ..., 1.0303e+00,\n",
              "          1.0303e+00, 1.0303e+00],\n",
              "         [1.0303e+00, 1.0303e+00, 1.0303e+00, ..., 1.0303e+00,\n",
              "          1.0303e+00, 1.0303e+00],\n",
              "         ...,\n",
              "         [1.0264e+00, 1.0264e+00, 1.0264e+00, ..., 1.0303e+00,\n",
              "          1.0303e+00, 1.0303e+00],\n",
              "         [1.0244e+00, 1.0244e+00, 1.0244e+00, ..., 1.0283e+00,\n",
              "          1.0283e+00, 1.0283e+00],\n",
              "         [1.0283e+00, 1.0283e+00, 1.0244e+00, ..., 1.0244e+00,\n",
              "          1.0283e+00, 1.0283e+00]]]], dtype=float16)"
            ]
          },
          "metadata": {},
          "execution_count": 26
        }
      ],
      "source": [
        "X=np.stack((x_A,x_B,x_C,x_D),axis=1).astype(np.float16)\n",
        "X"
      ]
    },
    {
      "cell_type": "code",
      "execution_count": null,
      "metadata": {
        "colab": {
          "base_uri": "https://localhost:8080/"
        },
        "id": "LVTz7IlxlKVF",
        "outputId": "1b331531-fe8f-4784-b143-58f839848175"
      },
      "outputs": [
        {
          "output_type": "execute_result",
          "data": {
            "text/plain": [
              "(4000, 4, 10, 10)"
            ]
          },
          "metadata": {},
          "execution_count": 66
        }
      ],
      "source": [
        "X.shape"
      ]
    },
    {
      "cell_type": "code",
      "source": [
        "labels1"
      ],
      "metadata": {
        "colab": {
          "base_uri": "https://localhost:8080/"
        },
        "id": "FswcczHS_8F5",
        "outputId": "14f9902d-9b49-482c-b259-2b032c3ef42e"
      },
      "execution_count": null,
      "outputs": [
        {
          "output_type": "execute_result",
          "data": {
            "text/plain": [
              "array([0, 0, 0, ..., 3, 3, 3])"
            ]
          },
          "metadata": {},
          "execution_count": 67
        }
      ]
    },
    {
      "cell_type": "code",
      "execution_count": null,
      "metadata": {
        "id": "kQBe4GaJlKVG"
      },
      "outputs": [],
      "source": [
        "from sklearn.model_selection import train_test_split\n",
        "trainx, testx, trainlabel, testlabel = train_test_split(X, labels1, test_size=0.2, random_state=20)"
      ]
    },
    {
      "cell_type": "code",
      "execution_count": null,
      "metadata": {
        "id": "RNXXMG3ilKVH",
        "colab": {
          "base_uri": "https://localhost:8080/"
        },
        "outputId": "d96f6b75-14eb-4de9-904e-83e72d3dbaa7"
      },
      "outputs": [
        {
          "output_type": "execute_result",
          "data": {
            "text/plain": [
              "((3200, 4, 10, 10), (800, 4, 10, 10))"
            ]
          },
          "metadata": {},
          "execution_count": 28
        }
      ],
      "source": [
        "sig_train1, sig_test1 = trainx,testx\n",
        "lab_train1, lab_test1 = trainlabel,testlabel\n",
        "sig_train1.shape, sig_test1.shape"
      ]
    },
    {
      "cell_type": "code",
      "execution_count": null,
      "metadata": {
        "id": "G1xm5vsWlKVH"
      },
      "outputs": [],
      "source": [
        "sig_train = torch.from_numpy(sig_train1)\n",
        "sig_test = torch.from_numpy(sig_test1)\n",
        "lab_train= torch.from_numpy(lab_train1)\n",
        "lab_test = torch.from_numpy(lab_test1)"
      ]
    },
    {
      "cell_type": "code",
      "execution_count": null,
      "metadata": {
        "id": "0T1B7eqhJAtL"
      },
      "outputs": [],
      "source": [
        "sig_train"
      ]
    },
    {
      "cell_type": "code",
      "execution_count": null,
      "metadata": {
        "id": "ynhqaEvYlKVI"
      },
      "outputs": [],
      "source": [
        "import torch.utils.data as data_utils\n",
        "batch_size = 128\n",
        "train_tensor = data_utils.TensorDataset(sig_train, lab_train) \n",
        "train_loader = data_utils.DataLoader(dataset = train_tensor, batch_size = batch_size, shuffle = True)"
      ]
    },
    {
      "cell_type": "code",
      "execution_count": null,
      "metadata": {
        "id": "uTM_I97SlKVJ"
      },
      "outputs": [],
      "source": [
        "batch_size = 16\n",
        "test_tensor = data_utils.TensorDataset(sig_test, lab_test) \n",
        "test_loader = data_utils.DataLoader(dataset = test_tensor, batch_size = batch_size, shuffle = False)"
      ]
    },
    {
      "cell_type": "code",
      "execution_count": null,
      "metadata": {
        "colab": {
          "base_uri": "https://localhost:8080/"
        },
        "id": "45ptlQbEPO_u",
        "outputId": "a7bb9c68-72a6-4bb6-afe5-d24d3c525c73"
      },
      "outputs": [
        {
          "output_type": "execute_result",
          "data": {
            "text/plain": [
              "<torch.utils.data.dataset.TensorDataset at 0x7ff080f5a170>"
            ]
          },
          "metadata": {},
          "execution_count": 39
        }
      ],
      "source": [
        "train_tensor"
      ]
    },
    {
      "cell_type": "code",
      "execution_count": null,
      "metadata": {
        "colab": {
          "base_uri": "https://localhost:8080/"
        },
        "id": "SWcnRGGjlKVJ",
        "outputId": "d188ddab-4bed-4841-9a0f-1c7d7303aa82"
      },
      "outputs": [
        {
          "output_type": "execute_result",
          "data": {
            "text/plain": [
              "torch.Size([3200, 4, 10, 10])"
            ]
          },
          "metadata": {},
          "execution_count": 41
        }
      ],
      "source": [
        "sig_train.size()"
      ]
    },
    {
      "cell_type": "code",
      "execution_count": null,
      "metadata": {
        "id": "PeNxrWKqlKVL"
      },
      "outputs": [],
      "source": [
        "class CNN(nn.Module):\n",
        "    def __init__(self):\n",
        "        super(CNN, self).__init__()\n",
        "        self.conv1 = nn.Conv2d(4, 32, kernel_size=4,stride=1,padding = 1)\n",
        "        self.mp1 = nn.MaxPool2d(kernel_size=2,stride=1)\n",
        "        self.conv2 = nn.Conv2d(32,64, kernel_size=4,stride =1,padding = 1)\n",
        "        self.mp2 = nn.MaxPool2d(kernel_size=2,stride=1)\n",
        "        self.fc1= nn.Linear(2304,256)\n",
        "        self.dp1 = nn.Dropout(p=0.4)\n",
        "        self.fc2 = nn.Linear(256,4)\n",
        "\n",
        "    def forward(self, x):\n",
        "        in_size = x.size(0)\n",
        "        x = F.relu(self.mp1(self.conv1(x)))    \n",
        "        x = F.relu(self.mp2(self.conv2(x)))\n",
        "        x = x.view(in_size,-1)\n",
        "        x = F.relu(self.fc1(x))\n",
        "        x = self.dp1(x)\n",
        "        x = self.fc2(x)\n",
        "        \n",
        "        return F.log_softmax(x, dim=1)"
      ]
    },
    {
      "cell_type": "code",
      "execution_count": null,
      "metadata": {
        "id": "YfT4Y8XglKVM"
      },
      "outputs": [],
      "source": [
        "cnn = CNN().double()"
      ]
    },
    {
      "cell_type": "code",
      "execution_count": null,
      "metadata": {
        "id": "fRC4yjoXlKVM"
      },
      "outputs": [],
      "source": [
        "criterion = nn.CrossEntropyLoss()\n",
        "optimizer = torch.optim.Adam(cnn.parameters(), lr=0.0001)"
      ]
    },
    {
      "cell_type": "code",
      "execution_count": null,
      "metadata": {
        "id": "MlnklyejlKVN"
      },
      "outputs": [],
      "source": [
        "num_epochs = 4"
      ]
    },
    {
      "cell_type": "code",
      "execution_count": null,
      "metadata": {
        "colab": {
          "base_uri": "https://localhost:8080/"
        },
        "id": "wUSL5fqllKVN",
        "outputId": "cdf96bbe-4213-4867-f558-6315ba953b7b"
      },
      "outputs": [
        {
          "output_type": "stream",
          "name": "stdout",
          "text": [
            "Epoch [1/4], Step [1/25], Loss: 1.3961, Train Accuracy: 30.47%\n",
            "Epoch [1/4], Step [2/25], Loss: 1.3532, Train Accuracy: 38.28%\n",
            "Epoch [1/4], Step [3/25], Loss: 1.3067, Train Accuracy: 36.72%\n",
            "Epoch [1/4], Step [4/25], Loss: 1.2910, Train Accuracy: 31.25%\n",
            "Epoch [1/4], Step [5/25], Loss: 1.2844, Train Accuracy: 28.12%\n",
            "Epoch [1/4], Step [6/25], Loss: 1.2255, Train Accuracy: 31.25%\n",
            "Epoch [1/4], Step [7/25], Loss: 1.2636, Train Accuracy: 35.94%\n",
            "Epoch [1/4], Step [8/25], Loss: 1.2128, Train Accuracy: 35.94%\n",
            "Epoch [1/4], Step [9/25], Loss: 1.1742, Train Accuracy: 42.97%\n",
            "Epoch [1/4], Step [10/25], Loss: 1.1991, Train Accuracy: 40.62%\n",
            "Epoch [1/4], Step [11/25], Loss: 1.1646, Train Accuracy: 46.88%\n",
            "Epoch [1/4], Step [12/25], Loss: 1.1384, Train Accuracy: 48.44%\n",
            "Epoch [1/4], Step [13/25], Loss: 1.1274, Train Accuracy: 49.22%\n",
            "Epoch [1/4], Step [14/25], Loss: 1.1561, Train Accuracy: 42.97%\n",
            "Epoch [1/4], Step [15/25], Loss: 1.1012, Train Accuracy: 54.69%\n",
            "Epoch [1/4], Step [16/25], Loss: 1.1217, Train Accuracy: 51.56%\n",
            "Epoch [1/4], Step [17/25], Loss: 1.1065, Train Accuracy: 50.00%\n",
            "Epoch [1/4], Step [18/25], Loss: 1.0718, Train Accuracy: 55.47%\n",
            "Epoch [1/4], Step [19/25], Loss: 1.0324, Train Accuracy: 68.75%\n",
            "Epoch [1/4], Step [20/25], Loss: 0.9916, Train Accuracy: 70.31%\n",
            "Epoch [1/4], Step [21/25], Loss: 0.9220, Train Accuracy: 74.22%\n",
            "Epoch [1/4], Step [22/25], Loss: 0.9448, Train Accuracy: 75.78%\n",
            "Epoch [1/4], Step [23/25], Loss: 0.9279, Train Accuracy: 73.44%\n",
            "Epoch [1/4], Step [24/25], Loss: 0.8993, Train Accuracy: 71.88%\n",
            "Epoch [1/4], Step [25/25], Loss: 0.8916, Train Accuracy: 69.53%\n",
            "Epoch [2/4], Step [1/25], Loss: 0.8293, Train Accuracy: 70.31%\n",
            "Epoch [2/4], Step [2/25], Loss: 0.8319, Train Accuracy: 71.09%\n",
            "Epoch [2/4], Step [3/25], Loss: 0.7938, Train Accuracy: 80.47%\n",
            "Epoch [2/4], Step [4/25], Loss: 0.7560, Train Accuracy: 82.03%\n",
            "Epoch [2/4], Step [5/25], Loss: 0.7408, Train Accuracy: 79.69%\n",
            "Epoch [2/4], Step [6/25], Loss: 0.7159, Train Accuracy: 78.91%\n",
            "Epoch [2/4], Step [7/25], Loss: 0.6801, Train Accuracy: 83.59%\n",
            "Epoch [2/4], Step [8/25], Loss: 0.6796, Train Accuracy: 82.03%\n",
            "Epoch [2/4], Step [9/25], Loss: 0.6305, Train Accuracy: 85.16%\n",
            "Epoch [2/4], Step [10/25], Loss: 0.6344, Train Accuracy: 82.03%\n",
            "Epoch [2/4], Step [11/25], Loss: 0.6009, Train Accuracy: 86.72%\n",
            "Epoch [2/4], Step [12/25], Loss: 0.5905, Train Accuracy: 82.03%\n",
            "Epoch [2/4], Step [13/25], Loss: 0.5336, Train Accuracy: 88.28%\n",
            "Epoch [2/4], Step [14/25], Loss: 0.5150, Train Accuracy: 87.50%\n",
            "Epoch [2/4], Step [15/25], Loss: 0.4940, Train Accuracy: 85.94%\n",
            "Epoch [2/4], Step [16/25], Loss: 0.4880, Train Accuracy: 90.62%\n",
            "Epoch [2/4], Step [17/25], Loss: 0.4781, Train Accuracy: 88.28%\n",
            "Epoch [2/4], Step [18/25], Loss: 0.4559, Train Accuracy: 90.62%\n",
            "Epoch [2/4], Step [19/25], Loss: 0.4215, Train Accuracy: 93.75%\n",
            "Epoch [2/4], Step [20/25], Loss: 0.4428, Train Accuracy: 88.28%\n",
            "Epoch [2/4], Step [21/25], Loss: 0.3619, Train Accuracy: 96.88%\n",
            "Epoch [2/4], Step [22/25], Loss: 0.3614, Train Accuracy: 93.75%\n",
            "Epoch [2/4], Step [23/25], Loss: 0.3402, Train Accuracy: 93.75%\n",
            "Epoch [2/4], Step [24/25], Loss: 0.3794, Train Accuracy: 92.19%\n",
            "Epoch [2/4], Step [25/25], Loss: 0.3110, Train Accuracy: 92.97%\n",
            "Epoch [3/4], Step [1/25], Loss: 0.3470, Train Accuracy: 94.53%\n",
            "Epoch [3/4], Step [2/25], Loss: 0.3081, Train Accuracy: 96.09%\n",
            "Epoch [3/4], Step [3/25], Loss: 0.2739, Train Accuracy: 96.09%\n",
            "Epoch [3/4], Step [4/25], Loss: 0.2632, Train Accuracy: 93.75%\n",
            "Epoch [3/4], Step [5/25], Loss: 0.2732, Train Accuracy: 96.09%\n",
            "Epoch [3/4], Step [6/25], Loss: 0.2525, Train Accuracy: 95.31%\n",
            "Epoch [3/4], Step [7/25], Loss: 0.2256, Train Accuracy: 97.66%\n",
            "Epoch [3/4], Step [8/25], Loss: 0.2239, Train Accuracy: 97.66%\n",
            "Epoch [3/4], Step [9/25], Loss: 0.2075, Train Accuracy: 98.44%\n",
            "Epoch [3/4], Step [10/25], Loss: 0.1841, Train Accuracy: 97.66%\n",
            "Epoch [3/4], Step [11/25], Loss: 0.1833, Train Accuracy: 99.22%\n",
            "Epoch [3/4], Step [12/25], Loss: 0.1949, Train Accuracy: 99.22%\n",
            "Epoch [3/4], Step [13/25], Loss: 0.1642, Train Accuracy: 100.00%\n",
            "Epoch [3/4], Step [14/25], Loss: 0.1733, Train Accuracy: 97.66%\n",
            "Epoch [3/4], Step [15/25], Loss: 0.1470, Train Accuracy: 100.00%\n",
            "Epoch [3/4], Step [16/25], Loss: 0.1459, Train Accuracy: 98.44%\n",
            "Epoch [3/4], Step [17/25], Loss: 0.1432, Train Accuracy: 98.44%\n",
            "Epoch [3/4], Step [18/25], Loss: 0.1449, Train Accuracy: 98.44%\n",
            "Epoch [3/4], Step [19/25], Loss: 0.1415, Train Accuracy: 99.22%\n",
            "Epoch [3/4], Step [20/25], Loss: 0.1235, Train Accuracy: 100.00%\n",
            "Epoch [3/4], Step [21/25], Loss: 0.1375, Train Accuracy: 98.44%\n",
            "Epoch [3/4], Step [22/25], Loss: 0.1112, Train Accuracy: 99.22%\n",
            "Epoch [3/4], Step [23/25], Loss: 0.0949, Train Accuracy: 99.22%\n",
            "Epoch [3/4], Step [24/25], Loss: 0.0840, Train Accuracy: 99.22%\n",
            "Epoch [3/4], Step [25/25], Loss: 0.0912, Train Accuracy: 99.22%\n",
            "Epoch [4/4], Step [1/25], Loss: 0.0976, Train Accuracy: 100.00%\n",
            "Epoch [4/4], Step [2/25], Loss: 0.0965, Train Accuracy: 99.22%\n",
            "Epoch [4/4], Step [3/25], Loss: 0.0885, Train Accuracy: 98.44%\n",
            "Epoch [4/4], Step [4/25], Loss: 0.0839, Train Accuracy: 99.22%\n",
            "Epoch [4/4], Step [5/25], Loss: 0.0744, Train Accuracy: 99.22%\n",
            "Epoch [4/4], Step [6/25], Loss: 0.0808, Train Accuracy: 100.00%\n",
            "Epoch [4/4], Step [7/25], Loss: 0.0894, Train Accuracy: 99.22%\n",
            "Epoch [4/4], Step [8/25], Loss: 0.0841, Train Accuracy: 98.44%\n",
            "Epoch [4/4], Step [9/25], Loss: 0.0659, Train Accuracy: 99.22%\n",
            "Epoch [4/4], Step [10/25], Loss: 0.0505, Train Accuracy: 100.00%\n",
            "Epoch [4/4], Step [11/25], Loss: 0.0697, Train Accuracy: 99.22%\n",
            "Epoch [4/4], Step [12/25], Loss: 0.0576, Train Accuracy: 100.00%\n",
            "Epoch [4/4], Step [13/25], Loss: 0.0647, Train Accuracy: 100.00%\n",
            "Epoch [4/4], Step [14/25], Loss: 0.0556, Train Accuracy: 100.00%\n",
            "Epoch [4/4], Step [15/25], Loss: 0.0463, Train Accuracy: 100.00%\n",
            "Epoch [4/4], Step [16/25], Loss: 0.0470, Train Accuracy: 100.00%\n",
            "Epoch [4/4], Step [17/25], Loss: 0.0530, Train Accuracy: 99.22%\n",
            "Epoch [4/4], Step [18/25], Loss: 0.0379, Train Accuracy: 100.00%\n",
            "Epoch [4/4], Step [19/25], Loss: 0.0514, Train Accuracy: 100.00%\n",
            "Epoch [4/4], Step [20/25], Loss: 0.0731, Train Accuracy: 97.66%\n",
            "Epoch [4/4], Step [21/25], Loss: 0.0382, Train Accuracy: 100.00%\n",
            "Epoch [4/4], Step [22/25], Loss: 0.0371, Train Accuracy: 100.00%\n",
            "Epoch [4/4], Step [23/25], Loss: 0.0531, Train Accuracy: 99.22%\n",
            "Epoch [4/4], Step [24/25], Loss: 0.0449, Train Accuracy: 100.00%\n",
            "Epoch [4/4], Step [25/25], Loss: 0.0436, Train Accuracy: 100.00%\n"
          ]
        }
      ],
      "source": [
        "total_step = len(train_loader)\n",
        "loss_list = []\n",
        "acc_list = []\n",
        "for epoch in range(num_epochs):\n",
        "    for i, (signals, labels) in enumerate(train_loader):\n",
        "        optimizer.zero_grad()\n",
        "        # Run the forward pass\n",
        "        signals=signals\n",
        "        labels=labels\n",
        "        outputs = cnn(signals.double())\n",
        "        loss = criterion(outputs, labels.long())\n",
        "        \n",
        "        loss_list.append(loss.item())\n",
        "\n",
        "        # Backprop and perform Adam optimisation\n",
        "        \n",
        "        loss.backward()\n",
        "        optimizer.step()\n",
        "        # Track the accuracy\n",
        "        total = labels.size(0)\n",
        "        _, predicted = torch.max(outputs.data, 1)\n",
        "        correct = (predicted == labels.long()).sum().item()\n",
        "        acc_list.append(correct / total)\n",
        "\n",
        "        if (epoch+1) % 1 == 0 or epoch==0:\n",
        "            print('Epoch [{}/{}], Step [{}/{}], Loss: {:.4f}, Train Accuracy: {:.2f}%'\n",
        "                  .format(epoch + 1, num_epochs, i + 1, total_step, loss.item(),\n",
        "                          (correct / total) * 100))\n",
        "        "
      ]
    },
    {
      "cell_type": "code",
      "execution_count": null,
      "metadata": {
        "id": "ZpW5VadVtQyy",
        "colab": {
          "base_uri": "https://localhost:8080/"
        },
        "outputId": "0064d8bc-c744-4de7-c26c-62311e8d0fba"
      },
      "outputs": [
        {
          "output_type": "execute_result",
          "data": {
            "text/plain": [
              "array([  1,   2,   3,   4,   5,   6,   7,   8,   9,  10,  11,  12,  13,\n",
              "        14,  15,  16,  17,  18,  19,  20,  21,  22,  23,  24,  25,  26,\n",
              "        27,  28,  29,  30,  31,  32,  33,  34,  35,  36,  37,  38,  39,\n",
              "        40,  41,  42,  43,  44,  45,  46,  47,  48,  49,  50,  51,  52,\n",
              "        53,  54,  55,  56,  57,  58,  59,  60,  61,  62,  63,  64,  65,\n",
              "        66,  67,  68,  69,  70,  71,  72,  73,  74,  75,  76,  77,  78,\n",
              "        79,  80,  81,  82,  83,  84,  85,  86,  87,  88,  89,  90,  91,\n",
              "        92,  93,  94,  95,  96,  97,  98,  99, 100])"
            ]
          },
          "metadata": {},
          "execution_count": 37
        }
      ],
      "source": [
        "a =[]\n",
        "for i in range(len(loss_list)):\n",
        "  a.append(i+1)\n",
        "a = np.array(a)\n",
        "a"
      ]
    },
    {
      "cell_type": "code",
      "execution_count": null,
      "metadata": {
        "colab": {
          "base_uri": "https://localhost:8080/"
        },
        "id": "T1KwijDhrl1M",
        "outputId": "a09c29f3-3172-4d4d-e22c-503f4f9f4fee"
      },
      "outputs": [
        {
          "output_type": "execute_result",
          "data": {
            "text/plain": [
              "(100,)"
            ]
          },
          "metadata": {},
          "execution_count": 38
        }
      ],
      "source": [
        "loss_list = np.array(loss_list)\n",
        "loss_list.shape"
      ]
    },
    {
      "cell_type": "code",
      "execution_count": null,
      "metadata": {
        "colab": {
          "base_uri": "https://localhost:8080/"
        },
        "id": "uUVGqLFjr6mN",
        "outputId": "d22f50f8-3ad9-47b8-fad3-bcee637a6640"
      },
      "outputs": [
        {
          "output_type": "execute_result",
          "data": {
            "text/plain": [
              "(100,)"
            ]
          },
          "metadata": {},
          "execution_count": 39
        }
      ],
      "source": [
        "acc_list = np.array(acc_list)\n",
        "acc_list.shape"
      ]
    },
    {
      "cell_type": "code",
      "execution_count": null,
      "metadata": {
        "id": "5y0ttPmpuMgi",
        "colab": {
          "base_uri": "https://localhost:8080/",
          "height": 449
        },
        "outputId": "efd14db6-6072-4646-913f-56b25e070311"
      },
      "outputs": [
        {
          "output_type": "display_data",
          "data": {
            "text/plain": [
              "<Figure size 640x480 with 1 Axes>"
            ],
            "image/png": "[encoded data removed]"
          },
          "metadata": {}
        }
      ],
      "source": [
        "import matplotlib.pyplot as plt\n",
        "\n",
        "plt.plot(a, loss_list, 'r', label='Loss')\n",
        "plt.plot(a, acc_list, 'b', label='Accuracy')\n",
        "plt.xlabel('Steps')\n",
        "plt.ylabel('Loss & Accuracy')\n",
        "plt.legend()\n",
        "plt.show()\n"
      ]
    },
    {
      "cell_type": "code",
      "source": [
        "from torchsummary import summary\n",
        "\n",
        "cnn = CNN()\n",
        "summary(cnn, (4, 10, 10))"
      ],
      "metadata": {
        "id": "Tz2hc1NcCKIM"
      },
      "execution_count": null,
      "outputs": []
    },
    {
      "cell_type": "code",
      "source": [
        "arr1 = pd.DataFrame(loss_list)\n",
        "arr1.to_excel('/content/drive/MyDrive/KCCP/loss_list.xlsx', index=False, header=False)\n",
        "arr2 = pd.DataFrame(acc_list)\n",
        "arr2.to_excel('/content/drive/MyDrive/KCCP/acc_list.xlsx', index=False, header=False)"
      ],
      "metadata": {
        "id": "PEnAQRcijSoS"
      },
      "execution_count": null,
      "outputs": []
    },
    {
      "cell_type": "code",
      "execution_count": null,
      "metadata": {
        "id": "NPsJCSNMxa_7"
      },
      "outputs": [],
      "source": [
        "test_loader"
      ]
    },
    {
      "cell_type": "code",
      "execution_count": null,
      "metadata": {
        "id": "66k0ZKtnlKVO",
        "colab": {
          "base_uri": "https://localhost:8080/"
        },
        "outputId": "182dde61-a9f0-4c5e-c6b9-33787adf7ff9"
      },
      "outputs": [
        {
          "output_type": "stream",
          "name": "stdout",
          "text": [
            "50\n",
            "Epoch [4/4], Step [1/50], Loss: 0.2163, Accuracy: 100.00%\n",
            "Epoch [4/4], Step [2/50], Loss: 0.2608, Accuracy: 93.75%\n",
            "Epoch [4/4], Step [3/50], Loss: 0.3172, Accuracy: 93.75%\n",
            "Epoch [4/4], Step [4/50], Loss: 0.2401, Accuracy: 100.00%\n",
            "Epoch [4/4], Step [5/50], Loss: 0.3012, Accuracy: 100.00%\n",
            "Epoch [4/4], Step [6/50], Loss: 0.3537, Accuracy: 87.50%\n",
            "Epoch [4/4], Step [7/50], Loss: 0.3127, Accuracy: 100.00%\n",
            "Epoch [4/4], Step [8/50], Loss: 0.3856, Accuracy: 87.50%\n",
            "Epoch [4/4], Step [9/50], Loss: 0.2308, Accuracy: 93.75%\n",
            "Epoch [4/4], Step [10/50], Loss: 0.1975, Accuracy: 100.00%\n",
            "Epoch [4/4], Step [11/50], Loss: 0.3311, Accuracy: 100.00%\n",
            "Epoch [4/4], Step [12/50], Loss: 0.2538, Accuracy: 87.50%\n",
            "Epoch [4/4], Step [13/50], Loss: 0.1375, Accuracy: 100.00%\n",
            "Epoch [4/4], Step [14/50], Loss: 0.1950, Accuracy: 93.75%\n",
            "Epoch [4/4], Step [15/50], Loss: 0.2132, Accuracy: 100.00%\n",
            "Epoch [4/4], Step [16/50], Loss: 0.3670, Accuracy: 93.75%\n",
            "Epoch [4/4], Step [17/50], Loss: 0.1602, Accuracy: 100.00%\n",
            "Epoch [4/4], Step [18/50], Loss: 0.3246, Accuracy: 93.75%\n",
            "Epoch [4/4], Step [19/50], Loss: 0.2237, Accuracy: 100.00%\n",
            "Epoch [4/4], Step [20/50], Loss: 0.2927, Accuracy: 87.50%\n",
            "Epoch [4/4], Step [21/50], Loss: 0.2564, Accuracy: 93.75%\n",
            "Epoch [4/4], Step [22/50], Loss: 0.3832, Accuracy: 87.50%\n",
            "Epoch [4/4], Step [23/50], Loss: 0.2694, Accuracy: 100.00%\n",
            "Epoch [4/4], Step [24/50], Loss: 0.2272, Accuracy: 100.00%\n",
            "Epoch [4/4], Step [25/50], Loss: 0.3616, Accuracy: 87.50%\n",
            "Epoch [4/4], Step [26/50], Loss: 0.2778, Accuracy: 87.50%\n",
            "Epoch [4/4], Step [27/50], Loss: 0.3321, Accuracy: 87.50%\n",
            "Epoch [4/4], Step [28/50], Loss: 0.2689, Accuracy: 93.75%\n",
            "Epoch [4/4], Step [29/50], Loss: 0.2638, Accuracy: 100.00%\n",
            "Epoch [4/4], Step [30/50], Loss: 0.3549, Accuracy: 93.75%\n",
            "Epoch [4/4], Step [31/50], Loss: 0.2682, Accuracy: 100.00%\n",
            "Epoch [4/4], Step [32/50], Loss: 0.3009, Accuracy: 93.75%\n",
            "Epoch [4/4], Step [33/50], Loss: 0.3300, Accuracy: 93.75%\n",
            "Epoch [4/4], Step [34/50], Loss: 0.2099, Accuracy: 100.00%\n",
            "Epoch [4/4], Step [35/50], Loss: 0.2586, Accuracy: 100.00%\n",
            "Epoch [4/4], Step [36/50], Loss: 0.2492, Accuracy: 100.00%\n",
            "Epoch [4/4], Step [37/50], Loss: 0.3288, Accuracy: 93.75%\n",
            "Epoch [4/4], Step [38/50], Loss: 0.3263, Accuracy: 87.50%\n",
            "Epoch [4/4], Step [39/50], Loss: 0.2370, Accuracy: 100.00%\n",
            "Epoch [4/4], Step [40/50], Loss: 0.2766, Accuracy: 93.75%\n",
            "Epoch [4/4], Step [41/50], Loss: 0.3643, Accuracy: 93.75%\n",
            "Epoch [4/4], Step [42/50], Loss: 0.2755, Accuracy: 100.00%\n",
            "Epoch [4/4], Step [43/50], Loss: 0.3417, Accuracy: 100.00%\n",
            "Epoch [4/4], Step [44/50], Loss: 0.2415, Accuracy: 100.00%\n",
            "Epoch [4/4], Step [45/50], Loss: 0.2478, Accuracy: 100.00%\n",
            "Epoch [4/4], Step [46/50], Loss: 0.2255, Accuracy: 100.00%\n",
            "Epoch [4/4], Step [47/50], Loss: 0.2017, Accuracy: 93.75%\n",
            "Epoch [4/4], Step [48/50], Loss: 0.1971, Accuracy: 100.00%\n",
            "Epoch [4/4], Step [49/50], Loss: 0.2012, Accuracy: 100.00%\n",
            "Epoch [4/4], Step [50/50], Loss: 0.2253, Accuracy: 93.75%\n"
          ]
        }
      ],
      "source": [
        "total_step = len(test_loader)\n",
        "print(total_step)\n",
        "loss_list_test = []\n",
        "acc_list_test = []\n",
        "with torch.no_grad():\n",
        "    for i, (signals, labels) in enumerate(test_loader):\n",
        "        # Run the forward pass\n",
        "        #print(labels)\n",
        "        signals=signals\n",
        "        labels=labels\n",
        "        outputs = cnn(signals.double())\n",
        "        loss = criterion(outputs, labels.long())\n",
        "        loss_list_test.append(loss.item())\n",
        "        if epoch%10 ==0:\n",
        "            print(loss)\n",
        "        total = labels.size(0)\n",
        "        _, predicted = torch.max(outputs.data, 1)\n",
        "        correct = (predicted == labels.long()).sum().item()\n",
        "        acc_list_test.append(correct / total)\n",
        "        #print(outputs.shape)\n",
        "        #print(outputs)\n",
        "        #print(predicted)\n",
        "        #print(labels.shape)\n",
        "        if (epoch) % 1 == 0:\n",
        "            print('Epoch [{}/{}], Step [{}/{}], Loss: {:.4f}, Accuracy: {:.2f}%'\n",
        "                  .format(epoch + 1, num_epochs, i + 1, total_step, loss.item(),\n",
        "                          (correct / total) * 100))"
      ]
    },
    {
      "cell_type": "code",
      "source": [
        "labels"
      ],
      "metadata": {
        "id": "sQWtCwu6OjFI"
      },
      "execution_count": null,
      "outputs": []
    },
    {
      "cell_type": "code",
      "source": [
        "b =[]\n",
        "for i in range(len(loss_list_test)):\n",
        "  b.append(i+1)\n",
        "b = np.array(b)\n",
        "\n",
        "plt.plot(b, loss_list_test, 'r', label='Loss')\n",
        "plt.plot(b, acc_list_test, 'b', label='Accuracy')\n",
        "plt.xlabel('Steps')\n",
        "plt.ylabel('Loss & Accuracy')\n",
        "plt.legend()\n",
        "plt.show()"
      ],
      "metadata": {
        "id": "1a3merTl0iLP",
        "colab": {
          "base_uri": "https://localhost:8080/",
          "height": 449
        },
        "outputId": "4dbcbfbd-fc37-4781-bb6c-d7143dcda980"
      },
      "execution_count": null,
      "outputs": [
        {
          "output_type": "display_data",
          "data": {
            "text/plain": [
              "<Figure size 640x480 with 1 Axes>"
            ],
            "image/png": "[encoded data removed]"
          },
          "metadata": {}
        }
      ]
    },
    {
      "cell_type": "code",
      "source": [
        "plt.plot(b, loss_list_test, 'r', label='Validation Loss')\n",
        "plt.plot(a, loss_list, 'b', label='Training Loss')\n",
        "plt.xlabel('Steps')\n",
        "plt.ylabel('Loss & Accuracy')\n",
        "plt.legend()\n",
        "plt.show()"
      ],
      "metadata": {
        "id": "dNQZFZCGTBTX"
      },
      "execution_count": null,
      "outputs": []
    },
    {
      "cell_type": "code",
      "source": [
        "loss_list_test"
      ],
      "metadata": {
        "id": "4-jqI1wCromv"
      },
      "execution_count": null,
      "outputs": []
    },
    {
      "cell_type": "code",
      "source": [
        "predicted\n"
      ],
      "metadata": {
        "colab": {
          "base_uri": "https://localhost:8080/"
        },
        "id": "cFWPmHvcTpz-",
        "outputId": "f72f2f1b-c3a6-4748-cfb5-6715ebfb9453"
      },
      "execution_count": null,
      "outputs": [
        {
          "output_type": "execute_result",
          "data": {
            "text/plain": [
              "tensor([1, 2, 2, 2])"
            ]
          },
          "metadata": {},
          "execution_count": 113
        }
      ]
    },
    {
      "cell_type": "code",
      "source": [
        "arr1 = pd.DataFrame(loss_list_test)\n",
        "arr1.to_excel('/content/drive/MyDrive/KCCP/loss_list_test.xlsx', index=False, header=False)\n",
        "arr2 = pd.DataFrame(acc_list_test)\n",
        "arr2.to_excel('/content/drive/MyDrive/KCCP/acc_list_test.xlsx', index=False, header=False)"
      ],
      "metadata": {
        "id": "cqC8Z9rwlKZr"
      },
      "execution_count": null,
      "outputs": []
    },
    {
      "cell_type": "code",
      "source": [
        "from sklearn.metrics import confusion_matrix\n",
        "from sklearn.metrics import ConfusionMatrixDisplay\n",
        "\n",
        "cm = confusion_matrix(labels, predicted)\n",
        "\n",
        "cm_display = ConfusionMatrixDisplay(cm).plot()\n"
      ],
      "metadata": {
        "colab": {
          "base_uri": "https://localhost:8080/",
          "height": 449
        },
        "id": "-ZcEq-iHBiHM",
        "outputId": "b265af83-6dd8-4d1c-9aa2-b7119481c0d8"
      },
      "execution_count": null,
      "outputs": [
        {
          "output_type": "display_data",
          "data": {
            "text/plain": [
              "<Figure size 640x480 with 2 Axes>"
            ],
            "image/png": "[encoded data removed]"
          },
          "metadata": {}
        }
      ]
    },
    {
      "cell_type": "code",
      "source": [
        "from sklearn.metrics import confusion_matrix, ConfusionMatrixDisplay\n",
        "\n",
        "cnn.eval()\n",
        "train_preds = []\n",
        "train_labels = []\n",
        "with torch.no_grad():\n",
        "    for data, target in train_loader:\n",
        "        output = cnn(data.double())\n",
        "        _, preds = torch.max(output, 1)\n",
        "        train_preds.extend(preds.tolist())\n",
        "        train_labels.extend(target.tolist())\n",
        "\n",
        "cm = confusion_matrix(train_labels, train_preds)\n",
        "cm_display = ConfusionMatrixDisplay(cm).plot()\n"
      ],
      "metadata": {
        "colab": {
          "base_uri": "https://localhost:8080/",
          "height": 453
        },
        "id": "JaiEFMVNfoev",
        "outputId": "0e59ae6b-7703-4726-d6c5-84fd3fd68310"
      },
      "execution_count": null,
      "outputs": [
        {
          "output_type": "display_data",
          "data": {
            "text/plain": [
              "<Figure size 640x480 with 2 Axes>"
            ],
            "image/png": "[encoded data removed]"
          },
          "metadata": {}
        }
      ]
    },
    {
      "cell_type": "code",
      "source": [
        "arr1 = pd.DataFrame(labels)\n",
        "arr1.to_excel('/content/drive/MyDrive/KCCP/labels.xlsx', index=False, header=False)\n",
        "arr2 = pd.DataFrame(predicted)\n",
        "arr2.to_excel('/content/drive/MyDrive/KCCP/predicted.xlsx', index=False, header=False)"
      ],
      "metadata": {
        "id": "_vxwyPTAlgjG"
      },
      "execution_count": null,
      "outputs": []
    },
    {
      "cell_type": "code",
      "source": [
        "from operator import truediv\n",
        "\n",
        "tp = np.diag(cm)\n",
        "prec = list(map(truediv, tp, np.sum(cm, axis=0)))\n",
        "rec = list(map(truediv, tp, np.sum(cm, axis=1)))\n",
        "print ('Precision: {}\\nRecall: {}'.format(prec, rec))"
      ],
      "metadata": {
        "colab": {
          "base_uri": "https://localhost:8080/"
        },
        "id": "exZqi-aDBjDx",
        "outputId": "08f5f0fd-1378-44fd-ee9d-eaead309af85"
      },
      "execution_count": null,
      "outputs": [
        {
          "output_type": "stream",
          "name": "stdout",
          "text": [
            "Precision: [0.9864864864864865, 0.9487179487179487, 0.9452054794520548, 0.9682539682539683]\n",
            "Recall: [0.948051948051948, 0.9736842105263158, 0.9857142857142858, 0.9384615384615385]\n"
          ]
        }
      ]
    },
    {
      "cell_type": "code",
      "source": [
        "from sklearn.metrics import f1_score\n",
        "\n",
        "f1 = f1_score(labels, predicted, average='macro')\n",
        "print('F1 score:', f1)"
      ],
      "metadata": {
        "colab": {
          "base_uri": "https://localhost:8080/"
        },
        "id": "CcdWA7A7Q5l3",
        "outputId": "09c62ec5-1d05-4047-872d-7f14bc1a4490"
      },
      "execution_count": null,
      "outputs": [
        {
          "output_type": "stream",
          "name": "stdout",
          "text": [
            "F1 score: 0.9053295932678822\n"
          ]
        }
      ]
    },
    {
      "cell_type": "code",
      "execution_count": null,
      "metadata": {
        "id": "P6N-VlPSlKVQ"
      },
      "outputs": [],
      "source": [
        "# if you need to save\n",
        "torch.save(cnn,'/content/drive/MyDrive/KCCP/Model_03.pth')"
      ]
    },
    {
      "cell_type": "code",
      "source": [
        "# Load the saved model\n",
        "cnn = torch.load('/content/drive/MyDrive/KCCP/Model_03.pth')"
      ],
      "metadata": {
        "id": "os5He91mVTtD"
      },
      "execution_count": null,
      "outputs": []
    },
    {
      "cell_type": "markdown",
      "source": [
        "## **Implementation and Validation**"
      ],
      "metadata": {
        "id": "geuPzbguhNcM"
      }
    },
    {
      "cell_type": "code",
      "source": [
        "val_dataset = pd.read_excel(\"/content/drive/MyDrive/KCCP/Good.xlsx\")"
      ],
      "metadata": {
        "id": "hKtu8_vaLAcO"
      },
      "execution_count": null,
      "outputs": []
    },
    {
      "cell_type": "code",
      "source": [
        "val_dataset"
      ],
      "metadata": {
        "colab": {
          "base_uri": "https://localhost:8080/",
          "height": 424
        },
        "id": "Nt1GDujMiMRZ",
        "outputId": "7d781a88-0093-4794-9512-c846ccc813e9"
      },
      "execution_count": null,
      "outputs": [
        {
          "output_type": "execute_result",
          "data": {
            "text/plain": [
              "            Time      bb10      bb11      bb12      tnh_rpm         TNH  \\\n",
              "0        30:44.8  0.271514  0.261985  0.057787  3004.160889  100.138695   \n",
              "1        30:44.8  0.270700  0.260759  0.058191  3004.177490  100.139244   \n",
              "2        30:44.9  0.271818  0.262390  0.058600  3004.161865  100.138725   \n",
              "3        30:44.9  0.271769  0.261172  0.058197  3004.133545  100.137779   \n",
              "4        30:44.9  0.271509  0.261170  0.058196  3004.130615  100.137680   \n",
              "...          ...       ...       ...       ...          ...         ...   \n",
              "1048570  09:47.6  0.258344  0.248970  0.065151  3002.762695  100.092087   \n",
              "1048571  09:47.6  0.257934  0.248152  0.065149  3002.765625  100.092186   \n",
              "1048572  09:47.7  0.257644  0.248152  0.065148  3002.783691  100.092789   \n",
              "1048573  09:47.7  0.258053  0.248152  0.065555  3002.741455  100.091377   \n",
              "1048574  09:47.7  0.258460  0.248154  0.065558  3002.771484  100.092377   \n",
              "\n",
              "              DWATT       dvar       btgj1       btgj2  \n",
              "0        101.155884  40.242916  195.235535  193.122803  \n",
              "1        101.155777  40.362080  195.235535  193.122803  \n",
              "2        101.162529  40.254868  195.235535  193.122803  \n",
              "3        101.149017  40.350147  195.235535  193.122803  \n",
              "4        101.176155  40.266781  195.286911  193.279739  \n",
              "...             ...        ...         ...         ...  \n",
              "1048570  103.021057  33.597572  193.706924  191.910965  \n",
              "1048571  103.000610  33.633339  193.706924  191.910965  \n",
              "1048572  102.987068  33.669037  193.549912  191.859726  \n",
              "1048573  102.953171  33.585594  193.549912  191.859726  \n",
              "1048574  102.939583  33.597527  193.549912  191.859726  \n",
              "\n",
              "[1048575 rows x 10 columns]"
            ],
            "text/html": [
              "\n",
              "  <div id=\"df-36a47bed-352c-4af6-87dd-78ac326d37ba\">\n",
              "    <div class=\"colab-df-container\">\n",
              "      <div>\n",
              "<style scoped>\n",
              "    .dataframe tbody tr th:only-of-type {\n",
              "        vertical-align: middle;\n",
              "    }\n",
              "\n",
              "    .dataframe tbody tr th {\n",
              "        vertical-align: top;\n",
              "    }\n",
              "\n",
              "    .dataframe thead th {\n",
              "        text-align: right;\n",
              "    }\n",
              "</style>\n",
              "<table border=\"1\" class=\"dataframe\">\n",
              "  <thead>\n",
              "    <tr style=\"text-align: right;\">\n",
              "      <th></th>\n",
              "      <th>Time</th>\n",
              "      <th>bb10</th>\n",
              "      <th>bb11</th>\n",
              "      <th>bb12</th>\n",
              "      <th>tnh_rpm</th>\n",
              "      <th>TNH</th>\n",
              "      <th>DWATT</th>\n",
              "      <th>dvar</th>\n",
              "      <th>btgj1</th>\n",
              "      <th>btgj2</th>\n",
              "    </tr>\n",
              "  </thead>\n",
              "  <tbody>\n",
              "    <tr>\n",
              "      <th>0</th>\n",
              "      <td>30:44.8</td>\n",
              "      <td>0.271514</td>\n",
              "      <td>0.261985</td>\n",
              "      <td>0.057787</td>\n",
              "      <td>3004.160889</td>\n",
              "      <td>100.138695</td>\n",
              "      <td>101.155884</td>\n",
              "      <td>40.242916</td>\n",
              "      <td>195.235535</td>\n",
              "      <td>193.122803</td>\n",
              "    </tr>\n",
              "    <tr>\n",
              "      <th>1</th>\n",
              "      <td>30:44.8</td>\n",
              "      <td>0.270700</td>\n",
              "      <td>0.260759</td>\n",
              "      <td>0.058191</td>\n",
              "      <td>3004.177490</td>\n",
              "      <td>100.139244</td>\n",
              "      <td>101.155777</td>\n",
              "      <td>40.362080</td>\n",
              "      <td>195.235535</td>\n",
              "      <td>193.122803</td>\n",
              "    </tr>\n",
              "    <tr>\n",
              "      <th>2</th>\n",
              "      <td>30:44.9</td>\n",
              "      <td>0.271818</td>\n",
              "      <td>0.262390</td>\n",
              "      <td>0.058600</td>\n",
              "      <td>3004.161865</td>\n",
              "      <td>100.138725</td>\n",
              "      <td>101.162529</td>\n",
              "      <td>40.254868</td>\n",
              "      <td>195.235535</td>\n",
              "      <td>193.122803</td>\n",
              "    </tr>\n",
              "    <tr>\n",
              "      <th>3</th>\n",
              "      <td>30:44.9</td>\n",
              "      <td>0.271769</td>\n",
              "      <td>0.261172</td>\n",
              "      <td>0.058197</td>\n",
              "      <td>3004.133545</td>\n",
              "      <td>100.137779</td>\n",
              "      <td>101.149017</td>\n",
              "      <td>40.350147</td>\n",
              "      <td>195.235535</td>\n",
              "      <td>193.122803</td>\n",
              "    </tr>\n",
              "    <tr>\n",
              "      <th>4</th>\n",
              "      <td>30:44.9</td>\n",
              "      <td>0.271509</td>\n",
              "      <td>0.261170</td>\n",
              "      <td>0.058196</td>\n",
              "      <td>3004.130615</td>\n",
              "      <td>100.137680</td>\n",
              "      <td>101.176155</td>\n",
              "      <td>40.266781</td>\n",
              "      <td>195.286911</td>\n",
              "      <td>193.279739</td>\n",
              "    </tr>\n",
              "    <tr>\n",
              "      <th>...</th>\n",
              "      <td>...</td>\n",
              "      <td>...</td>\n",
              "      <td>...</td>\n",
              "      <td>...</td>\n",
              "      <td>...</td>\n",
              "      <td>...</td>\n",
              "      <td>...</td>\n",
              "      <td>...</td>\n",
              "      <td>...</td>\n",
              "      <td>...</td>\n",
              "    </tr>\n",
              "    <tr>\n",
              "      <th>1048570</th>\n",
              "      <td>09:47.6</td>\n",
              "      <td>0.258344</td>\n",
              "      <td>0.248970</td>\n",
              "      <td>0.065151</td>\n",
              "      <td>3002.762695</td>\n",
              "      <td>100.092087</td>\n",
              "      <td>103.021057</td>\n",
              "      <td>33.597572</td>\n",
              "      <td>193.706924</td>\n",
              "      <td>191.910965</td>\n",
              "    </tr>\n",
              "    <tr>\n",
              "      <th>1048571</th>\n",
              "      <td>09:47.6</td>\n",
              "      <td>0.257934</td>\n",
              "      <td>0.248152</td>\n",
              "      <td>0.065149</td>\n",
              "      <td>3002.765625</td>\n",
              "      <td>100.092186</td>\n",
              "      <td>103.000610</td>\n",
              "      <td>33.633339</td>\n",
              "      <td>193.706924</td>\n",
              "      <td>191.910965</td>\n",
              "    </tr>\n",
              "    <tr>\n",
              "      <th>1048572</th>\n",
              "      <td>09:47.7</td>\n",
              "      <td>0.257644</td>\n",
              "      <td>0.248152</td>\n",
              "      <td>0.065148</td>\n",
              "      <td>3002.783691</td>\n",
              "      <td>100.092789</td>\n",
              "      <td>102.987068</td>\n",
              "      <td>33.669037</td>\n",
              "      <td>193.549912</td>\n",
              "      <td>191.859726</td>\n",
              "    </tr>\n",
              "    <tr>\n",
              "      <th>1048573</th>\n",
              "      <td>09:47.7</td>\n",
              "      <td>0.258053</td>\n",
              "      <td>0.248152</td>\n",
              "      <td>0.065555</td>\n",
              "      <td>3002.741455</td>\n",
              "      <td>100.091377</td>\n",
              "      <td>102.953171</td>\n",
              "      <td>33.585594</td>\n",
              "      <td>193.549912</td>\n",
              "      <td>191.859726</td>\n",
              "    </tr>\n",
              "    <tr>\n",
              "      <th>1048574</th>\n",
              "      <td>09:47.7</td>\n",
              "      <td>0.258460</td>\n",
              "      <td>0.248154</td>\n",
              "      <td>0.065558</td>\n",
              "      <td>3002.771484</td>\n",
              "      <td>100.092377</td>\n",
              "      <td>102.939583</td>\n",
              "      <td>33.597527</td>\n",
              "      <td>193.549912</td>\n",
              "      <td>191.859726</td>\n",
              "    </tr>\n",
              "  </tbody>\n",
              "</table>\n",
              "<p>1048575 rows × 10 columns</p>\n",
              "</div>\n",
              "      <button class=\"colab-df-convert\" onclick=\"convertToInteractive('df-36a47bed-352c-4af6-87dd-78ac326d37ba')\"\n",
              "              title=\"Convert this dataframe to an interactive table.\"\n",
              "              style=\"display:none;\">\n",
              "        \n",
              "  <svg xmlns=\"http://www.w3.org/2000/svg\" height=\"24px\"viewBox=\"0 0 24 24\"\n",
              "       width=\"24px\">\n",
              "    <path d=\"M0 0h24v24H0V0z\" fill=\"none\"/>\n",
              "    <path d=\"M18.56 5.44l.94 2.06.94-2.06 2.06-.94-2.06-.94-.94-2.06-.94 2.06-2.06.94zm-11 1L8.5 8.5l.94-2.06 2.06-.94-2.06-.94L8.5 2.5l-.94 2.06-2.06.94zm10 10l.94 2.06.94-2.06 2.06-.94-2.06-.94-.94-2.06-.94 2.06-2.06.94z\"/><path d=\"M17.41 7.96l-1.37-1.37c-.4-.4-.92-.59-1.43-.59-.52 0-1.04.2-1.43.59L10.3 9.45l-7.72 7.72c-.78.78-.78 2.05 0 2.83L4 21.41c.39.39.9.59 1.41.59.51 0 1.02-.2 1.41-.59l7.78-7.78 2.81-2.81c.8-.78.8-2.07 0-2.86zM5.41 20L4 18.59l7.72-7.72 1.47 1.35L5.41 20z\"/>\n",
              "  </svg>\n",
              "      </button>\n",
              "      \n",
              "  <style>\n",
              "    .colab-df-container {\n",
              "      display:flex;\n",
              "      flex-wrap:wrap;\n",
              "      gap: 12px;\n",
              "    }\n",
              "\n",
              "    .colab-df-convert {\n",
              "      background-color: #E8F0FE;\n",
              "      border: none;\n",
              "      border-radius: 50%;\n",
              "      cursor: pointer;\n",
              "      display: none;\n",
              "      fill: #1967D2;\n",
              "      height: 32px;\n",
              "      padding: 0 0 0 0;\n",
              "      width: 32px;\n",
              "    }\n",
              "\n",
              "    .colab-df-convert:hover {\n",
              "      background-color: #E2EBFA;\n",
              "      box-shadow: 0px 1px 2px rgba(60, 64, 67, 0.3), 0px 1px 3px 1px rgba(60, 64, 67, 0.15);\n",
              "      fill: #174EA6;\n",
              "    }\n",
              "\n",
              "    [theme=dark] .colab-df-convert {\n",
              "      background-color: #3B4455;\n",
              "      fill: #D2E3FC;\n",
              "    }\n",
              "\n",
              "    [theme=dark] .colab-df-convert:hover {\n",
              "      background-color: #434B5C;\n",
              "      box-shadow: 0px 1px 3px 1px rgba(0, 0, 0, 0.15);\n",
              "      filter: drop-shadow(0px 1px 2px rgba(0, 0, 0, 0.3));\n",
              "      fill: #FFFFFF;\n",
              "    }\n",
              "  </style>\n",
              "\n",
              "      <script>\n",
              "        const buttonEl =\n",
              "          document.querySelector('#df-36a47bed-352c-4af6-87dd-78ac326d37ba button.colab-df-convert');\n",
              "        buttonEl.style.display =\n",
              "          google.colab.kernel.accessAllowed ? 'block' : 'none';\n",
              "\n",
              "        async function convertToInteractive(key) {\n",
              "          const element = document.querySelector('#df-36a47bed-352c-4af6-87dd-78ac326d37ba');\n",
              "          const dataTable =\n",
              "            await google.colab.kernel.invokeFunction('convertToInteractive',\n",
              "                                                     [key], {});\n",
              "          if (!dataTable) return;\n",
              "\n",
              "          const docLinkHtml = 'Like what you see? Visit the ' +\n",
              "            '<a target=\"_blank\" href=https://colab.research.google.com/notebooks/data_table.ipynb>data table notebook</a>'\n",
              "            + ' to learn more about interactive tables.';\n",
              "          element.innerHTML = '';\n",
              "          dataTable['output_type'] = 'display_data';\n",
              "          await google.colab.output.renderOutput(dataTable, element);\n",
              "          const docLink = document.createElement('div');\n",
              "          docLink.innerHTML = docLinkHtml;\n",
              "          element.appendChild(docLink);\n",
              "        }\n",
              "      </script>\n",
              "    </div>\n",
              "  </div>\n",
              "  "
            ]
          },
          "metadata": {},
          "execution_count": 49
        }
      ]
    },
    {
      "cell_type": "code",
      "source": [
        "len(val_dataset)"
      ],
      "metadata": {
        "colab": {
          "base_uri": "https://localhost:8080/"
        },
        "id": "eerjRY8nyB-b",
        "outputId": "4c80941a-630c-42e8-a400-19dbd6887257"
      },
      "execution_count": null,
      "outputs": [
        {
          "output_type": "execute_result",
          "data": {
            "text/plain": [
              "1048575"
            ]
          },
          "metadata": {},
          "execution_count": 50
        }
      ]
    },
    {
      "cell_type": "code",
      "source": [
        "import torch.utils.data as data_utils\n",
        "\n",
        "def sig_image(data,size):\n",
        "    X=np.zeros((data.shape[0],size,size))\n",
        "    for i in range(data.shape[0]):\n",
        "        X[i]=(data[i,:].reshape(size,size))\n",
        "    return X.astype(np.float16)\n",
        "\n",
        "def val_test(val_A, val_B, val_C, val_D):\n",
        "  # bb10\n",
        "  x_A = sig_image(np.array(val_A),10)\n",
        "\n",
        "  # TNH\n",
        "  x_B = sig_image(np.array(val_B),10)\n",
        "\n",
        "  # DWATT\n",
        "  x_C = sig_image(np.array(val_C),10)\n",
        "\n",
        "  # btgj1\n",
        "  x_D = sig_image(np.array(val_D),10)\n",
        "\n",
        "  sig_test1 = np.stack((x_A,x_B,x_C,x_D),axis=1).astype(np.float16)\n",
        "\n",
        "  sig_test = torch.from_numpy(sig_test1)\n",
        "  lab_test = torch.torch.tensor([0])\n",
        "\n",
        "  batch_size = 512\n",
        "  test_tensor = data_utils.TensorDataset(sig_test, lab_test) \n",
        "  test_loader = data_utils.DataLoader(dataset = test_tensor, batch_size = batch_size, shuffle = False)\n",
        "\n",
        "  criterion = nn.CrossEntropyLoss()\n",
        "  # optimizer = torch.optim.Adam(cnn.parameters(), lr=0.0001)\n",
        "\n",
        "  total_step = len(test_loader)\n",
        "  # print(total_step)\n",
        "  loss_list_test = []\n",
        "  acc_list_test = []\n",
        "  with torch.no_grad():\n",
        "      for i, (signals, labels) in enumerate(test_loader):\n",
        "          # Run the forward pass\n",
        "          # print(labels)\n",
        "          signals=signals\n",
        "          labels=labels\n",
        "          outputs = cnn(signals.double())\n",
        "          loss = criterion(outputs, labels.long())\n",
        "          loss_list_test.append(loss.item())\n",
        "          # if epoch%10 ==0:\n",
        "          #     print(loss)\n",
        "          total = labels.size(0)\n",
        "          _, predicted = torch.max(outputs.data, 1)\n",
        "          correct = (predicted == labels.long()).sum().item()\n",
        "          acc_list_test.append(correct / total)\n",
        "          #print(outputs.shape)\n",
        "          # print(outputs)\n",
        "          # print(predicted)\n",
        "          return predicted.item()\n",
        "          #print(labels.shape)\n",
        "          # if (epoch) % 1 == 0:\n",
        "          #     print('Epoch [{}/{}], Step [{}/{}], Loss: {:.4f}, Accuracy: {:.2f}%'\n",
        "          #           .format(epoch + 1, num_epochs, i + 1, total_step, loss.item(),\n",
        "          #                   (correct / total) * 100))"
      ],
      "metadata": {
        "id": "LRyJCnFK7pXY"
      },
      "execution_count": null,
      "outputs": []
    },
    {
      "cell_type": "code",
      "source": [
        "a1 = min(GoodDataA_scaled)\n",
        "l1 = max(GoodDataA_scaled)-min(GoodDataA_scaled)\n",
        "\n",
        "a2 = min(GoodDataB_scaled)\n",
        "l2 = max(GoodDataB_scaled)-min(GoodDataB_scaled)\n",
        "\n",
        "a3 = min(GoodDataC_scaled)\n",
        "l3 = max(GoodDataC_scaled)-min(GoodDataC_scaled)\n",
        "\n",
        "a4 = min(GoodDataD_scaled)\n",
        "l4 = max(GoodDataD_scaled)-min(GoodDataD_scaled)\n",
        "\n",
        "Time = []\n",
        "predicted_list =[]\n",
        "for i in range(100): #len(val_dataset)\n",
        "  val_list1 = []\n",
        "  val_list2 = []\n",
        "  val_list3 = []\n",
        "  val_list4 = []\n",
        "\n",
        "  for index,row in val_dataset[i:(100+i)].iterrows():\n",
        "    val_list1.append((row['bb10']-a1)/l1)\n",
        "    val_list2.append((row['TNH']-a2)/l2)\n",
        "    val_list3.append((row['DWATT']-a3)/l3)\n",
        "    val_list4.append((row['btgj1']-a4)/l4)\n",
        "  \n",
        "  val_A = []\n",
        "  val_B = []\n",
        "  val_C = []\n",
        "  val_D = []\n",
        "\n",
        "  val_A.append(val_list1)\n",
        "  val_B.append(val_list2)\n",
        "  val_C.append(val_list3)\n",
        "  val_D.append(val_list4)\n",
        "\n",
        "  # time = val_dataset['Time'][i+100]\n",
        "  # Time.append(time)\n",
        "  predicted = val_test(val_A, val_B, val_C, val_D)\n",
        "  predicted_list.append(predicted)\n",
        "  # print(predicted)\n",
        "\n",
        "print(predicted_list)\n",
        "print(val_dataset['Time'])\n",
        "import matplotlib.pyplot as plt\n",
        "# plt.plot(Time, predicted_list, 'r')\n",
        "# # plt.plot(b, acc_list_test, 'b')\n",
        "# plt.xlabel('Time')\n",
        "# plt.ylabel('predicted')\n",
        "# plt.show()\n"
      ],
      "metadata": {
        "id": "74D43xPygEQl"
      },
      "execution_count": null,
      "outputs": []
    },
    {
      "cell_type": "code",
      "source": [
        "bb10 = np.array(val_dataset.loc[:, 'bb10'])\n",
        "TNH = np.array(val_dataset.loc[:, 'TNH'])\n",
        "DWATT = np.array(val_dataset.loc[:, 'DWATT'])\n",
        "btgj1 = np.array(val_dataset.loc[:, 'btgj1'])"
      ],
      "metadata": {
        "id": "quC3C-dg4KSd"
      },
      "execution_count": null,
      "outputs": []
    },
    {
      "cell_type": "code",
      "source": [
        "bb10"
      ],
      "metadata": {
        "colab": {
          "base_uri": "https://localhost:8080/"
        },
        "id": "x_fgL58Zenx9",
        "outputId": "ee4b9453-3c8c-4ac1-e8ac-a89a5c6e4fa6"
      },
      "execution_count": null,
      "outputs": [
        {
          "output_type": "execute_result",
          "data": {
            "text/plain": [
              "array([0.27151445, 0.27070025, 0.27181765, ..., 0.25764421, 0.25805345,\n",
              "       0.25845978])"
            ]
          },
          "metadata": {},
          "execution_count": 22
        }
      ]
    },
    {
      "cell_type": "code",
      "source": [
        "a = min(GoodDataB_scaled)\n",
        "l = max(GoodDataB_scaled)-min(GoodDataB_scaled)\n",
        "\n",
        "for i in bb10[100:105]:\n",
        "  \n"
      ],
      "metadata": {
        "id": "6BAA0-_H5mtc",
        "colab": {
          "base_uri": "https://localhost:8080/"
        },
        "outputId": "d03507f5-507a-4ba9-a4b8-9da0d97ddfd7"
      },
      "execution_count": null,
      "outputs": [
        {
          "output_type": "stream",
          "name": "stdout",
          "text": [
            "0.269486934\n",
            "0.268669576\n",
            "0.268534362\n",
            "0.268668205\n",
            "0.269075513\n"
          ]
        }
      ]
    },
    {
      "cell_type": "code",
      "source": [],
      "metadata": {
        "id": "-NI9pUvJdZaW"
      },
      "execution_count": null,
      "outputs": []
    }
  ],
  "metadata": {
    "colab": {
      "provenance": []
    },
    "gpuClass": "standard",
    "kernelspec": {
      "display_name": "Python 3 (ipykernel)",
      "language": "python",
      "name": "python3"
    },
    "language_info": {
      "codemirror_mode": {
        "name": "ipython",
        "version": 3
      },
      "file_extension": ".py",
      "mimetype": "text/x-python",
      "name": "python",
      "nbconvert_exporter": "python",
      "pygments_lexer": "ipython3",
      "version": "3.9.13"
    },
    "accelerator": "GPU"
  },
  "nbformat": 4,
  "nbformat_minor": 0
}